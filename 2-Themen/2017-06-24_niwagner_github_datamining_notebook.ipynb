{
 "cells": [
  {
   "cell_type": "markdown",
   "metadata": {},
   "source": [
    "# GitHub Mining"
   ]
  },
  {
   "cell_type": "markdown",
   "metadata": {},
   "source": [
    "### Einführung"
   ]
  },
  {
   "cell_type": "markdown",
   "metadata": {},
   "source": [
    "Gleich zu Beginn soll die Frage geklärt werden, wofür GitHub verwendet wird und welchen Nutzen man aus dem Sammeln der Daten ziehen kann.\n",
    ">GitHub ist ein webbasierter Online-Dienst, der Software-Entwicklungsprojekte auf seinen Servern bereitstellt (Filehosting). Im Gegensatz zu anderen Dienstleistern zur Verwaltung quelloffener Software steht auf GitHub nicht das Projekt als Sammlung von Quellcode im Zentrum, sondern der Nutzer mit seinen Quelltext-Datenbanken, den sogenannten repositories. Auch das Erstellen (branchen) und Zusammenführen (mergen) von Abspaltungen (forks) steht besonders im Mittelpunkt. Die sogenannten forks machen das Mitentwickeln bei fremden Projekten besonders einfach: Um dort einen Beitrag beizusteuern, wird das Repository zunächst abgespalten, dann werden die zu übernehmenden Änderungen hinzugefügt und dem Besitzer des Originals eine Anfrage (pull request) gestellt, die Änderungen zu übernehmen. Damit wird unter Berücksichtigung der Besonderheiten verteilter Versionskontrollsysteme ein soziales Netzwerk geschaffen, was sich auch in den aus „normalen“ sozialen Netzwerken bekannten Funktionen „Beobachten“ oder „Folgen“ zeigt.\n"
   ]
  },
  {
   "cell_type": "markdown",
   "metadata": {},
   "source": [
    "### Überblick"
   ]
  },
  {
   "cell_type": "markdown",
   "metadata": {},
   "source": [
    "Der Schwerpunkt dieses Kapitels wird sein, wie man die Beziehungen zwischen GitHub, den users und repositories als interest graph behandelt.\n",
    "* GitHubs Entwicklerplattform und wie man API requests erstellt\n",
    "* Graphen-Schemas und Modellierung von property graphs mit NetworkX\n",
    "* Konzept des interest graphs und wie ein interest graph anhand GitHub-Daten erstellt wird\n",
    "* Abfragen von property graphs mittels NetworkX"
   ]
  },
  {
   "cell_type": "markdown",
   "metadata": {},
   "source": [
    "## Begriffserklärungen"
   ]
  },
  {
   "cell_type": "markdown",
   "metadata": {},
   "source": [
    "### GitHub API\n",
    ">Da die [GitHub developer site](https://developer.github.com/v3/) eine viel zu umfassende Dokumentation aller APIs bietet, werden wir uns mit ein paar wenigen APIs auseinandersetzen, die wir benötigen um Daten für interest graphs zu sammeln. Die wichtigsten Stammfunktionen für GitHub sind *users* und *projects*. Ein GitHub-User hat ein öffentliches Profil, welches generell ein oder mehrere repositories beinhält, die entweder erstellt oder *geforked* wurden. Zusätzlich können user andere Projekte bookmarken oder einen Stern vergeben, wodurch sie zu sogenannten *stargazers* dieses Projekts werden.\n",
    "\n",
    "### repository\n",
    ">Ein Repository (oder kurz repo) kann bei GitHub einfach als „Projekt“ verstanden werden. Sämtliche Dateien für ein Software-Projekt werden in einem Repository abgelegt.\n",
    "\n",
    "### stargazer\n",
    ">*Starring* oder *stargazen* eines repositories erlaubt es, beim jeweiligen Projekt auf dem Laufenden zu bleiben, selbst wenn man nicht daran beteiligt ist. Die Sterne werden neben dem repository angezeigt und sollen veranschaulichen, wie groß das Interesse anderer user an diesem repository ist.\n",
    "\n",
    "### fork\n",
    ">Da alle öffentlichen Git-Projekte unter OpenSource-Lizenz stehen, kann auch jeder einen eigenen Ableger eines repositories, einen sogenannten fork starten. Dort kann jeder privat vor sich hin entwickeln und seine Version am Ende wieder dem ursprünglichen Projekt zuführen (pull request stellen) – oder aber einfach eine eigenständige Variante verbreiten."
   ]
  },
  {
   "cell_type": "markdown",
   "metadata": {},
   "source": [
    "## 1. Erstellen der GitHub API-Verbindung"
   ]
  },
  {
   "cell_type": "markdown",
   "metadata": {},
   "source": [
    "Es gibt die Möglichkeit bestätigte (authenticated) und unbestätigte (unauthenticated) requests auszugeben:\n",
    "* auth:   5.000 requests per hour (großzügig!)\n",
    "* unauth: 60 requests per hour (ausreichend zum herumexperimentieren)"
   ]
  },
  {
   "cell_type": "markdown",
   "metadata": {},
   "source": [
    "Für unser GitHub Mining Script arbeiten wir mit dem Profil von Matthew A.Russell, der mit seinen Publikationen \n",
    "* Mining the social Web &\n",
    "* Mining the social Web 2nd Edition\n",
    "\n",
    "diesbezüglich einen großen Bekanntheitsgrad auf GitHub erlangt hat. Die große Zahl an *stargazern* und *followern* eignet sich gut für statistische Auswertungen.\n",
    ">**user:** ptwobrussell\n",
    "\n",
    ">**repository:** Mining-the-Social-Web-2nd-Edition"
   ]
  },
  {
   "cell_type": "markdown",
   "metadata": {},
   "source": [
    "Wir verwenden die Bibliothek *requests*, die es erlaubt HTTP-Anfragen mittels Python zu versenden. Zusätzlich können *headers* und diverse Parameter mit ausgegeben werden."
   ]
  },
  {
   "cell_type": "code",
   "execution_count": 1,
   "metadata": {
    "collapsed": true
   },
   "outputs": [],
   "source": [
    "import requests\n",
    "import json"
   ]
  },
  {
   "cell_type": "markdown",
   "metadata": {},
   "source": [
    "**Bsp.: 1** - Erstellen des persönlichen API access Tokens zum bestätigten Verbindungsaufbau"
   ]
  },
  {
   "cell_type": "code",
   "execution_count": 2,
   "metadata": {
    "collapsed": true
   },
   "outputs": [],
   "source": [
    "from getpass import getpass"
   ]
  },
  {
   "cell_type": "code",
   "execution_count": 5,
   "metadata": {},
   "outputs": [
    {
     "name": "stdout",
     "output_type": "stream",
     "text": [
      "API response: {\"id\":111840130,\"url\":\"https://api.github.com/authorizations/111840130\",\"app\":{\"name\":\"test\",\"url\":\"https://developer.github.com/v3/oauth_authorizations/\",\"client_id\":\"00000000000000000000\"},\"token\":\"b647f0380da1f75c9a5dec8363922632a4b147ad\",\"hashed_token\":\"b50682118dd5d19552a55184a3e2b55f26f1890d465d96f9eef74abc5ebd2d5a\",\"token_last_eight\":\"a4b147ad\",\"note\":\"test\",\"note_url\":null,\"created_at\":\"2017-06-29T14:51:32Z\",\"updated_at\":\"2017-06-29T14:51:32Z\",\"scopes\":[\"repo\"],\"fingerprint\":null}\n",
      "\n",
      "Dein OAuth Token lautet: b647f0380da1f75c9a5dec8363922632a4b147ad\n"
     ]
    }
   ],
   "source": [
    "username = 'xxx' # Dein GitHub username\n",
    "password = 'xxx' # Dein GitHub password\n",
    "url = 'https://api.github.com/authorizations' \n",
    "note = 'xxx' # Tokenbezeichnung\n",
    "post_data = {'scopes':['repo'],'note': note }\n",
    "\n",
    "response = requests.post(url, auth = (username, password), data = json.dumps(post_data))   \n",
    "\n",
    "print(\"API response:\", response.text) # Hier ist der Token bereits auszulesen\n",
    "print()\n",
    "print(\"Dein OAuth Token lautet:\", response.json()['token']) # Zur besseren Sichtbarkeit"
   ]
  },
  {
   "cell_type": "markdown",
   "metadata": {},
   "source": [
    "**Hinweis:**\n",
    "Dieser Token kann [hier](https://github.com/settings/tokens) wieder entfernt werden. Mithilfe des Tokens ist es für jeden möglich, sich unabhängig von username und password, mit dem jeweiligen GitHub-Profil anzumelden. Sollte der Token versehentlich auf GitHub mit hochgeladen werden, erkennt GitHub das und verwirft diesen automatisch. **Das gilt nicht für die restlichen Nutzerdaten!**"
   ]
  },
  {
   "cell_type": "markdown",
   "metadata": {},
   "source": [
    "**Bsp.: 2** - Erstellen direkter HTTP requests an die GitHub API\n",
    "\n",
    "Hier wird ein unbestätigter request ausgeführt, der keinen ?access_token=xxx query string beinhaltet."
   ]
  },
  {
   "cell_type": "code",
   "execution_count": 6,
   "metadata": {},
   "outputs": [],
   "source": [
    "url = \"https://api.github.com/repos/ptwobrussell/Mining-the-Social-Web-2nd-Edition/stargazers\"\n",
    "response = requests.get(url)"
   ]
  },
  {
   "cell_type": "code",
   "execution_count": 7,
   "metadata": {},
   "outputs": [
    {
     "name": "stdout",
     "output_type": "stream",
     "text": [
      "Server => GitHub.com\n",
      "Date => Thu, 29 Jun 2017 14:52:34 GMT\n",
      "Content-Type => application/json; charset=utf-8\n",
      "Transfer-Encoding => chunked\n",
      "Status => 200 OK\n",
      "X-RateLimit-Limit => 60\n",
      "X-RateLimit-Remaining => 57\n",
      "X-RateLimit-Reset => 1498751366\n",
      "Cache-Control => public, max-age=60, s-maxage=60\n",
      "Vary => Accept, Accept-Encoding\n",
      "ETag => W/\"bce16fe7a2c46897ecebc2f163daa4f7\"\n",
      "X-GitHub-Media-Type => github.v3; format=json\n",
      "Link => <https://api.github.com/repositories/9784365/stargazers?page=2>; rel=\"next\", <https://api.github.com/repositories/9784365/stargazers?page=78>; rel=\"last\"\n",
      "Access-Control-Expose-Headers => ETag, Link, X-GitHub-OTP, X-RateLimit-Limit, X-RateLimit-Remaining, X-RateLimit-Reset, X-OAuth-Scopes, X-Accepted-OAuth-Scopes, X-Poll-Interval\n",
      "Access-Control-Allow-Origin => *\n",
      "Content-Security-Policy => default-src 'none'\n",
      "Strict-Transport-Security => max-age=31536000; includeSubdomains; preload\n",
      "X-Content-Type-Options => nosniff\n",
      "X-Frame-Options => deny\n",
      "X-XSS-Protection => 1; mode=block\n",
      "X-Runtime-rack => 0.059255\n",
      "X-Served-By => e14705a23c085afeff5e104b1fc3922a\n",
      "Content-Encoding => gzip\n",
      "X-GitHub-Request-Id => 0A13:2843D:5A4F2B4:771E56E:59551432\n"
     ]
    }
   ],
   "source": [
    "for (k,v) in response.headers.items():\n",
    "    print(k, \"=>\", v) # Zeige header"
   ]
  },
  {
   "cell_type": "markdown",
   "metadata": {},
   "source": [
    "**GitHub gibt uns bereits hier nützliche Informationen zurück, wie...**\n",
    "* den Status des requests [ok]\n",
    "* das X-RateLimit-Limit => 60\n",
    "* und das X-RateLimit-Remaining"
   ]
  },
  {
   "cell_type": "markdown",
   "metadata": {},
   "source": [
    "## 1.1. Erstellen von GiHub API Requests"
   ]
  },
  {
   "cell_type": "markdown",
   "metadata": {},
   "source": [
    "Obwohl es möglich ist, Bibliotheken wie *request* zu verwenden und die Informationen selbst herauszuanalysieren, ist es für uns einfacher Bibliotheken wie PyGithub zu verwenden"
   ]
  },
  {
   "cell_type": "markdown",
   "metadata": {},
   "source": [
    "**Hinweis:** \n",
    "\n",
    "Wir werden für den weiteren Gebrauch die Python Bibliothek **PyGitHub** verwenden\n",
    "\n",
    "> **pip install pygithub**"
   ]
  },
  {
   "cell_type": "markdown",
   "metadata": {},
   "source": [
    "**Bsp.: 3** - Verwenden von PyGithub, um die Anzahl *stargazer* eines bestimmten repositories abzufragen"
   ]
  },
  {
   "cell_type": "code",
   "execution_count": 9,
   "metadata": {
    "collapsed": true
   },
   "outputs": [],
   "source": [
    "from github import Github"
   ]
  },
  {
   "cell_type": "code",
   "execution_count": 11,
   "metadata": {},
   "outputs": [
    {
     "name": "stdout",
     "output_type": "stream",
     "text": [
      "Anzahl der stargazer: 2329\n"
     ]
    }
   ],
   "source": [
    "ACCESS_TOKEN = 'b647f0380da1f75c9a5dec8363922632a4b147ad' # Hier das erstellte token einfügen\n",
    "\n",
    "USER = 'ptwobrussell' # Hier den  GitHub user...\n",
    "REPO = 'Mining-the-Social-Web-2nd-Edition' # ...samt gewünschtem repository einfügen\n",
    "\n",
    "client = Github(ACCESS_TOKEN, per_page=100)\n",
    "user = client.get_user(USER)\n",
    "repo = user.get_repo(REPO)\n",
    "\n",
    "stargazers = [ s for s in repo.get_stargazers() ]\n",
    "print(\"Anzahl der stargazer:\", len(stargazers))"
   ]
  },
  {
   "cell_type": "markdown",
   "metadata": {
    "collapsed": true
   },
   "source": [
    "Wir haben nun eine authentifizierte Verbindung zu GitHub aufgebaut und erfolgreich die Anzahl der stargazer abgefragt.\n",
    "\n",
    "Eine genaue Beschreibung der \"API implementation details\" lässt sich in der [PyGithub Dokumentation](http://pygithub.github.io/PyGithub/v1/index.html) nachlesen."
   ]
  },
  {
   "cell_type": "markdown",
   "metadata": {},
   "source": [
    "## 2. Modeling Data with Property Graphs"
   ]
  },
  {
   "cell_type": "markdown",
   "metadata": {},
   "source": [
    "Ein property graph ist eine Datenstruktur, die *entities* (Objekte) mit *nodes* und die Beziehung zwischen den Objekten mit *edges* darstellt\n",
    "\n",
    "**Figur 2.1** - zeigt ein sehr einfaches Beispiel eines property graphs mit zwei *nodes*, welche eindeutig durch *X* und *Y* identifizierbar sind. Die Beziehung dazwischen ist nicht näher beschrieben"
   ]
  },
  {
   "cell_type": "markdown",
   "metadata": {},
   "source": [
    "![alt text](https://github.com/nick90/github-mining/blob/master/pg.png?raw=true \"propertygraph\")\n",
    "    Figur 2.1"
   ]
  },
  {
   "cell_type": "markdown",
   "metadata": {},
   "source": [
    "**Hinweis:**\n",
    "\n",
    "Als Code ausgedrückt kann ein einfacher property graph wie in **Bsp.: 4** über **networkx** konstruiert werden.\n",
    "\n",
    "*Die Installation der NetworkX-Bibliothek erfolgt über das Terminal*\n",
    ">**pip install networkx**"
   ]
  },
  {
   "cell_type": "markdown",
   "metadata": {},
   "source": [
    "**Bsp.: 4** - Erstellen eines einfachen property graph"
   ]
  },
  {
   "cell_type": "code",
   "execution_count": 16,
   "metadata": {
    "collapsed": true
   },
   "outputs": [],
   "source": [
    "import networkx as nx"
   ]
  },
  {
   "cell_type": "code",
   "execution_count": 17,
   "metadata": {},
   "outputs": [
    {
     "name": "stdout",
     "output_type": "stream",
     "text": [
      "Name: \n",
      "Type: DiGraph\n",
      "Number of nodes: 2\n",
      "Number of edges: 1\n",
      "Average in degree:   0.5000\n",
      "Average out degree:   0.5000\n",
      "\n",
      "Nodes: ['X', 'Y']\n",
      "Edges: [('X', 'Y')]\n",
      "\n",
      "X props: {}\n",
      "Y props: {}\n",
      "X=>Y props: {}\n",
      "\n",
      "X props: {'prop1': 'value1'}\n",
      "\n",
      "X=>Y props: {'label': 'label1'}\n"
     ]
    }
   ],
   "source": [
    "# Erstellen des gezielten Graphen\n",
    "g = nx.DiGraph()\n",
    "\n",
    "# Erstellen einer edge von X nach Y\n",
    "g.add_edge('X', 'Y')\n",
    "\n",
    "# Print von statistischen Infos\n",
    "print(nx.info(g))\n",
    "print()\n",
    "\n",
    "# Print der edges und nodes\n",
    "print(\"Nodes:\", g.nodes())\n",
    "print(\"Edges:\", g.edges())\n",
    "print()\n",
    "\n",
    "# node-properties\n",
    "print(\"X props:\", g.node['X'])\n",
    "print(\"Y props:\", g.node['Y'])\n",
    "\n",
    "# edge properties\n",
    "print(\"X=>Y props:\", g['X']['Y'])\n",
    "print()\n",
    "\n",
    "# Update node property\n",
    "g.node['X'].update({'prop1' : 'value1'})\n",
    "print(\"X props:\", g.node['X'])\n",
    "print()\n",
    "\n",
    "# Update edge property\n",
    "g['X']['Y'].update({'label' : 'label1'})\n",
    "print(\"X=>Y props:\", g['X']['Y'])"
   ]
  },
  {
   "cell_type": "markdown",
   "metadata": {},
   "source": [
    "**Hinweis:**\n",
    "\n",
    "Die [NetworkX Dokumentation](http://networkx.github.io/) bietet eine Vielzahl an hilfreichen Beispielen, um den Umgang zu lernen."
   ]
  },
  {
   "cell_type": "markdown",
   "metadata": {},
   "source": [
    "**Bsp.: 5** - Erstellen des ego graphs eines repositories und seiner stargazer"
   ]
  },
  {
   "cell_type": "code",
   "execution_count": 18,
   "metadata": {},
   "outputs": [],
   "source": [
    "g = nx.DiGraph()\n",
    "g.add_node(repo.name + '(repo)', type='repo', lang=repo.language, owner=user.login)\n",
    "\n",
    "for sg in stargazers:\n",
    "    g.add_node(sg.login + '(user)', type='user')\n",
    "    g.add_edge(sg.login + '(user)', repo.name + '(repo)', type='gazes')"
   ]
  },
  {
   "cell_type": "markdown",
   "metadata": {},
   "source": [
    "**Bsp.: 6** - Output von NetworkX Informationen"
   ]
  },
  {
   "cell_type": "code",
   "execution_count": 23,
   "metadata": {
    "scrolled": true
   },
   "outputs": [
    {
     "name": "stdout",
     "output_type": "stream",
     "text": [
      "Name: \n",
      "Type: DiGraph\n",
      "Number of nodes: 2330\n",
      "Number of edges: 2329\n",
      "Average in degree:   0.9996\n",
      "Average out degree:   0.9996\n",
      "\n"
     ]
    }
   ],
   "source": [
    "print(nx.info(g))\n",
    "print()"
   ]
  },
  {
   "cell_type": "markdown",
   "metadata": {},
   "source": [
    "Wir wissen bisher, dass über 2300 User gemeinsames Interesse an social web mining haben, bezogen auf ihr *starring* auf das gemeinsame repository.\n",
    "Die Zahl an edges ist aufgrund der 1-zu-1-Beziehung zwischen stargazer und repository um 1 kleiner als das der nodes."
   ]
  },
  {
   "cell_type": "markdown",
   "metadata": {},
   "source": [
    "**Figur 2.2** - zeigt ein Beispiel eines ego graphs\n",
    "\n",
    "Verglichen mit den Daten aus **Bsp.: 6** kann man sich hier **einen** großen *node* in der Mitte vorstellen und 2329 *nodes* außen, die über 2329 *edges* eine Verbindung finden"
   ]
  },
  {
   "cell_type": "markdown",
   "metadata": {},
   "source": [
    "![alt text](https://github.com/nick90/github-mining/blob/master/egograph.png?raw=true \"ego graph\")\n",
    "    Figur 2.2"
   ]
  },
  {
   "cell_type": "markdown",
   "metadata": {},
   "source": [
    "## 3. Erweitern des Graphen mit \"Follow\" edges für User"
   ]
  },
  {
   "cell_type": "markdown",
   "metadata": {},
   "source": [
    "Zusätzlich zum *stargazen* und *forken* von repositories, bietet GitHub zudem die Möglichkeit, anderen usern zu *followen*.\n",
    "Die Chancen sind hoch, dass der User, dessen Repository in großer Zahl von der Community *gestarred* wird, auch selbst beliebt ist. \n",
    "\n",
    "Doch wer von den *starring* users ist noch beliebt?\n",
    "\n",
    "Diese Frage wollen wir mit Abfragen der GitHubs [User Followers API](https://developer.github.com/v3/users/followers/) beantworten."
   ]
  },
  {
   "cell_type": "markdown",
   "metadata": {},
   "source": [
    "**Bsp.: 8** - Erweitern des Graphen durch das Hinzufügen von *follows* edges"
   ]
  },
  {
   "cell_type": "code",
   "execution_count": 28,
   "metadata": {
    "collapsed": true
   },
   "outputs": [],
   "source": [
    "import sys"
   ]
  },
  {
   "cell_type": "code",
   "execution_count": null,
   "metadata": {},
   "outputs": [],
   "source": [
    "for i, sg in enumerate(stargazers):\n",
    "    try:\n",
    "        for follower in sg.get_followers():\n",
    "            if follower.login + '(user)' in g:\n",
    "                g.add_edge(follower.login + '(user)', sg.login + '(user)',\n",
    "                           type='follows')\n",
    "    except Exception:\n",
    "        print >> sys.stderr, \"Encountered an error fetching followers for\", \\\n",
    "            sg.login, \"Skipping.\"\n",
    "        print >> sys.stderr\n",
    "    print(\"Processed\", i+1, \" stargazers. Num nodes/edges in graph\", \\\n",
    "        g.number_of_nodes(), \"/\", g.number_of_edges())\n",
    "    print(\"Rate limit remaining\", client.rate_limiting)"
   ]
  },
  {
   "cell_type": "markdown",
   "metadata": {},
   "source": [
    "**Hinweis:**\n",
    "\n",
    "Das Data-Mining von über 2300 stargazern dauert einige Zeit. Im folgenden Schritt können die neugewonnenen Daten verwendet werden, um weitere beliebte user herauszufiltern."
   ]
  },
  {
   "cell_type": "markdown",
   "metadata": {},
   "source": [
    "**Figur 3.1** - zeigt ein Graphschema, indem GitHub user sowohl an repository als auch andere user interesse zeigen"
   ]
  },
  {
   "cell_type": "markdown",
   "metadata": {},
   "source": [
    "![alt text](https://github.com/nick90/github-mining/blob/master/pgf.png?raw=true)\n",
    "Figur 3.1 "
   ]
  },
  {
   "cell_type": "markdown",
   "metadata": {},
   "source": [
    "**Bsp.: 9** - Updated graph mit follow edges"
   ]
  },
  {
   "cell_type": "code",
   "execution_count": 70,
   "metadata": {},
   "outputs": [
    {
     "name": "stdout",
     "output_type": "stream",
     "text": [
      "Name: \n",
      "Type: DiGraph\n",
      "Number of nodes: 55329\n",
      "Number of edges: 105288\n",
      "Average in degree:   1.9029\n",
      "Average out degree:   1.9029\n",
      "\n",
      "[('Mining-the-Social-Web-2nd-Edition(repo)', 2329), ('angusshire(user)', 636), ('zygmuntz(user)', 570), ('rossant(user)', 536), ('JT5D(user)', 523), ('rohithadassanayake(user)', 523), ('bigsnarfdude(user)', 512), ('swhgoon(user)', 512), ('esafak(user)', 512), ('aburan28(user)', 511)]\n",
      "\n",
      "Anzahl der beliebten user: 268\n",
      "Top 10 beliebte user: [('CamDavidsonPilon(user)', 99), ('zygmuntz(user)', 72), ('josephmisiti(user)', 37), ('rossant(user)', 28), ('chdoig(user)', 26), ('clarecorthell(user)', 22), ('vlandham(user)', 19), ('dwillis(user)', 18), ('jadianes(user)', 18), ('hmcuesta(user)', 17)]\n"
     ]
    }
   ],
   "source": [
    "from operator import itemgetter\n",
    "from collections import Counter\n",
    "\n",
    "print(nx.info(g))\n",
    "print()\n",
    "\n",
    "# Zahl der benachbarten edges zur node\n",
    "print(sorted([n for n in g.degree_iter()], key=itemgetter(1), reverse=True)[:10])\n",
    "print()\n",
    "\n",
    "#Zahl der beliebten User\n",
    "c = Counter([e[1] for e in g.edges_iter(data=True) if e[2]['type'] == 'follows'])\n",
    "popular_users = [ (u, f) for (u, f) in c.most_common() if f > 1 ]\n",
    "print(\"Anzahl der beliebten user:\", len(popular_users))\n",
    "print(\"Top 10 beliebte user:\", popular_users[:10])"
   ]
  },
  {
   "cell_type": "markdown",
   "metadata": {},
   "source": [
    "## 4. Hinzufügen weiterer repositories zum interest graph"
   ]
  },
  {
   "cell_type": "markdown",
   "metadata": {},
   "source": [
    "Nun können wir einen weiteren Schritt wagen, und von jedem weiteren user die zusätzlich *starred* repositories zusammensuchen und *edges* erstellen, um gemeinsame Interessen herauszufinden. "
   ]
  },
  {
   "cell_type": "markdown",
   "metadata": {},
   "source": [
    "**Bsp.: 10** - Hinzufügen von *starred* repositories zum Graphen"
   ]
  },
  {
   "cell_type": "code",
   "execution_count": null,
   "metadata": {},
   "outputs": [],
   "source": [
    "MAX_REPOS = 500\n",
    "for i, sg in enumerate(stargazers):\n",
    "    print(sg.login)\n",
    "    try:\n",
    "        for starred in sg.get_starred()[:MAX_REPOS]: # Slice to avoid supernodes\n",
    "            g.add_node(starred.name + '(repo)', type='repo', lang=starred.language, \\\n",
    "                owner=starred.owner.login)\n",
    "            g.add_edge(sg.login + '(user)', starred.name + '(repo)', type='gazes')\n",
    "    except Exception:\n",
    "        print(\"Encountered an error fetching starred repos for\", sg.login, \"Skipping.\")"
   ]
  },
  {
   "cell_type": "markdown",
   "metadata": {},
   "source": [
    "**Hinweis:**\n",
    "\n",
    "Das Data-Mining von über 2300 stargazern und dessen repositories dauert **noch länger**. \n",
    "\n",
    "Im folgenden Schritt können die neugewonnenen Daten verwendet werden, um weitere beliebte repositories herauszufiltern."
   ]
  },
  {
   "cell_type": "markdown",
   "metadata": {},
   "source": [
    "**Bsp.: 11** - Updated graph mit repository edges"
   ]
  },
  {
   "cell_type": "markdown",
   "metadata": {},
   "source": [
    "Hier noch einmal zur Veranschaulichung die Anzahl der neuen *nodes* und *edges*, welche sich vervielfacht haben. Zudem weitere repositories, die aus der Gesamtzahl der *stargazer* gemeinsames Interesse finden."
   ]
  },
  {
   "cell_type": "code",
   "execution_count": 69,
   "metadata": {},
   "outputs": [
    {
     "name": "stdout",
     "output_type": "stream",
     "text": [
      "Name: \n",
      "Type: DiGraph\n",
      "Number of nodes: 55329\n",
      "Number of edges: 105288\n",
      "Average in degree:   1.9029\n",
      "Average out degree:   1.9029\n",
      "\n",
      "[('Mining-the-Social-Web-2nd-Edition(repo)', 2329), ('free-programming-books(repo)', 84), ('d3(repo)', 83), ('Probabilistic-Programming-and-Bayesian-Methods-for-Hackers(repo)', 80), ('tensorflow(repo)', 76), ('ipython(repo)', 75), ('dotfiles(repo)', 73), ('bootstrap(repo)', 71), ('go(repo)', 67), ('awesome-public-datasets(repo)', 58)]\n"
     ]
    }
   ],
   "source": [
    "print(nx.info(g))\n",
    "print()\n",
    "\n",
    "repos = [n for n in g.nodes_iter() if g.node[n]['type'] == 'repo']\n",
    "\n",
    "print(sorted([(n,d)\n",
    "    for (n,d) in g.in_degree_iter()\n",
    "        if g.node[n]['type'] == 'repo'], \\\n",
    "            key=itemgetter(1), reverse=True)[:10])"
   ]
  },
  {
   "cell_type": "markdown",
   "metadata": {},
   "source": [
    "Aus diesen Daten können wir nun noch viele weitere Informationen ziehen, wie folgendes Beispiel zeigt."
   ]
  },
  {
   "cell_type": "markdown",
   "metadata": {},
   "source": [
    "**Bsp.: 12** - Programmiersprachen, an denen user *CamDavidsonPilon* Interesse hat"
   ]
  },
  {
   "cell_type": "code",
   "execution_count": 60,
   "metadata": {},
   "outputs": [
    {
     "name": "stdout",
     "output_type": "stream",
     "text": [
      "['Vala', 'Shell', 'Jupyter Notebook', 'Haskell', 'Objective-J', 'Julia', 'C++', None, 'Objective-C', 'CSS', 'C', 'Emacs Lisp', 'CoffeeScript', 'Python', 'JavaScript', 'PHP', 'Ruby', 'HTML', 'VimL', 'Scala', 'Java']\n"
     ]
    }
   ],
   "source": [
    "print(list(set([g.node[n]['lang']\n",
    "    for n in g['CamDavidsonPilon(user)']\n",
    "        if g['CamDavidsonPilon(user)'][n]['type'] == 'gazes'])))"
   ]
  },
  {
   "cell_type": "markdown",
   "metadata": {},
   "source": [
    "**Bsp.: 12** - Graphenvisualisierung des Sozialen Netzwerks"
   ]
  },
  {
   "cell_type": "markdown",
   "metadata": {},
   "source": [
    "Mithilfe eines Tools konnte dieser graph aufwändig visualisiert werden."
   ]
  },
  {
   "cell_type": "markdown",
   "metadata": {},
   "source": [
    "![alt text](https://github.com/nick90/github-mining/blob/master/fg.png?raw=true \"final graph\")\n",
    "Figur 4.1"
   ]
  },
  {
   "cell_type": "markdown",
   "metadata": {},
   "source": [
    "Wenn alle Daten gesammelt wurden, kann eine interactive Visualisierung der *follow* edges innerhalb der GitHub user für den interest graph angezeigt werden"
   ]
  },
  {
   "cell_type": "markdown",
   "metadata": {},
   "source": [
    "## Quellen und Literatur\n",
    "**Matthew A.Russel | O'Reilly**\n",
    "* Mining the Social Web | Data Mining Facebook, Twitter, Linkedin, Google+, GitHub, and more\n",
    "\n",
    "**Francesco Pontillo | 31.08.2016**\n",
    "* https://www.novoda.com/blog/github-data-mining-101/\n",
    "* https://de.wikipedia.org/wiki/GitHub \n",
    "* https://developer.github.com/v3/\n",
    "* http://pygithub.github.io/PyGithub/v1/index.html\n",
    "* https://developer.github.com/v3/users/followers/"
   ]
  }
 ],
 "metadata": {
  "kernelspec": {
   "display_name": "Python 3",
   "language": "python",
   "name": "python3"
  },
  "language_info": {
   "codemirror_mode": {
    "name": "ipython",
    "version": 3
   },
   "file_extension": ".py",
   "mimetype": "text/x-python",
   "name": "python",
   "nbconvert_exporter": "python",
   "pygments_lexer": "ipython3",
   "version": "3.6.0"
  }
 },
 "nbformat": 4,
 "nbformat_minor": 2
}
