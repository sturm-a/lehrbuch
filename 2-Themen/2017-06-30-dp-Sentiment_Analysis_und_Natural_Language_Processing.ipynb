{
 "cells": [
  {
   "cell_type": "markdown",
   "metadata": {},
   "source": [
    "# Theoretischer Hintergrund\n",
    "Mithilfe von Natural Language Processing und Sentiment Analysis wird es Maschinen ermöglicht, menschliche Emotionen zu verstehen. Gerade für Unternehmen ist es wichtig, die allgemeine Wahrnehmung von Events (zum Beispiel der Launch eines neuen Produktes) zu verfolgen. Durch Echtzeit-Zugriff und die hohe Verfügbarkeit der Inhalte auf Twitter, Facebook oder anderen sozialen Netzwerken, können verschiedene Analysen der Posts durchgeführt werden."
   ]
  },
  {
   "cell_type": "markdown",
   "metadata": {},
   "source": [
    "## Natural Language Processing\n",
    "Natural Language Processing (NLP) befasst sich mit der Verarbeitung großer Mengen natürlicher Sprache. Die Herausforderung besteht darin, dass Menschen unterschiedlich miteinander kommunizieren. Manchmal verwenden wir lange Sätze, manchmal kurze Sätze und manchmal wiederholen wir uns. Manchmal gibt es mehrere Wege, den gleichen Inhalt zu vermitteln, manchmal verwenden wir Synonyme.\n",
    "Im nachfolgenden Kapitel wird gezeigt, wie man einfache Wortanalysen machen kann."
   ]
  },
  {
   "cell_type": "markdown",
   "metadata": {},
   "source": [
    "### Natural Language Toolkit\n",
    "Um Beispiele durchzuführen, werden wir das Natural Language Toolkit ([NLTK](http://www.nltk.org/)) verwenden. Es ist standardmäßig in  Anaconda enthalten. Abgesehen vom Import des Toolkits müssen keine weiteren Schritte unternommen werden."
   ]
  },
  {
   "cell_type": "code",
   "execution_count": 1,
   "metadata": {
    "collapsed": true
   },
   "outputs": [],
   "source": [
    "import nltk"
   ]
  },
  {
   "cell_type": "markdown",
   "metadata": {},
   "source": [
    "##### Daten einlesen\n",
    "Um eine *Internetquelle* zu verwenden, führt man den folgenden Code aus:\n",
    "```Python\n",
    "from urllib import request\n",
    "url = \"http://url.com\"\n",
    "response = request.urlopen(url)\n",
    "raw = response.read().decode('utf8')\n",
    "tokens = nltk.tokenize.word.tokenize(raw)\n",
    "tokens = nltk.Text(tokens)\n",
    "```\n",
    "\n",
    "Um eine *lokale Datei* einzulesen, geht man wie folgt vor:\n",
    "\n",
    "```Python\n",
    "file = open(\"./filename.txt\", 'r')\n",
    "inputfile = file.read()\n",
    "tokens = nltk.tokenize.word_tokenize(inputfile)\n",
    "tokens = nltk.Text(tokens)```"
   ]
  },
  {
   "cell_type": "markdown",
   "metadata": {},
   "source": [
    "Wir verwenden zunächst einige Testdatensätze, welche durch den Befehl `nltk.download()` heruntergeladen werden können. Im Popup Fenster kann man aussuchen, welche Datensätze heruntergeladen werden sollen. Für das nachfolgende Beispiel verwenden wir die Datensätze des `book` Pakets."
   ]
  },
  {
   "cell_type": "code",
   "execution_count": 2,
   "metadata": {},
   "outputs": [
    {
     "name": "stdout",
     "output_type": "stream",
     "text": [
      "showing info https://raw.githubusercontent.com/nltk/nltk_data/gh-pages/index.xml\n"
     ]
    },
    {
     "data": {
      "text/plain": [
       "True"
      ]
     },
     "execution_count": 2,
     "metadata": {},
     "output_type": "execute_result"
    }
   ],
   "source": [
    "nltk.download()"
   ]
  },
  {
   "cell_type": "markdown",
   "metadata": {},
   "source": [
    "![NLTK-Downloader mit allen verfügbaren Datensätzen](NLTK_Downloader.png)\n",
    "*Der NLTK-Downloader mit allen verfügbaren Datensätzen. Zum Herunterladen kann man das entsprechende Paket einfach doppelklicken. Wenn man fertig ist, kann man den Downloader über `File > Exit` verlassen.*"
   ]
  },
  {
   "cell_type": "markdown",
   "metadata": {},
   "source": [
    "Nachdem die Pakete heruntergeladen wurden, können wir sie benutzen. Zuerst importieren wir die Bücher:"
   ]
  },
  {
   "cell_type": "code",
   "execution_count": 3,
   "metadata": {},
   "outputs": [
    {
     "name": "stdout",
     "output_type": "stream",
     "text": [
      "*** Introductory Examples for the NLTK Book ***\n",
      "Loading text1, ..., text9 and sent1, ..., sent9\n",
      "Type the name of the text or sentence to view it.\n",
      "Type: 'texts()' or 'sents()' to list the materials.\n",
      "text1: Moby Dick by Herman Melville 1851\n",
      "text2: Sense and Sensibility by Jane Austen 1811\n",
      "text3: The Book of Genesis\n",
      "text4: Inaugural Address Corpus\n",
      "text5: Chat Corpus\n",
      "text6: Monty Python and the Holy Grail\n",
      "text7: Wall Street Journal\n",
      "text8: Personals Corpus\n",
      "text9: The Man Who Was Thursday by G . K . Chesterton 1908\n"
     ]
    }
   ],
   "source": [
    "from nltk.book import *"
   ]
  },
  {
   "cell_type": "markdown",
   "metadata": {},
   "source": [
    "Wenn die Texte erfolgreich eingelesen wurden, erhält man gleichzeitig eine Übersicht der geladenen Daten.\n",
    "\n",
    "Man kann einen Text mit dem Befehl `concordance(str)` nach einem bestimmten Wort durchsuchen. Beispielsweise durchsuchen wir `text1` (Moby Dick) nach dem Wort *monstrous*:"
   ]
  },
  {
   "cell_type": "code",
   "execution_count": 4,
   "metadata": {},
   "outputs": [
    {
     "name": "stdout",
     "output_type": "stream",
     "text": [
      "Displaying 11 of 11 matches:\n",
      "ong the former , one was of a most monstrous size . ... This came towards us , \n",
      "ON OF THE PSALMS . \" Touching that monstrous bulk of the whale or ork we have r\n",
      "ll over with a heathenish array of monstrous clubs and spears . Some were thick\n",
      "d as you gazed , and wondered what monstrous cannibal and savage could ever hav\n",
      "that has survived the flood ; most monstrous and most mountainous ! That Himmal\n",
      "they might scout at Moby Dick as a monstrous fable , or still worse and more de\n",
      "th of Radney .'\" CHAPTER 55 Of the Monstrous Pictures of Whales . I shall ere l\n",
      "ing Scenes . In connexion with the monstrous pictures of whales , I am strongly\n",
      "ere to enter upon those still more monstrous stories of them which are to be fo\n",
      "ght have been rummaged out of this monstrous cabinet there is no telling . But \n",
      "of Whale - Bones ; for Whales of a monstrous size are oftentimes cast up dead u\n"
     ]
    }
   ],
   "source": [
    "text1.concordance(\"monstrous\")"
   ]
  },
  {
   "cell_type": "markdown",
   "metadata": {},
   "source": [
    "Die Methode `concordance()` gibt uns nun alle Passagen an, in denen das gesuchte Wort vorkommt. Es ist interessant zu sehen, dass das gleiche Wort je nach Kontext verschiedene Bedeutungen haben kann.\n",
    "\n",
    "Im gleichen Zuge könnten Synonyme von *monstrous* in anderen Passagen verwendet worden sein, die für uns auch von Interesse wären. Dafür gibt es die Methode `similar()`: "
   ]
  },
  {
   "cell_type": "code",
   "execution_count": 5,
   "metadata": {},
   "outputs": [
    {
     "name": "stdout",
     "output_type": "stream",
     "text": [
      "true contemptible christian abundant few part mean careful puzzled\n",
      "mystifying passing curious loving wise doleful gamesome singular\n",
      "delightfully perilous fearless\n"
     ]
    }
   ],
   "source": [
    "text1.similar(\"monstrous\")"
   ]
  },
  {
   "cell_type": "code",
   "execution_count": 6,
   "metadata": {},
   "outputs": [
    {
     "name": "stdout",
     "output_type": "stream",
     "text": [
      "very so exceedingly heartily a as good great extremely remarkably\n",
      "sweet vast amazingly\n"
     ]
    }
   ],
   "source": [
    "text2.similar(\"monstrous\")"
   ]
  },
  {
   "cell_type": "markdown",
   "metadata": {},
   "source": [
    "Hier kann man klar erkennen, dass *monstrous* in Text 1 (Moby Dick) eher als negatives Wort verwendet wurde, wohingegen Text 2 es als eher positives Wort verwendet."
   ]
  },
  {
   "cell_type": "markdown",
   "metadata": {},
   "source": [
    "Man kann auch nach einem gemeinsamen Kontext zwischen 2 oder mehreren Wörtern suchen. Dabei ist es schlau, sich vorher die ähnlichen Wörter mit Hilfe des `similar` Befehls anzuschauen. Im nachfolgenden Beispiel suchen wir nach einem ähnlichen Kontext zwischen *monstrous* und *exceedingly* in Text 2. Dafür verwenden wir die Methode `common_contexts()`:"
   ]
  },
  {
   "cell_type": "code",
   "execution_count": 7,
   "metadata": {},
   "outputs": [
    {
     "name": "stdout",
     "output_type": "stream",
     "text": [
      "be_glad is_fond\n"
     ]
    }
   ],
   "source": [
    "text2.common_contexts([\"monstrous\", \"exceedingly\"])"
   ]
  },
  {
   "cell_type": "markdown",
   "metadata": {},
   "source": [
    "Als Ergebnis erhalten wir die beiden Verben *to be glad* und *to be fond*\n",
    "\n",
    "Neben der Analyse einzelner Wörter und deren Bedeutungen, können wir mit dem Toolkit auch den Ort der Wörter bestimmen. Nachfolgend finden Sie ein Beispiel mit den Wörtern *whale*, *monstrous* und *captain*. Die X-Achse stellt dabei die Länge (in Wörtern) des gesamten Textes dar und die vertikalen Striche eine Verwendung des entsprechenden Wortes:"
   ]
  },
  {
   "cell_type": "code",
   "execution_count": 8,
   "metadata": {
    "scrolled": true
   },
   "outputs": [
    {
     "data": {
      "image/png": "[encoded data removed]",
      "text/plain": [
       "<matplotlib.figure.Figure at 0x1f771a809e8>"
      ]
     },
     "metadata": {},
     "output_type": "display_data"
    }
   ],
   "source": [
    "text1.dispersion_plot([\"whale\", \"monstrous\", \"captain\"])"
   ]
  },
  {
   "cell_type": "markdown",
   "metadata": {},
   "source": [
    " "
   ]
  },
  {
   "cell_type": "markdown",
   "metadata": {},
   "source": [
    "Da die Texte sich in einem Array befinden, können wir mit Hilfe des `len()` Befehls die Länge des Textes in *Tokens* ausgeben lassen. Ein Token ist eine einzigartige Verkettung von Zeichen, also bildet sowohl jedes einzigartige Wort ein Token, als auch jedes einzigartige Satzzeichen."
   ]
  },
  {
   "cell_type": "code",
   "execution_count": 9,
   "metadata": {},
   "outputs": [
    {
     "data": {
      "text/plain": [
       "260819"
      ]
     },
     "execution_count": 9,
     "metadata": {},
     "output_type": "execute_result"
    }
   ],
   "source": [
    "len(text1)"
   ]
  },
  {
   "cell_type": "markdown",
   "metadata": {},
   "source": [
    "Mit dem Befehl `set` wird uns jedes Token nur einmal ausgegeben. Mit Hilfe von `sorted()` und `len()` können wir das Set sortieren lassen und die Anzahl der verschiedenen Tokens zählen lassen."
   ]
  },
  {
   "cell_type": "code",
   "execution_count": 10,
   "metadata": {
    "collapsed": true
   },
   "outputs": [],
   "source": [
    "#set(text1)"
   ]
  },
  {
   "cell_type": "markdown",
   "metadata": {},
   "source": [
    "{'unforseen',\n",
    " 'Cleveland',\n",
    " 'REPEATED',\n",
    " 'presuming',\n",
    " 'roomy',\n",
    " 'skewers',\n",
    " 'GREENLAND',\n",
    " 'hang',\n",
    " 'advised',\n",
    " 'numerous',\n",
    " 'shouting',\n",
    " 'credulities',\n",
    " 'honeycombs', [...]"
   ]
  },
  {
   "cell_type": "code",
   "execution_count": 11,
   "metadata": {
    "collapsed": true
   },
   "outputs": [],
   "source": [
    "#sorted(set(text1))[:10]"
   ]
  },
  {
   "cell_type": "markdown",
   "metadata": {},
   "source": [
    "['!',\n",
    " '!\"',\n",
    " '!\"--',\n",
    " \"!'\",\n",
    " '!\\'\"',\n",
    " '!)',\n",
    " '!)\"',\n",
    " '!*',\n",
    " '!--',\n",
    " '!--\"',\n",
    " \"!--'\",\n",
    " '\"',\n",
    " '\"\\'',\n",
    " '\"--',\n",
    " '\"...', [...]"
   ]
  },
  {
   "cell_type": "code",
   "execution_count": 12,
   "metadata": {},
   "outputs": [
    {
     "data": {
      "text/plain": [
       "19317"
      ]
     },
     "execution_count": 12,
     "metadata": {},
     "output_type": "execute_result"
    }
   ],
   "source": [
    "len(set(text1))"
   ]
  },
  {
   "cell_type": "markdown",
   "metadata": {},
   "source": [
    "Indem wir die Anzahl der Tokens durch die Gesamtlänge des Textes teilen, können wir herausfinden wie divers die Wortvielfalt des Textes ist. Bei Moby Dick sind 7,4% der Wörter einzigartig, was bedeutet dass jedes Wort im Schnitt 13-14 Mal im Text vorkommt."
   ]
  },
  {
   "cell_type": "code",
   "execution_count": 13,
   "metadata": {},
   "outputs": [
    {
     "data": {
      "text/plain": [
       "0.07406285585022564"
      ]
     },
     "execution_count": 13,
     "metadata": {},
     "output_type": "execute_result"
    }
   ],
   "source": [
    "len(set(text1)) / len(text1)"
   ]
  },
  {
   "cell_type": "markdown",
   "metadata": {},
   "source": [
    "Mit dem `count()` Befehl können wir die Anzahl eines bestimmten Tokens im Text ausgeben lassen."
   ]
  },
  {
   "cell_type": "code",
   "execution_count": 14,
   "metadata": {},
   "outputs": [
    {
     "data": {
      "text/plain": [
       "906"
      ]
     },
     "execution_count": 14,
     "metadata": {},
     "output_type": "execute_result"
    }
   ],
   "source": [
    "text1.count(\"whale\")"
   ]
  },
  {
   "cell_type": "markdown",
   "metadata": {},
   "source": [
    "Es wäre noch interessant zu wissen, welche Tokens am häufigsten/seltensten verwendet werden. Das kann man über die *Frequency Distribution* herausfinden:"
   ]
  },
  {
   "cell_type": "code",
   "execution_count": 15,
   "metadata": {
    "collapsed": true
   },
   "outputs": [],
   "source": [
    "fdist = FreqDist(text1)"
   ]
  },
  {
   "cell_type": "code",
   "execution_count": 16,
   "metadata": {},
   "outputs": [
    {
     "name": "stdout",
     "output_type": "stream",
     "text": [
      "<FreqDist with 19317 samples and 260819 outcomes>\n"
     ]
    }
   ],
   "source": [
    "print(fdist)"
   ]
  },
  {
   "cell_type": "code",
   "execution_count": 17,
   "metadata": {
    "scrolled": true
   },
   "outputs": [
    {
     "data": {
      "text/plain": [
       "[(',', 18713),\n",
       " ('the', 13721),\n",
       " ('.', 6862),\n",
       " ('of', 6536),\n",
       " ('and', 6024),\n",
       " ('a', 4569),\n",
       " ('to', 4542),\n",
       " (';', 4072),\n",
       " ('in', 3916),\n",
       " ('that', 2982),\n",
       " (\"'\", 2684),\n",
       " ('-', 2552),\n",
       " ('his', 2459),\n",
       " ('it', 2209),\n",
       " ('I', 2124)]"
      ]
     },
     "execution_count": 17,
     "metadata": {},
     "output_type": "execute_result"
    }
   ],
   "source": [
    "fdist.most_common(15)"
   ]
  },
  {
   "cell_type": "code",
   "execution_count": 18,
   "metadata": {
    "scrolled": true
   },
   "outputs": [
    {
     "data": {
      "text/plain": [
       "[('ONLY', 1),\n",
       " ('ESCAPED', 1),\n",
       " ('THEE', 1),\n",
       " ('halfspent', 1),\n",
       " ('suction', 1),\n",
       " ('closing', 1),\n",
       " ('Ixion', 1),\n",
       " ('Till', 1),\n",
       " ('liberated', 1),\n",
       " ('Buoyed', 1),\n",
       " ('dirgelike', 1),\n",
       " ('padlocks', 1),\n",
       " ('sheathed', 1),\n",
       " ('retracing', 1),\n",
       " ('orphan', 1)]"
      ]
     },
     "execution_count": 18,
     "metadata": {},
     "output_type": "execute_result"
    }
   ],
   "source": [
    "fdist.most_common()[-15:]"
   ]
  },
  {
   "cell_type": "markdown",
   "metadata": {},
   "source": [
    "**Notiz:** Es gibt keine `least_common()` Funktion, jedoch gibt die Funktion `most_common` einen sortierten Array zurück, bei dem man sich einfach die X letzten Ergebnisse ausgeben lassen kann. Über diesen Umweg kann man sich die am seltensten verwendeten Tokens trotzdem anzeigen lassen."
   ]
  },
  {
   "cell_type": "markdown",
   "metadata": {},
   "source": [
    "Neben der Funktion, die häufigsten Wörter als Text auszugeben, bietet Frequency Distribution auch die Möglichkeit, einen Graphen mit den häufigsten X Wörtern auszugeben:"
   ]
  },
  {
   "cell_type": "code",
   "execution_count": 19,
   "metadata": {},
   "outputs": [
    {
     "data": {
      "image/png": "[encoded data removed]",
      "text/plain": [
       "<matplotlib.figure.Figure at 0x1f772a51390>"
      ]
     },
     "metadata": {},
     "output_type": "display_data"
    }
   ],
   "source": [
    "fdist.plot(15)"
   ]
  },
  {
   "cell_type": "markdown",
   "metadata": {},
   "source": [
    " \n"
   ]
  },
  {
   "cell_type": "markdown",
   "metadata": {},
   "source": [
    "*Collocations* sind Wortsequenzen, die unverhältnismäßig oft miteinander verwendet werden. Eine ihrer Charakteristiken ist, dass sie normalerweise nicht austauschbar sind. Beispiel: *roter Wein* kann nicht durch *bordeauxroter Wein* ersetzt werden. Mithilfe des NLTK kann man sich auch eine Liste von collocations ausgeben lassen."
   ]
  },
  {
   "cell_type": "code",
   "execution_count": 20,
   "metadata": {},
   "outputs": [
    {
     "name": "stdout",
     "output_type": "stream",
     "text": [
      "Sperm Whale; Moby Dick; White Whale; old man; Captain Ahab; sperm\n",
      "whale; Right Whale; Captain Peleg; New Bedford; Cape Horn; cried Ahab;\n",
      "years ago; lower jaw; never mind; Father Mapple; cried Stubb; chief\n",
      "mate; white whale; ivory leg; one hand\n"
     ]
    }
   ],
   "source": [
    "text1.collocations()"
   ]
  },
  {
   "cell_type": "code",
   "execution_count": 21,
   "metadata": {},
   "outputs": [
    {
     "name": "stdout",
     "output_type": "stream",
     "text": [
      "United States; fellow citizens; four years; years ago; Federal\n",
      "Government; General Government; American people; Vice President; Old\n",
      "World; Almighty God; Fellow citizens; Chief Magistrate; Chief Justice;\n",
      "God bless; every citizen; Indian tribes; public debt; one another;\n",
      "foreign nations; political parties\n"
     ]
    }
   ],
   "source": [
    "text4.collocations()"
   ]
  },
  {
   "cell_type": "markdown",
   "metadata": {},
   "source": [
    "## Sentiment Analysis\n",
    "Sentiment (deutsch: Stimmung/Empfindung) Analysis, oder auch Opinion Mining genannt, ist eine Methode, mit welcher man versucht, die Stimmung einer Aussage oder die Emotionen dahinter zu bewerten. Die Aussage ist dabei weder an eine bestimmte Sprache gebunden, noch muss sie von einer bestimmten Quelle stammen. Man kann beispielsweise Tweets, Facebook Posts, Chatverläufe oder SMS verwenden. Im Gegensatz zum Natural Language Processing werden nicht nur die Wörter bewertet, sondern die allgemeine Stimmung dahinter analysiert. Anhand der Wortwahl oder Zeichensetzung kann man erkennen, ob jemand genervt ist. "
   ]
  },
  {
   "cell_type": "markdown",
   "metadata": {},
   "source": [
    "Beispiele:\n",
    "\n",
    "Satz                                                                         | Aussage \n",
    "---------------------------------------------------------------------------- | --------\n",
    "Visiting to the wonderful places in Europe. Feeling real happy               | Positiv \n",
    "I love little sunshine in winters, make me feel live                         | Positiv \n",
    "I am stuck in a same place, feeling sad                                      | Negativ \n",
    "The cab driver was a nice person. Think many of them are actualy good people | Positiv "
   ]
  },
  {
   "cell_type": "markdown",
   "metadata": {},
   "source": [
    "Sentiment Analysis spielt eine wichtige Rolle, um die Kundenresonanz zu verstehen und kann den Wachstum eines Unternehmens stark beeinflussen. Mit Social Media Plattformen wie Facebook oder Twitter ist das Sprichwort *die Feder ist mächtiger als das Schwert* gegenwärtiger denn je. Mundpropaganda gilt als eines der stärksten Marketingmethoden, wodurch das Bedürfnis entstanden ist, Sentiment Analysen durchzuführen.\n",
    "Das Feld ist inzwischen so fortgeschritten, dass man Ergebnisse größerer Wahlen durch Sentiment Analysen der Wähler ziemlich genau vorhersagen kann. Auf die gleiche Weise werden Entwicklungen des Aktienmarktes durchgeführt. "
   ]
  },
  {
   "cell_type": "markdown",
   "metadata": {},
   "source": [
    "### Schritte der Sentiment Analyse\n",
    "Eine Meinung oder eine Stimmung kann einem Computer als Quintupel beschrieben werden.\n",
    "\n",
    "**Quintupel**: ein 5-dimensionales Objekt mit den folgenden Achsen:\n",
    "* $O$ beschreibt das *zu überprüfende Objekt*. Es wird durch named-entity recognition (Methode zur automatischen Identifizierung von Eigennamen) identifiziert (Beispiel: Barrack Obama; Volkswagen Golf)\n",
    "* $f$ ist ein *Feature* von $O$. Es wird durch Datenverarbeitungsverfahren evaluiert\n",
    "* $h$ ist der *information miner*\n",
    "* $t$ ist der Zeitpunkt der Datenextraktion\n",
    "* $SO$ ist die *Sentiment Orientation* des Information Miners $h$ mit dem Feature $f$ im Bezug auf das Objekt $O$  zum Zeitpunkt $t$. Der Wert der Sentiment Orientation ist entscheidend dafür, ob ein Objekt als positiv oder negativ eingestuft wird."
   ]
  },
  {
   "cell_type": "markdown",
   "metadata": {},
   "source": [
    "Um den Sentiment Value $SO$ zu berechnen, werden die folgenden Schritte durchgeführt:\n",
    "1. Part-of-speech tagging (pos) bedeutet die Zuordnung von Wörtern oder Satzzeichen eines Objektes zu Wortarten. Hierbei werden sowohl  Definitionen des Wortes, als auch der Kontext berücksichtigt. Zur Durchführung werden Machine Learning Algorithmen verwendet. Eine Liste der verfügbaren Tags kann [hier](https://www.ling.upenn.edu/courses/Fall_2003/ling001/penn_treebank_pos.html) gefunden werden.\n",
    "2. Wir betrachten die (SO) der gesammelten Objekte. Beispielsweise wurde *hervorragend* und *Handy* gesammelt, also eine positive Reaktion. Das Gegenteil könnte *schlechtes* + *Handy* sein. In dieser Phase versucht das System, die Begriffe einzuordnen.\n",
    "3. Die durchschnittliche Sentiment Orientation aller Begriffe wird zusammengerechnet, um beispielsweise folgende Aussagen zu treffen:\n",
    "    1. \"Normalerweise mögen Leute ihr neues Handy.\" → **positiv**\n",
    "    2. \"Normalerweise hassen Leute ihr neues Handy.\" → **nicht positiv**"
   ]
  },
  {
   "cell_type": "markdown",
   "metadata": {},
   "source": [
    "**Zusatz:**\n",
    "[SentiWordNet](http://sentiwordnet.isti.cnr.it/) ist eine Ressource des Opinion Minings, die die Sentiment Values eines englischen Datensatzes nach Positivität, Negativität und Objektivität, sowie die zugehörigen pos-Tags beinhaltet. Außerdem werden verschiedene Bedeutungen des gleichen Wortes unterschiedlich bewertet. Der SentiWordNet Datensatz kann ebenfalls über das NLTK heruntergeladen werden.\n",
    "\n",
    "Beispiel:\n",
    "* \"Your new phone has 8gb of RAM? That's *crazy*! → crazy ist **positiv**\n",
    "* \"You bought a phone for &#36;1,200? You're *crazy*! → crazy ist **negativ**"
   ]
  },
  {
   "cell_type": "markdown",
   "metadata": {},
   "source": [
    "## Anwendung\n",
    "Sentiment Analysis ist im Prinzip nichts anderes als ein Machine Learning Algorithmus, der darauf getrimmt wird, positive oder negative Kommentare zu erkennen. Im nachfolgenden Beispiel verwenden wir den Naive Bayes Classifier in Kombination mit dem NLTK und selbst geschriebenen Funktionen.\n",
    "\n",
    "**Beispiel:**<br>\n",
    "Wir möchten Filmrezensionen analysieren, um herauszufinden ob sich ein Film lohnt oder nicht. Zunächst importieren wir dafür die nötigen Bibliotheken."
   ]
  },
  {
   "cell_type": "code",
   "execution_count": 22,
   "metadata": {
    "collapsed": true
   },
   "outputs": [],
   "source": [
    "import nltk.classify.util\n",
    "from nltk.classify import NaiveBayesClassifier\n",
    "from nltk.corpus import movie_reviews\n",
    "from nltk.corpus import stopwords\n",
    "from nltk.tokenize import word_tokenize"
   ]
  },
  {
   "cell_type": "markdown",
   "metadata": {},
   "source": [
    "Eine Besonderheit des Naive Bayes Algorithmus bei NLTK ist, dass jedes Wort von einem `True` gefolgt wird.\n",
    "\n",
    "```Python \n",
    "\"Hello World\"\n",
    "``` \n",
    "müsste also so aussehen: \n",
    "```Python \n",
    "{\"Hello\": True, \"World\": True}\n",
    "```\n",
    "\n",
    "Um das nicht jedes Mal manuell unternehmen zu müssen, schreiben wir dafür eine Methode:"
   ]
  },
  {
   "cell_type": "code",
   "execution_count": 23,
   "metadata": {
    "collapsed": true
   },
   "outputs": [],
   "source": [
    "def create_word_features(words):\n",
    "    useful_words = [word for word in words if word not in stopwords.words(\"english\")]\n",
    "    my_dict = dict({(word, True) for word in useful_words})\n",
    "    return my_dict"
   ]
  },
  {
   "cell_type": "markdown",
   "metadata": {},
   "source": [
    "Wir übergeben eine Liste von Wörtern an die Methode, filtern zunächst alle *Stop Words* (the, a, ...) heraus und versehen danach jedes nützliche Wort mit einem True. Gesammelt werden alle Worte in einem *Dictionary*, da damit Duplikate vermieden werden."
   ]
  },
  {
   "cell_type": "code",
   "execution_count": 24,
   "metadata": {},
   "outputs": [
    {
     "data": {
      "text/plain": [
       "{'brown': True,\n",
       " 'dog': True,\n",
       " 'fox': True,\n",
       " 'jumps': True,\n",
       " 'lazy': True,\n",
       " 'quick': True}"
      ]
     },
     "execution_count": 24,
     "metadata": {},
     "output_type": "execute_result"
    }
   ],
   "source": [
    "create_word_features([\"the\", \"quick\", \"brown\", \"fox\", \"jumps\", \"over\", \"the\", \"lazy\", \"lazy\", \"dog\"])"
   ]
  },
  {
   "cell_type": "markdown",
   "metadata": {},
   "source": [
    "Wie man sehen kann, wurden die Wörter *the* und *over* herausgefiltert und jedes Wort nur einmal gespeichert, sowie jedes Feature mit einem *True* versehen.\n",
    "\n",
    "Als nächstes Sammeln wir alle negativen Bewertungen des NLTK Datensatzes *movie reviews*. Der Datensatz ist in 2 Ordner aufgeteilt: *pos* (welcher alle positiven Bewertungen enthält) und *neg* (alle negativen Bewertungen). Diese können wir sehen, indem wir den Befehl `fileids()` verwenden.\n",
    "\n",
    "Wir filtern nach allen negativen Reviews, indem wir in einer Schleife den Ordner *neg* durchlaufen lassen."
   ]
  },
  {
   "cell_type": "code",
   "execution_count": 25,
   "metadata": {
    "collapsed": true
   },
   "outputs": [],
   "source": [
    "neg_reviews = []\n",
    "for fileid in movie_reviews.fileids('neg'):\n",
    "    words = movie_reviews.words(fileid)\n",
    "    neg_reviews.append((create_word_features(words), \"negative\"))"
   ]
  },
  {
   "cell_type": "code",
   "execution_count": 26,
   "metadata": {},
   "outputs": [
    {
     "data": {
      "text/plain": [
       "1000"
      ]
     },
     "execution_count": 26,
     "metadata": {},
     "output_type": "execute_result"
    }
   ],
   "source": [
    "len(neg_reviews)"
   ]
  },
  {
   "cell_type": "markdown",
   "metadata": {},
   "source": [
    "Wir erstellen zunächst einen leeren Array *neg reviews*. Dann durchlaufen wir jeden negative Kritik und fügen sie mit Hilfe unserer vorher definierten Methode an das Array hinzu. Wir haben 1.000 negative Bewertungen gesammelt.\n",
    "\n",
    "Dasselbe führen wir mit den positiven Reviews durch:"
   ]
  },
  {
   "cell_type": "code",
   "execution_count": 27,
   "metadata": {
    "collapsed": true
   },
   "outputs": [],
   "source": [
    "pos_reviews = []\n",
    "for fileid in movie_reviews.fileids('pos'):\n",
    "    words = movie_reviews.words(fileid)\n",
    "    pos_reviews.append((create_word_features(words), \"positive\"))"
   ]
  },
  {
   "cell_type": "code",
   "execution_count": 28,
   "metadata": {},
   "outputs": [
    {
     "data": {
      "text/plain": [
       "1000"
      ]
     },
     "execution_count": 28,
     "metadata": {},
     "output_type": "execute_result"
    }
   ],
   "source": [
    "len(pos_reviews)"
   ]
  },
  {
   "cell_type": "markdown",
   "metadata": {},
   "source": [
    "Als nächstes erstellen wir unsere Trainings- und Testdatensätze. Dafür verwenden wir jeweils 750 negative und positive Reviews für den Trainingsdatensatz und die restlichen jeweils 250 Reviews für den Testdatensatz."
   ]
  },
  {
   "cell_type": "code",
   "execution_count": 29,
   "metadata": {
    "collapsed": true
   },
   "outputs": [],
   "source": [
    "train_set = neg_reviews[:750] + pos_reviews[:750]\n",
    "test_set = neg_reviews[750:] + pos_reviews[750:]"
   ]
  },
  {
   "cell_type": "markdown",
   "metadata": {},
   "source": [
    "Jetzt erstellen wir den Naive Bayes Klassifikator und trainieren ihn mit dem Trainingsdatensatz."
   ]
  },
  {
   "cell_type": "code",
   "execution_count": 30,
   "metadata": {},
   "outputs": [
    {
     "name": "stdout",
     "output_type": "stream",
     "text": [
      "72.39999999999999\n"
     ]
    }
   ],
   "source": [
    "classifier = NaiveBayesClassifier.train(train_set)\n",
    "\n",
    "print(100*nltk.classify.util.accuracy(classifier, test_set))"
   ]
  },
  {
   "cell_type": "markdown",
   "metadata": {},
   "source": [
    "Wir erhalten eine Genauigkeit von 72.4%. Unser Klassifikator kann also in ca. 3 von 4 Fällen richtig einschätzen, ob eine Bewertung positiv oder negativ war.\n",
    "\n",
    "Bei [imdb](www.imdb.com) findet man zahlreiche Bewertungen verschiedener Filme. Als Beispiel verwenden die folgende negative Bewertung des Films *Eragon*, um unseren Klassifikator zu testen:\n",
    "\n",
    "> Crude, unimaginative adaptation of Christopher Paolini first novel is a bad joke from top to bottom. The screenplay is a joke, with major characters missing from the original novel and the acting from almost everybody in the film is down right horrible and that's really because most of the roles are miscast to begin with. Jeremy Irons makes an grant effort with what he has to work with but he's let down by the script and the bad performances of his co-stars and the only solid piece of real acting comes from the voice over work of Rachel Weisz, who gives the dragon Saphira enough charm, charisma, and strong will to make her the only believable and likable character in the entire film. That's in itself a great accomplishment considering the fact that script really does not even try to do that with itself. "
   ]
  },
  {
   "cell_type": "code",
   "execution_count": 31,
   "metadata": {
    "collapsed": true
   },
   "outputs": [],
   "source": [
    "review_eragon = \"Crude, unimaginative adaptation of Christopher Paolini first novel is a bad joke from top to bottom. The screenplay is a joke, with major characters missing from the original novel and the acting from almost everybody in the film is down right horrible and that's really because most of the roles are miscast to begin with. Jeremy Irons makes an grant effort with what he has to work with but he's let down by the script and the bad performances of his co-stars and the only solid piece of real acting comes from the voice over work of Rachel Weisz, who gives the dragon Saphira enough charm, charisma, and strong will to make her the only believable and likable character in the entire film. That's in itself a great accomplishment considering the fact that script really does not even try to do that with itself.\""
   ]
  },
  {
   "cell_type": "markdown",
   "metadata": {},
   "source": [
    "Zunächst muss die Bewertung noch in Tokens umgewandelt werden, damit es von NLTK korrekt verwendet werden kann:"
   ]
  },
  {
   "cell_type": "code",
   "execution_count": 32,
   "metadata": {
    "collapsed": true
   },
   "outputs": [],
   "source": [
    "words = word_tokenize(review_eragon)\n",
    "words = create_word_features(words)"
   ]
  },
  {
   "cell_type": "code",
   "execution_count": 33,
   "metadata": {},
   "outputs": [
    {
     "data": {
      "text/plain": [
       "'negative'"
      ]
     },
     "execution_count": 33,
     "metadata": {},
     "output_type": "execute_result"
    }
   ],
   "source": [
    "classifier.classify(words)"
   ]
  },
  {
   "cell_type": "markdown",
   "metadata": {},
   "source": [
    "Der Klassifikator hat korrekterweise erkannt, dass es sich um eine negative Bewertung handelt.\n",
    "\n",
    "Versuchen wir es nun mit einer positiven Bewertung des Films *Avatar - Aufbruch nach Pandora*\n",
    "\n",
    "> I was lucky to see Avatar at a pre-screening a few hours ago. It completely blew me and the whole room away and i dare to say it will do so to 80% of any audience anywhere. The remaining 20%, who always finds something to complain about, will whine about character development, dialog, story or the pop-corn.\n",
    ">\n",
    ">Well, let me tell you: they went to this movie with the wrong expectations.\n",
    ">\n",
    ">You have most likely met Cameron's previous work(s): Aliens, Terminator 1 & 2, The Abyss, Titanic (!), just to name a few.\n",
    ">\n",
    ">So WHAT should you expect from Avatar??? MORE of the same!!! More of revolutionary film-making, more of grandiose new ideas, more of never-before-seen special effects, more of 150 minutes without relapsing, more of the James Cameron genius...\n",
    ">\n",
    ">I am very happy that the trailers didn't give the full story away. Lots of emotions are waiting for the viewer, laughter and tears also. Cameron was very smart keeping the teasers as teasers, nothing more... as the full movie will take your breath away.\n",
    ">\n",
    ">You will practically not notice that you are watching a non-existing world, it is sooo real. Attention to detail is superb. You computer geeks will know what I am talking about. This move was not rushed in the making. No wonder it could not have been done before - not having the proper computing power.\n",
    ">\n",
    ">The wild life, the jungle, the animals, the Na'vi-s, or the dragon-like flying creatures are all so life-like, they almost pop-off the screen (and in 3D they actually do :) .\n",
    ">\n",
    ">The sound effects were so well done, that when I saw at the credits that Skywalker Sound was behind it, i could only think of \"yessss... now THAT makes sense.\"\n",
    ">\n",
    ">Cameron is a visionaire - and again, he delivers, with full blast.\n",
    ">\n",
    ">A certain character says in the movie that Pandora (the planet where the story takes place) became his real world. My advice to you: let Pandora become YOUR real world for two and a half hours, let it make you completely forget about your life and problems, let it entertain you, move you, let it carry you away.\n",
    ">\n",
    ">Because THAT is what i expect as an exchange for my ticket.\n",
    ">\n",
    ">And a few hours ago i got tens of tickets worth of that. "
   ]
  },
  {
   "cell_type": "code",
   "execution_count": 34,
   "metadata": {
    "collapsed": true
   },
   "outputs": [],
   "source": [
    "review_avatar = \"I was lucky to see Avatar at a pre-screening a few hours ago. It completely blew me and the whole room away and i dare to say it will do so to 80% of any audience anywhere. The remaining 20%, who always finds something to complain about, will whine about character development, dialog, story or the pop-corn.\\n\\nWell, let me tell you: they went to this movie with the wrong expectations.\\n\\nYou have most likely met Cameron\\'s previous work(s): Aliens, Terminator 1 & 2, The Abyss, Titanic (!), just to name a few.\\n\\nSo WHAT should you expect from Avatar??? MORE of the same!!! More of revolutionary film-making, more of grandiose new ideas, more of never-before-seen special effects, more of 150 minutes without relapsing, more of the James Cameron genius...\\n\\nI am very happy that the trailers didn\\'t give the full story away. Lots of emotions are waiting for the viewer, laughter and tears also. Cameron was very smart keeping the teasers as teasers, nothing more... as the full movie will take your breath away.\\n\\nYou will practically not notice that you are watching a non-existing world, it is sooo real. Attention to detail is superb. You computer geeks will know what I am talking about. This move was not rushed in the making. No wonder it could not have been done before - not having the proper computing power.\\n\\nThe wild life, the jungle, the animals, the Na\\'vi-s, or the dragon-like flying creatures are all so life-like, they almost pop-off the screen (and in 3D they actually do :) .\\n\\nThe sound effects were so well done, that when I saw at the credits that Skywalker Sound was behind it, i could only think of \\\"yessss... now THAT makes sense.\\\"\\n\\nCameron is a visionaire - and again, he delivers, with full blast.\\n\\nA certain character says in the movie that Pandora (the planet where the story takes place) became his real world. My advice to you: let Pandora become YOUR real world for two and a half hours, let it make you completely forget about your life and problems, let it entertain you, move you, let it carry you away.\\n\\nBecause THAT is what i expect as an exchange for my ticket.\\n\\nAnd a few hours ago i got tens of tickets worth of that. \"\n",
    "words = word_tokenize(review_avatar)\n",
    "words = create_word_features(words)"
   ]
  },
  {
   "cell_type": "code",
   "execution_count": 35,
   "metadata": {},
   "outputs": [
    {
     "data": {
      "text/plain": [
       "'positive'"
      ]
     },
     "execution_count": 35,
     "metadata": {},
     "output_type": "execute_result"
    }
   ],
   "source": [
    "classifier.classify(words)"
   ]
  },
  {
   "cell_type": "markdown",
   "metadata": {},
   "source": [
    "# Quellen:\n",
    "* Ravindran & Garg (2015): *Mastering Social Media Mining with R*\n",
    "* Richert & Coelho (2013): *Building Machine Learning Systems with Python*\n",
    "* Bird, Klein & Loper (2009): *Natural Language Processing with Python* ([Link](http://www.nltk.org/book/))\n",
    "* http://www.nltk.org/\n",
    "* http://pythonforengineers.com/build-a-sentiment-analysis-app-with-movie-reviews/\n",
    "* https://de.wikipedia.org/wiki/Part-of-speech_Tagging\n",
    "* https://www.ling.upenn.edu/courses/Fall_2003/ling001/penn_treebank_pos.html\n",
    "* http://sentiwordnet.isti.cnr.it/\n",
    "* https://medium.com/udacity/natural-language-processing-and-sentiment-analysis-43111c33c27e"
   ]
  }
 ],
 "metadata": {
  "kernelspec": {
   "display_name": "Python 3",
   "language": "python",
   "name": "python3"
  },
  "language_info": {
   "codemirror_mode": {
    "name": "ipython",
    "version": 3
   },
   "file_extension": ".py",
   "mimetype": "text/x-python",
   "name": "python",
   "nbconvert_exporter": "python",
   "pygments_lexer": "ipython3",
   "version": "3.6.0"
  }
 },
 "nbformat": 4,
 "nbformat_minor": 2
}
