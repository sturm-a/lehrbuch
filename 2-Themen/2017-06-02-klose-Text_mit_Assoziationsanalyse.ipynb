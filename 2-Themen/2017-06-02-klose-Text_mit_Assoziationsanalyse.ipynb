{
 "cells": [
  {
   "cell_type": "markdown",
   "metadata": {},
   "source": [
    "# Theoretischer Hintergrund\n",
    "Heutzutage werden in allen Branchen und Unternehmensbereichen enorme Datenmengen gespeichert und verarbeitet.\n",
    "Diese Daten können zum Beispiel Namen, Adressen, Kaufinformationen und/oder Gesundheitsdaten sein.\n",
    "Durch Data Mining ist es möglich Kundenverhalten zu analysieren und Muster in den gesammelten Daten zu erkennen.\n",
    "In diesem Kapitel wird speziell auf das Data Mining Verfahren der Assoziationsanalyse eingegangen."
   ]
  },
  {
   "cell_type": "markdown",
   "metadata": {},
   "source": [
    "## Data Mining\n",
    "\n",
    "Data Mining an sich meint das \"Schürfen oder Graben\" in bereits existierenden Datenbanken. Hierbei werden mit Hilfe\n",
    "von intelligenten Suchalgorithmen und statistischen Methoden neue Erkenntnisse aus den gegebenen Daten extrahiert um so\n",
    "den bisherigen Wissensstand zu erweitern und Muster in den Daten zu erkennen.\n",
    "Durch dieses neu erworbene Wissen kann ein Unternehmen beispielsweise Fragen beantworten wie:\n",
    "\n",
    "Welche Produkte aus meinem Warensortiment werden oft zusammen gekauft?\n",
    "\n",
    "Welche Güter biete ich welcher Kundengruppe an?\n",
    "\n",
    "Welche Kunden befinden sich in meiner Hauptzielgruppe?\n",
    "\n",
    "Welche Entwicklung/welcher Trend ist zu erwarten?\n",
    "\n",
    "Data Mining soll es somit ermöglichen Aussagen über die Zukunft z.B. Kundentrends zu prognostizieren. Die im Prozess einbezogenen Daten müssen\n",
    "vorher bereinigt werden so dass diese für die anschließende Analyse konsistent und qualitativ hochwertig sind.\n",
    "Das geschieht vorerst durch das Aufspüren und Entfernen von Ausreißen und dem anschießenden Clustering (Klassifizierung)\n",
    "der vorliegenden Daten.\n",
    "\n"
   ]
  },
  {
   "cell_type": "markdown",
   "metadata": {},
   "source": [
    "![DMP](DataMiningProcess.png \"Data Mining Prozess\")\n",
    ": Der Data Mining Prozess [CAR]"
   ]
  },
  {
   "cell_type": "markdown",
   "metadata": {},
   "source": [
    "## Assoziationsanalyse\n",
    "Die Assoziationsanalyse ist ein Data Mining Verfahren, durch welches signifikante Abhängigkeiten zwischen Merkmalen\n",
    "beschrieben werden können.\n",
    "Sie leitet sich von der sogenannten Warenkorbanalyse ab, in welcher herausgestellt werden soll welche Produkte häufig\n",
    "zusammen gekauft werden. Meist wird die Assoziationsanalyse weiterhin in diesem Bereich angewendet findet\n",
    "aber auch Einsatz in anderen Gebieten wie beispielsweise der Versicherungsbranche oder im Gesundheitswesen [PET05].\n",
    "Statt nach Produkten die gemeinsam gekauft werden wird dabei nach Elementen gesucht, die oft in Kombination auftreten.\n",
    "Zum Beispiel ist das Auftreten eines Herzinfarkts oder Schlaganfalls bei einem Patienten der unter Arteriosklerose leidet\n",
    "wahrscheinlicher als bei einem Patienten ohne Arteriosklerose.\n",
    "\n",
    "Den meisten Laien ist die Assoziationsanalyse bereits als Warenkorbanalyse aus Online-Shopping-Portalen wie Amazon bekannt.\n",
    "Hier soll das Kaufverhalten durch die Assoziationsanalyse angeregt und der Profit somit gesteigert werden.\n",
    "Dies nimmt der Nutzer als individuelle Empfehlungen für seine Person wahr. Es werden dem Nutzer ähnliche Produkte empfohlen,\n",
    "die er bereits erworben hat. Beispielsweise mit den Hinweisen wie:\n",
    "\n",
    "\"Wird oft zusammen gekauft\"\n",
    "\n",
    "\"Empfehlungen für Sie\"\n",
    "\n",
    "oder auch\n",
    "\n",
    "\"Kunden die diesen Artikel gekauft haben, kauften auch\"\n",
    "\n"
   ]
  },
  {
   "cell_type": "markdown",
   "metadata": {},
   "source": [
    "![SA](Amazon_Ass.png \"Screenshot Amazon\")\n",
    "\n",
    ": Assoziationsanalyse bei Amazon"
   ]
  },
  {
   "cell_type": "markdown",
   "metadata": {},
   "source": [
    "### Assoziationsreglen\n",
    "Bei der Assoziationsanalyse wird nach Mustern in Daten gesucht um dann auf eine Regelhaftigkeit zu schließen.\n",
    "Durch das vorangegangene clustern der Daten können Assoziationsregeln in ihnen gesucht werden.\n",
    "Hier ist meist eine Visualisierung durch Entscheidungsbäume zum besseren Verständnis ratsam.\n",
    "Jede Assoziationsregel besteht aus einem **Regelrumpf** (Prämisse) $Y$ und einem **Regelknopf** (Konsequenz) $Z$.\n",
    "Wenn das Ereignis $Y$ tritt mit einer bestimmten Wahrscheinlichkeit auch Ereignis $Z$ ein:\n",
    "$$\\begin{aligned} Y\\to Z\\\\\\end{aligned}$$ $Y$ und $Z$ werden dabei als disjunkte Ereignisse angesehen [SCH12].\n",
    "\n",
    "\n"
   ]
  },
  {
   "cell_type": "markdown",
   "metadata": {},
   "source": [
    "#### Support und Konfidenz\n",
    "Um etwas über die Qualität von Assoziationsregeln auszusagen werden zwei Interessantheitsmaße verwendet die\n",
    "**Support** und der **Konfidenz** einer Regel. Der Support zeigt die Anzahl der Transaktionen eines Ereignisses\n",
    "im Verhältnis zur Gesamtmenge von Transaktionen\n",
    ". Eine Transaktion ist in der Warenkorbanalyse beispielsweise\n",
    "der Einkauf von einzelnen oder kombinierten Produkten eines Kunden. Der Support einer Transaktionsmenge/eines Ereignisses\n",
    "wird wie folgt definiert:\n",
    "\n",
    "$$\n",
    "support(Y)=\\frac{|\\{x^k\\in X : Y \\subset x^k\\}|}{n}\n",
    "$$ \n",
    "\n",
    "Der Support einer Assoziationsregel kann\n",
    "mit der Vereinigung von $Y$ und $Z$ gleichgesetz werden: \n",
    "\n",
    "$$\n",
    "support(Y\\to Z)=Y\\cup Z\n",
    "$$ \n",
    "\n",
    "Die Konfidenz wird aus dem Verhältnis der Tansaktionen welche das Ereignis $Y$ erfüllen und derer welche sowohl $Y$\n",
    "als auch $Z$ enthalten berechnet:\n",
    "\n",
    "$$\n",
    "confidence(Y\\to Z)= \\frac{support(Y\\to Z)}{support(Y)}\n",
    "$$ \n",
    "\n",
    "Allgemein gilt je größer die Interessantheitsmaße Support und Konfidenz umso höher ist die Qualität der Assoziationsregel.\n",
    "Diese haben jeweils einen möglichen Ergebnisbereich von 0 bis 1.\n",
    "Um zu vermeiden, dass die Konfidenz einer Assoziationsregel nur den Support einer der beiden Ereignisse widerspiegelt\n",
    "wird hier zu das Lift Maß verwendet. Je höher der Lift umso außergewöhnlicher ist der Zusammenhang zwischen $Y$ und $Z$.\n",
    "\n",
    "$$\n",
    "lift(Y\\to Z)=\\frac{confidence(Y\\to Z)}{support(Z)}\n",
    "$$ \n",
    "[SAA03][SCH12]\n",
    "\n"
   ]
  },
  {
   "cell_type": "markdown",
   "metadata": {},
   "source": [
    "### Der Apriori Algorithmus\n",
    "Der Apriori Algorithmus ist das gängigste Verfahren zum Finden von Assoziationsregeln in einer Datenbank.\n",
    "Der Algorithmus arbeitet stufenweise. Zuerst sollten dazu für die Assoziationsregeln ein minimaler Support $minsup$\n",
    "und eine minimale Konfidenz $mincon$ festgelegt werden. Umso größer der Datensatz umso höher können diese Minima gesetzt werden.\n",
    "Dadurch wird sicher gestellt nur Regeln mit einer hohen Konfidenz und einem hohen Support in die Regelbeschreibung\n",
    "aufzunehmen, sodass diese nicht unendlich viele kaum gültige Regeln aufweist.\n",
    "\n",
    "$$\\begin{aligned}\n",
    "s_{min}\\in (0,1)\\\\c_{min}\\in (0,1)\\end{aligned}$$\n",
    "\n",
    "Es wird somit nach Regeln mit folgenden Eigenschaften gesucht:\n",
    "\n",
    "$$\\begin{aligned}\n",
    "support(Y\\to Z)\\geq s_{min}\\\\confidence(Y\\to Z)\\geq c_{min}\\end{aligned}$$\n",
    "\n",
    "Im weiteren Verlauf wird zur Erklärung von der Warenkorbanalyse ausgegangen.\n",
    "Beim Apriori Algorithmus wird die Erzeugung der Assoziationsregeln nun in zwei Schritte zerlegt:\n",
    "\n",
    "1. Alle Ereignisse oder Ereigniskombinationen deren Support über dem definierten $minsup$ liegt\n",
    "werden identifiziert. Diese bezeichnet man als häufig auftretende Ereignisse/Ereigniskombinationen (Itemsets).\n",
    "\n",
    "$$\n",
    "support(X) \\geq s_{min}$$\n",
    "\n",
    "2. Alle Assoziationsregeln deren Konfidenz sich über dem definierten $mincon$ befindet und aus den\n",
    "in Schritt 1 definierten häufig auftretenden Itemsets stammen werden bestimmt.\n",
    "\n",
    "$$\n",
    "confidence(X) \\geq c_{min}$$\n",
    "\n",
    "Ein verwendetes Itemset $X$ (ein Einkauf) besteht aus der Länge 4k$. $k$ stellt hierbei die Menge an Items\n",
    "welche sich im Itemset befinden dar. Die Items werden lexikographisch angeordnet,\n",
    "da die Reihenfolge in welcher sie an der Transaktion beteiligt sind nicht von Bedeutung für die Analyse ist d.h.\n",
    "\n",
    "$$\n",
    "x_{1}\\leq x_{2} \\leq ...\\leq x_{k}$$\n",
    "\n",
    "Durch diese Ordung gibt es weniger Anordnungsmöglichkeiten der Items im Itemset ($\\frac{n!}{(n-k!)}$ statt $\\frac{n!}{k!(n-k!)}$)\n",
    "und der Analyseaufwand kann enorm verringert werden. Beim Apriori Algorithmus wird zusätzlich davon ausgegangen, dass\n",
    "falls ein Itemset nicht häufig ist die darin enthaltenen Items ebenfalls selten erworben werden.\n",
    "Der Algorithmus lässt sich wie folgt beschreiben ($I$=Items, $T$=Transaktionen):\n"
   ]
  },
  {
   "cell_type": "markdown",
   "metadata": {},
   "source": [
    "![AA](Algorithmus.png \"Apriori Algorithmus\")\n",
    ":Apriori Algorithmus [RIE08]"
   ]
  },
  {
   "cell_type": "markdown",
   "metadata": {},
   "source": [
    "![AA](AprioriGen.png \"AprioriKandidatenGenerierung\")\n",
    ":Generierung von Apriori-Kandidaten [RIE08]"
   ]
  },
  {
   "cell_type": "markdown",
   "metadata": {},
   "source": [
    "Im folgenden Beispiel wird aufgezeigt wie der Apriori Algorithmus selbst arbeitet. Hier werden 8 Transaktionen betrachtet, wobei der absolute Mindestsupport bei 2 liegt, die Iteration wiederum beträgt k=3 also beinhaltet es alle drei Interessantheitsmaße des Algorithmus (Support, Konfidenz und Lift). Danach erfolgt die Bildung der möglichen Regel-Kandidaten. Wenn die Ereignisse mit den höchsten Interessantheitsmaßen bearbeitet sind wird auf die nächst tiefere Stufe gewechselt."
   ]
  },
  {
   "cell_type": "markdown",
   "metadata": {},
   "source": [
    "![AP](AprioriBeispiel.png \"Beispiel Apriori\")\n",
    ": Beispiel für den Apriorli Algorithmus [PET05]"
   ]
  },
  {
   "cell_type": "markdown",
   "metadata": {},
   "source": [
    "# Praktischer Hintergrund\n",
    "/nZur praktischen Anwendung der Assoziationsanalyse in R wurde eine zufällige Transaktionstabelle erstellt.\n",
    " \n",
    "\n",
    "   Transaktionsnummer  |Geschlecht|   Produkt A   |  Produkt B   |  Produkt C |  Produkt D        \n",
    "  :----------:|:--------:|:--------:|:--------:|:--------:|:--------:|\n",
    "      1       |    M     |   Bier     |  Chips      |   Windeln   |  Kaffee         \n",
    "      2       |    W     |   Windeln  |  Kuchen     |   Kaffee    |  Milch                 \n",
    "      3       |    W     |   Chips    |  Milch      |             |     \n",
    "      4       |    M     |   Bier     |  Chips      |   Kaffee    |     \n",
    "      5       |    M     |   Bier     |  Windeln    |   Kaffee    |  \n",
    "      6       |    M     |   Bier     |  Chips      |             |  \n",
    "      7       |    M     |   Bier     |             |             | \n",
    "      8       |    W     |   Bier     |  Kaffee     |   Milch     |        \n",
    "      9       |    M     |   Bier     |  Chips      |   Windeln   |  Kaffee    \n",
    "      10      |    W     |   Windeln  |  Milch      |             |     \n",
    "      11      |    M     |   Bier     |  Windeln    |   Chips     | \n",
    "      12      |    W     |   Chips    |  Windlen    |   Kaffee    |  \n",
    "      13      |    W     |   Kuchen   |  Kaffee     |   Milch     |  \n",
    "      14      |    W     |   Windeln  |  Kaffee     |   Milch     |  \n",
    "      15      |    M     |   Kuchen   |  Chips      |             |     \n",
    "      16      |    M     |   Bier     |  Chips      |   Windeln   |  Kaffee      \n",
    "\n"
   ]
  },
  {
   "cell_type": "markdown",
   "metadata": {},
   "source": [
    "## Grundlagen der Assoziationsanalyse mit R"
   ]
  },
  {
   "cell_type": "markdown",
   "metadata": {},
   "source": [
    "Zuerst werden die benötigten R Pakete **arules** und **arulesViz** installiert und dessen Bibliothek aufgerufen.\n",
    "Um diese Pakete verwenden zu können wird die R Version 3.3.3 benötigt.\n"
   ]
  },
  {
   "cell_type": "code",
   "execution_count": 1,
   "metadata": {
    "collapsed": true
   },
   "outputs": [],
   "source": [
    "install.packages(\"arules\");\n",
    "install.packages(\"arulesViz\");"
   ]
  },
  {
   "cell_type": "code",
   "execution_count": 2,
   "metadata": {
    "collapsed": true
   },
   "outputs": [],
   "source": [
    "library(arules);\n",
    "library(arulesViz);"
   ]
  },
  {
   "cell_type": "markdown",
   "metadata": {},
   "source": [
    "Anschließend werden die Transaktionen des Dummy Datensatzes im .csv Format in R als Transaktionen eingelesen. Hierbei ist\n",
    "$file$ der Pfad zur Quelldatei, die Variable $rm.duplicates$ entfernt Duplikate aus den Daten, falls sie auf\n",
    "T gesetzt wird, sollte das nicht gewünscht sein wird sie auf F gesetzt. Ob die Variable $format$ auf basket oder single\n",
    "gesetz wird hängt von der Struktur der Quelldatei ab, sind die mehrere Produkte einer Transaktion nebeneinander angeordnet\n",
    "wird das Format basket verwendet, ist pro Transaktion nur ein Produkt in jeder Zeile wird das Format single verwendet.\n",
    "$sep$ gibt das Trennzeichen, welches in der Quelldatei verwendet wurde, welches meist ein Komma oder ein Semikolon ist.\n",
    "$cols$ beschreibt die Felder mit der Transaktionsnummer im single Format z.B. $cols=c(1,2)$, im basket Format muss nur\n",
    "die Transaktionsnummer benannt werden z.B. $cols=c(1)$, wird $cols$ auf NULL gesetzt gibt es keine Transaktionsnummer.\n"
   ]
  },
  {
   "cell_type": "code",
   "execution_count": 3,
   "metadata": {
    "collapsed": true
   },
   "outputs": [],
   "source": [
    "dataset <- read.transactions(file='dataset.csv', rm.duplicates=T, format='basket', sep=';', cols=c(1));"
   ]
  },
  {
   "cell_type": "markdown",
   "metadata": {},
   "source": [
    "Durch **summary** kann man sich einen ersten Überblick über die Daten verschaffen und sie mit **itemFrequencyPlot** grafisch darstellen."
   ]
  },
  {
   "cell_type": "code",
   "execution_count": 4,
   "metadata": {},
   "outputs": [
    {
     "data": {
      "text/plain": [
       "transactions as itemMatrix in sparse format with\n",
       " 16 rows (elements/itemsets/transactions) and\n",
       " 8 columns (items) and a density of 0.484375 \n",
       "\n",
       "most frequent items:\n",
       " Kaffee    Bier   Chips       M Windeln (Other) \n",
       "     10       9       9       9       9      16 \n",
       "\n",
       "element (itemset/transaction) length distribution:\n",
       "sizes\n",
       "2 3 4 5 \n",
       "1 4 7 4 \n",
       "\n",
       "   Min. 1st Qu.  Median    Mean 3rd Qu.    Max. \n",
       "  2.000   3.000   4.000   3.875   4.250   5.000 \n",
       "\n",
       "includes extended item information - examples:\n",
       "  labels\n",
       "1   Bier\n",
       "2  Chips\n",
       "3 Kaffee\n",
       "\n",
       "includes extended transaction information - examples:\n",
       "  transactionID\n",
       "1             1\n",
       "2             2\n",
       "3             3"
      ]
     },
     "metadata": {},
     "output_type": "display_data"
    }
   ],
   "source": [
    "summary(dataset);"
   ]
  },
  {
   "cell_type": "markdown",
   "metadata": {},
   "source": [
    "Zunächst wird ein Histogram zu den vorliegenden Daten erstellt um sich einen weiternen Überblick über die Daten zu verschaffen."
   ]
  },
  {
   "cell_type": "code",
   "execution_count": 5,
   "metadata": {},
   "outputs": [
    {
     "data": {
      "image/png": "[encoded data removed]",
      "text/plain": [
       "Plot with title \"Histogram of size(dataset)\""
      ]
     },
     "metadata": {},
     "output_type": "display_data"
    }
   ],
   "source": [
    "hist(size(dataset));"
   ]
  },
  {
   "cell_type": "markdown",
   "metadata": {},
   "source": [
    "Mit $itemFrequencyPlot(dataset)$ kann nur die Häufigkeit aller Items visualisiert werden."
   ]
  },
  {
   "cell_type": "code",
   "execution_count": 6,
   "metadata": {},
   "outputs": [
    {
     "data": {
      "image/png": "[encoded data removed]",
      "text/plain": [
       "plot without title"
      ]
     },
     "metadata": {},
     "output_type": "display_data"
    }
   ],
   "source": [
    "itemFrequencyPlot(dataset);"
   ]
  },
  {
   "cell_type": "markdown",
   "metadata": {},
   "source": [
    "Mit der $crosstable$ kann man sich eine weitere Übersicht zu den Daten verschaffen, indem sie in einer Cross-Tabelle dargestellt werden."
   ]
  },
  {
   "cell_type": "code",
   "execution_count": 7,
   "metadata": {},
   "outputs": [
    {
     "data": {
      "text/html": [
       "<table>\n",
       "<thead><tr><th></th><th scope=col>Bier</th><th scope=col>Chips</th><th scope=col>Kaffee</th><th scope=col>Kuchen</th><th scope=col>M</th><th scope=col>Milch</th><th scope=col>W</th><th scope=col>Windeln</th></tr></thead>\n",
       "<tbody>\n",
       "\t<tr><th scope=row>Bier</th><td>9 </td><td>6 </td><td> 6</td><td>0 </td><td>8 </td><td>1 </td><td>1 </td><td>5 </td></tr>\n",
       "\t<tr><th scope=row>Chips</th><td>6 </td><td>9 </td><td> 5</td><td>1 </td><td>7 </td><td>1 </td><td>2 </td><td>5 </td></tr>\n",
       "\t<tr><th scope=row>Kaffee</th><td>6 </td><td>5 </td><td>10</td><td>2 </td><td>5 </td><td>4 </td><td>5 </td><td>7 </td></tr>\n",
       "\t<tr><th scope=row>Kuchen</th><td>0 </td><td>1 </td><td> 2</td><td>3 </td><td>1 </td><td>2 </td><td>2 </td><td>1 </td></tr>\n",
       "\t<tr><th scope=row>M</th><td>8 </td><td>7 </td><td> 5</td><td>1 </td><td>9 </td><td>0 </td><td>0 </td><td>5 </td></tr>\n",
       "\t<tr><th scope=row>Milch</th><td>1 </td><td>1 </td><td> 4</td><td>2 </td><td>0 </td><td>6 </td><td>6 </td><td>3 </td></tr>\n",
       "\t<tr><th scope=row>W</th><td>1 </td><td>2 </td><td> 5</td><td>2 </td><td>0 </td><td>6 </td><td>7 </td><td>4 </td></tr>\n",
       "\t<tr><th scope=row>Windeln</th><td>5 </td><td>5 </td><td> 7</td><td>1 </td><td>5 </td><td>3 </td><td>4 </td><td>9 </td></tr>\n",
       "</tbody>\n",
       "</table>\n"
      ],
      "text/latex": [
       "\\begin{tabular}{r|llllllll}\n",
       "  & Bier & Chips & Kaffee & Kuchen & M & Milch & W & Windeln\\\\\n",
       "\\hline\n",
       "\tBier & 9  & 6  &  6 & 0  & 8  & 1  & 1  & 5 \\\\\n",
       "\tChips & 6  & 9  &  5 & 1  & 7  & 1  & 2  & 5 \\\\\n",
       "\tKaffee & 6  & 5  & 10 & 2  & 5  & 4  & 5  & 7 \\\\\n",
       "\tKuchen & 0  & 1  &  2 & 3  & 1  & 2  & 2  & 1 \\\\\n",
       "\tM & 8  & 7  &  5 & 1  & 9  & 0  & 0  & 5 \\\\\n",
       "\tMilch & 1  & 1  &  4 & 2  & 0  & 6  & 6  & 3 \\\\\n",
       "\tW & 1  & 2  &  5 & 2  & 0  & 6  & 7  & 4 \\\\\n",
       "\tWindeln & 5  & 5  &  7 & 1  & 5  & 3  & 4  & 9 \\\\\n",
       "\\end{tabular}\n"
      ],
      "text/markdown": [
       "\n",
       "| <!--/--> | Bier | Chips | Kaffee | Kuchen | M | Milch | W | Windeln | \n",
       "|---|---|---|---|---|---|---|---|\n",
       "| Bier | 9  | 6  |  6 | 0  | 8  | 1  | 1  | 5  | \n",
       "| Chips | 6  | 9  |  5 | 1  | 7  | 1  | 2  | 5  | \n",
       "| Kaffee | 6  | 5  | 10 | 2  | 5  | 4  | 5  | 7  | \n",
       "| Kuchen | 0  | 1  |  2 | 3  | 1  | 2  | 2  | 1  | \n",
       "| M | 8  | 7  |  5 | 1  | 9  | 0  | 0  | 5  | \n",
       "| Milch | 1  | 1  |  4 | 2  | 0  | 6  | 6  | 3  | \n",
       "| W | 1  | 2  |  5 | 2  | 0  | 6  | 7  | 4  | \n",
       "| Windeln | 5  | 5  |  7 | 1  | 5  | 3  | 4  | 9  | \n",
       "\n",
       "\n"
      ],
      "text/plain": [
       "        Bier Chips Kaffee Kuchen M Milch W Windeln\n",
       "Bier    9    6      6     0      8 1     1 5      \n",
       "Chips   6    9      5     1      7 1     2 5      \n",
       "Kaffee  6    5     10     2      5 4     5 7      \n",
       "Kuchen  0    1      2     3      1 2     2 1      \n",
       "M       8    7      5     1      9 0     0 5      \n",
       "Milch   1    1      4     2      0 6     6 3      \n",
       "W       1    2      5     2      0 6     7 4      \n",
       "Windeln 5    5      7     1      5 3     4 9      "
      ]
     },
     "metadata": {},
     "output_type": "display_data"
    }
   ],
   "source": [
    "crossTable(dataset);"
   ]
  },
  {
   "cell_type": "markdown",
   "metadata": {},
   "source": [
    "Es kann außerdem zusätzlich ein Cluster Dendrogam zu den Daten erstellt werden. Dabei kann der Nutzer bereits die Zusammenhänge zwischen den Items erkennen."
   ]
  },
  {
   "cell_type": "code",
   "execution_count": 8,
   "metadata": {},
   "outputs": [
    {
     "data": {
      "image/png": "[encoded data removed]",
      "text/plain": [
       "Plot with title \"Cluster Dendrogram\""
      ]
     },
     "metadata": {},
     "output_type": "display_data"
    }
   ],
   "source": [
    "datasetdiss <- dissimilarity(dataset[,itemFrequency(dataset) > 0.05], method = \"Jaccard\", which = \"items\");\n",
    "clustds <- hclust(datasetdiss, method = \"ward.D\");\n",
    "plot(clustds);"
   ]
  },
  {
   "cell_type": "markdown",
   "metadata": {},
   "source": [
    "Anschließend wird der Apriori Algorithmus in R durchgeführt. Dabei sucht wird nach Assoziationsregeln für die vorliegenden Daten gesucht. Die Parameter Support $supp$ und Konfidenz $conf$ müssen von Nutzer definiert werden (zwischen 0 und 1 möglich), je geringer diese Interessantheitsmaße definiert werden um so mehr Assoziationsregeln werden gefunden, wobei nicht alle von diesen eine hohe Qualität (am Lift gemessen) aufweisen. Im Dummy Datensatz werden so 151 Assoziationsregeln gefunden."
   ]
  },
  {
   "cell_type": "code",
   "execution_count": 9,
   "metadata": {},
   "outputs": [
    {
     "name": "stdout",
     "output_type": "stream",
     "text": [
      "Apriori\n",
      "\n",
      "Parameter specification:\n",
      " confidence minval smax arem  aval originalSupport maxtime support minlen\n",
      "        0.5    0.1    1 none FALSE            TRUE       5    0.05      1\n",
      " maxlen target   ext\n",
      "     10  rules FALSE\n",
      "\n",
      "Algorithmic control:\n",
      " filter tree heap memopt load sort verbose\n",
      "    0.1 TRUE TRUE  FALSE TRUE    2    TRUE\n",
      "\n",
      "Absolute minimum support count: 0 \n",
      "\n",
      "set item appearances ...[0 item(s)] done [0.00s].\n",
      "set transactions ...[8 item(s), 16 transaction(s)] done [0.00s].\n",
      "sorting and recoding items ... [8 item(s)] done [0.00s].\n",
      "creating transaction tree ... done [0.00s].\n",
      "checking subsets of size 1 2 3 4 5 done [0.00s].\n",
      "writing ... [151 rule(s)] done [0.00s].\n",
      "creating S4 object  ... done [0.00s].\n"
     ]
    }
   ],
   "source": [
    "rules <- apriori(dataset, parameter = list(supp=0.05, conf=0.5));"
   ]
  },
  {
   "cell_type": "code",
   "execution_count": 10,
   "metadata": {},
   "outputs": [
    {
     "data": {
      "text/plain": [
       "set of 151 rules\n",
       "\n",
       "rule length distribution (lhs + rhs):sizes\n",
       " 1  2  3  4  5 \n",
       " 5 30 63 43 10 \n",
       "\n",
       "   Min. 1st Qu.  Median    Mean 3rd Qu.    Max. \n",
       "  1.000   3.000   3.000   3.152   4.000   5.000 \n",
       "\n",
       "summary of quality measures:\n",
       "    support         confidence          lift      \n",
       " Min.   :0.0625   Min.   :0.5000   Min.   :0.800  \n",
       " 1st Qu.:0.1250   1st Qu.:0.5714   1st Qu.:1.067  \n",
       " Median :0.2500   Median :0.7500   Median :1.383  \n",
       " Mean   :0.2148   Mean   :0.7696   Mean   :1.512  \n",
       " 3rd Qu.:0.2812   3rd Qu.:1.0000   3rd Qu.:1.778  \n",
       " Max.   :0.6250   Max.   :1.0000   Max.   :2.667  \n",
       "\n",
       "mining info:\n",
       "    data ntransactions support confidence\n",
       " dataset            16    0.05        0.5"
      ]
     },
     "metadata": {},
     "output_type": "display_data"
    }
   ],
   "source": [
    "summary(rules);"
   ]
  },
  {
   "cell_type": "markdown",
   "metadata": {
    "collapsed": true
   },
   "source": [
    "Mit $inspect(rules)$ können die Assoziationsregeln in der Console ausgegeben werden. Wurden sehr viele Regeln gefunden, wie in diesem Beispiel, so kann man die Anzeige einschränken, dies kann man von den Interessantheitsmaßen abhängig gestalten. Im Beispiel werden je die 10 Regeln mit dem höchsten Support bzw. der höchsten Konfidenz oder dem höchsten Lift abgefragt."
   ]
  },
  {
   "cell_type": "code",
   "execution_count": 11,
   "metadata": {},
   "outputs": [
    {
     "name": "stdout",
     "output_type": "stream",
     "text": [
      "      lhs                              rhs       support confidence lift     \n",
      "[1]   {}                            => {M}       0.5625  0.5625000  1.0000000\n",
      "[2]   {}                            => {Chips}   0.5625  0.5625000  1.0000000\n",
      "[3]   {}                            => {Bier}    0.5625  0.5625000  1.0000000\n",
      "[4]   {}                            => {Windeln} 0.5625  0.5625000  1.0000000\n",
      "[5]   {}                            => {Kaffee}  0.6250  0.6250000  1.0000000\n",
      "[6]   {Kuchen}                      => {Milch}   0.1250  0.6666667  1.7777778\n",
      "[7]   {Kuchen}                      => {W}       0.1250  0.6666667  1.5238095\n",
      "[8]   {Kuchen}                      => {Kaffee}  0.1250  0.6666667  1.0666667\n",
      "[9]   {Milch}                       => {W}       0.3750  1.0000000  2.2857143\n",
      "[10]  {W}                           => {Milch}   0.3750  0.8571429  2.2857143\n",
      "[11]  {Milch}                       => {Windeln} 0.1875  0.5000000  0.8888889\n",
      "[12]  {Milch}                       => {Kaffee}  0.2500  0.6666667  1.0666667\n",
      "[13]  {W}                           => {Windeln} 0.2500  0.5714286  1.0158730\n",
      "[14]  {W}                           => {Kaffee}  0.3125  0.7142857  1.1428571\n",
      "[15]  {Kaffee}                      => {W}       0.3125  0.5000000  1.1428571\n",
      "[16]  {M}                           => {Chips}   0.4375  0.7777778  1.3827160\n",
      "[17]  {Chips}                       => {M}       0.4375  0.7777778  1.3827160\n",
      "[18]  {M}                           => {Bier}    0.5000  0.8888889  1.5802469\n",
      "[19]  {Bier}                        => {M}       0.5000  0.8888889  1.5802469\n",
      "[20]  {M}                           => {Windeln} 0.3125  0.5555556  0.9876543\n",
      "[21]  {Windeln}                     => {M}       0.3125  0.5555556  0.9876543\n",
      "[22]  {M}                           => {Kaffee}  0.3125  0.5555556  0.8888889\n",
      "[23]  {Kaffee}                      => {M}       0.3125  0.5000000  0.8888889\n",
      "[24]  {Chips}                       => {Bier}    0.3750  0.6666667  1.1851852\n",
      "[25]  {Bier}                        => {Chips}   0.3750  0.6666667  1.1851852\n",
      "[26]  {Chips}                       => {Windeln} 0.3125  0.5555556  0.9876543\n",
      "[27]  {Windeln}                     => {Chips}   0.3125  0.5555556  0.9876543\n",
      "[28]  {Chips}                       => {Kaffee}  0.3125  0.5555556  0.8888889\n",
      "[29]  {Kaffee}                      => {Chips}   0.3125  0.5000000  0.8888889\n",
      "[30]  {Bier}                        => {Windeln} 0.3125  0.5555556  0.9876543\n",
      "[31]  {Windeln}                     => {Bier}    0.3125  0.5555556  0.9876543\n",
      "[32]  {Bier}                        => {Kaffee}  0.3750  0.6666667  1.0666667\n",
      "[33]  {Kaffee}                      => {Bier}    0.3750  0.6000000  1.0666667\n",
      "[34]  {Windeln}                     => {Kaffee}  0.4375  0.7777778  1.2444444\n",
      "[35]  {Kaffee}                      => {Windeln} 0.4375  0.7000000  1.2444444\n",
      "[36]  {Kuchen,Milch}                => {W}       0.1250  1.0000000  2.2857143\n",
      "[37]  {Kuchen,W}                    => {Milch}   0.1250  1.0000000  2.6666667\n",
      "[38]  {Kuchen,Milch}                => {Windeln} 0.0625  0.5000000  0.8888889\n",
      "[39]  {Kuchen,Windeln}              => {Milch}   0.0625  1.0000000  2.6666667\n",
      "[40]  {Kuchen,Milch}                => {Kaffee}  0.1250  1.0000000  1.6000000\n",
      "[41]  {Kaffee,Kuchen}               => {Milch}   0.1250  1.0000000  2.6666667\n",
      "[42]  {Kaffee,Milch}                => {Kuchen}  0.1250  0.5000000  2.6666667\n",
      "[43]  {Kuchen,W}                    => {Windeln} 0.0625  0.5000000  0.8888889\n",
      "[44]  {Kuchen,Windeln}              => {W}       0.0625  1.0000000  2.2857143\n",
      "[45]  {Kuchen,W}                    => {Kaffee}  0.1250  1.0000000  1.6000000\n",
      "[46]  {Kaffee,Kuchen}               => {W}       0.1250  1.0000000  2.2857143\n",
      "[47]  {Kuchen,M}                    => {Chips}   0.0625  1.0000000  1.7777778\n",
      "[48]  {Chips,Kuchen}                => {M}       0.0625  1.0000000  1.7777778\n",
      "[49]  {Kuchen,Windeln}              => {Kaffee}  0.0625  1.0000000  1.6000000\n",
      "[50]  {Kaffee,Kuchen}               => {Windeln} 0.0625  0.5000000  0.8888889\n",
      "[51]  {Chips,Milch}                 => {W}       0.0625  1.0000000  2.2857143\n",
      "[52]  {Chips,W}                     => {Milch}   0.0625  0.5000000  1.3333333\n",
      "[53]  {Bier,Milch}                  => {W}       0.0625  1.0000000  2.2857143\n",
      "[54]  {Bier,W}                      => {Milch}   0.0625  1.0000000  2.6666667\n",
      "[55]  {Milch,W}                     => {Windeln} 0.1875  0.5000000  0.8888889\n",
      "[56]  {Milch,Windeln}               => {W}       0.1875  1.0000000  2.2857143\n",
      "[57]  {W,Windeln}                   => {Milch}   0.1875  0.7500000  2.0000000\n",
      "[58]  {Milch,W}                     => {Kaffee}  0.2500  0.6666667  1.0666667\n",
      "[59]  {Kaffee,Milch}                => {W}       0.2500  1.0000000  2.2857143\n",
      "[60]  {Kaffee,W}                    => {Milch}   0.2500  0.8000000  2.1333333\n",
      "[61]  {Bier,Milch}                  => {Kaffee}  0.0625  1.0000000  1.6000000\n",
      "[62]  {Milch,Windeln}               => {Kaffee}  0.1250  0.6666667  1.0666667\n",
      "[63]  {Kaffee,Milch}                => {Windeln} 0.1250  0.5000000  0.8888889\n",
      "[64]  {Chips,W}                     => {Windeln} 0.0625  0.5000000  0.8888889\n",
      "[65]  {Chips,W}                     => {Kaffee}  0.0625  0.5000000  0.8000000\n",
      "[66]  {Bier,W}                      => {Kaffee}  0.0625  1.0000000  1.6000000\n",
      "[67]  {W,Windeln}                   => {Kaffee}  0.1875  0.7500000  1.2000000\n",
      "[68]  {Kaffee,W}                    => {Windeln} 0.1875  0.6000000  1.0666667\n",
      "[69]  {Chips,M}                     => {Bier}    0.3750  0.8571429  1.5238095\n",
      "[70]  {Bier,M}                      => {Chips}   0.3750  0.7500000  1.3333333\n",
      "[71]  {Bier,Chips}                  => {M}       0.3750  1.0000000  1.7777778\n",
      "[72]  {Chips,M}                     => {Windeln} 0.2500  0.5714286  1.0158730\n",
      "[73]  {M,Windeln}                   => {Chips}   0.2500  0.8000000  1.4222222\n",
      "[74]  {Chips,Windeln}               => {M}       0.2500  0.8000000  1.4222222\n",
      "[75]  {Chips,M}                     => {Kaffee}  0.2500  0.5714286  0.9142857\n",
      "[76]  {Kaffee,M}                    => {Chips}   0.2500  0.8000000  1.4222222\n",
      "[77]  {Chips,Kaffee}                => {M}       0.2500  0.8000000  1.4222222\n",
      "[78]  {Bier,M}                      => {Windeln} 0.3125  0.6250000  1.1111111\n",
      "[79]  {M,Windeln}                   => {Bier}    0.3125  1.0000000  1.7777778\n",
      "[80]  {Bier,Windeln}                => {M}       0.3125  1.0000000  1.7777778\n",
      "[81]  {Bier,M}                      => {Kaffee}  0.3125  0.6250000  1.0000000\n",
      "[82]  {Kaffee,M}                    => {Bier}    0.3125  1.0000000  1.7777778\n",
      "[83]  {Bier,Kaffee}                 => {M}       0.3125  0.8333333  1.4814815\n",
      "[84]  {M,Windeln}                   => {Kaffee}  0.2500  0.8000000  1.2800000\n",
      "[85]  {Kaffee,M}                    => {Windeln} 0.2500  0.8000000  1.4222222\n",
      "[86]  {Kaffee,Windeln}              => {M}       0.2500  0.5714286  1.0158730\n",
      "[87]  {Bier,Chips}                  => {Windeln} 0.2500  0.6666667  1.1851852\n",
      "[88]  {Chips,Windeln}               => {Bier}    0.2500  0.8000000  1.4222222\n",
      "[89]  {Bier,Windeln}                => {Chips}   0.2500  0.8000000  1.4222222\n",
      "[90]  {Bier,Chips}                  => {Kaffee}  0.2500  0.6666667  1.0666667\n",
      "[91]  {Chips,Kaffee}                => {Bier}    0.2500  0.8000000  1.4222222\n",
      "[92]  {Bier,Kaffee}                 => {Chips}   0.2500  0.6666667  1.1851852\n",
      "[93]  {Chips,Windeln}               => {Kaffee}  0.2500  0.8000000  1.2800000\n",
      "[94]  {Chips,Kaffee}                => {Windeln} 0.2500  0.8000000  1.4222222\n",
      "[95]  {Kaffee,Windeln}              => {Chips}   0.2500  0.5714286  1.0158730\n",
      "[96]  {Bier,Windeln}                => {Kaffee}  0.2500  0.8000000  1.2800000\n",
      "[97]  {Bier,Kaffee}                 => {Windeln} 0.2500  0.6666667  1.1851852\n",
      "[98]  {Kaffee,Windeln}              => {Bier}    0.2500  0.5714286  1.0158730\n",
      "[99]  {Kuchen,Milch,W}              => {Windeln} 0.0625  0.5000000  0.8888889\n",
      "[100] {Kuchen,Milch,Windeln}        => {W}       0.0625  1.0000000  2.2857143\n",
      "[101] {Kuchen,W,Windeln}            => {Milch}   0.0625  1.0000000  2.6666667\n",
      "[102] {Kuchen,Milch,W}              => {Kaffee}  0.1250  1.0000000  1.6000000\n",
      "[103] {Kaffee,Kuchen,Milch}         => {W}       0.1250  1.0000000  2.2857143\n",
      "[104] {Kaffee,Kuchen,W}             => {Milch}   0.1250  1.0000000  2.6666667\n",
      "[105] {Kaffee,Milch,W}              => {Kuchen}  0.1250  0.5000000  2.6666667\n",
      "[106] {Kuchen,Milch,Windeln}        => {Kaffee}  0.0625  1.0000000  1.6000000\n",
      "[107] {Kaffee,Kuchen,Milch}         => {Windeln} 0.0625  0.5000000  0.8888889\n",
      "[108] {Kaffee,Kuchen,Windeln}       => {Milch}   0.0625  1.0000000  2.6666667\n",
      "[109] {Kaffee,Milch,Windeln}        => {Kuchen}  0.0625  0.5000000  2.6666667\n",
      "[110] {Kuchen,W,Windeln}            => {Kaffee}  0.0625  1.0000000  1.6000000\n",
      "[111] {Kaffee,Kuchen,W}             => {Windeln} 0.0625  0.5000000  0.8888889\n",
      "[112] {Kaffee,Kuchen,Windeln}       => {W}       0.0625  1.0000000  2.2857143\n",
      "[113] {Bier,Milch,W}                => {Kaffee}  0.0625  1.0000000  1.6000000\n",
      "[114] {Bier,Kaffee,Milch}           => {W}       0.0625  1.0000000  2.2857143\n",
      "[115] {Bier,Kaffee,W}               => {Milch}   0.0625  1.0000000  2.6666667\n",
      "[116] {Milch,W,Windeln}             => {Kaffee}  0.1250  0.6666667  1.0666667\n",
      "[117] {Kaffee,Milch,W}              => {Windeln} 0.1250  0.5000000  0.8888889\n",
      "[118] {Kaffee,Milch,Windeln}        => {W}       0.1250  1.0000000  2.2857143\n",
      "[119] {Kaffee,W,Windeln}            => {Milch}   0.1250  0.6666667  1.7777778\n",
      "[120] {Chips,W,Windeln}             => {Kaffee}  0.0625  1.0000000  1.6000000\n",
      "[121] {Chips,Kaffee,W}              => {Windeln} 0.0625  1.0000000  1.7777778\n",
      "[122] {Bier,Chips,M}                => {Windeln} 0.2500  0.6666667  1.1851852\n",
      "[123] {Chips,M,Windeln}             => {Bier}    0.2500  1.0000000  1.7777778\n",
      "[124] {Bier,M,Windeln}              => {Chips}   0.2500  0.8000000  1.4222222\n",
      "[125] {Bier,Chips,Windeln}          => {M}       0.2500  1.0000000  1.7777778\n",
      "[126] {Bier,Chips,M}                => {Kaffee}  0.2500  0.6666667  1.0666667\n",
      "[127] {Chips,Kaffee,M}              => {Bier}    0.2500  1.0000000  1.7777778\n",
      "[128] {Bier,Kaffee,M}               => {Chips}   0.2500  0.8000000  1.4222222\n",
      "[129] {Bier,Chips,Kaffee}           => {M}       0.2500  1.0000000  1.7777778\n",
      "[130] {Chips,M,Windeln}             => {Kaffee}  0.1875  0.7500000  1.2000000\n",
      "[131] {Chips,Kaffee,M}              => {Windeln} 0.1875  0.7500000  1.3333333\n",
      "[132] {Kaffee,M,Windeln}            => {Chips}   0.1875  0.7500000  1.3333333\n",
      "[133] {Chips,Kaffee,Windeln}        => {M}       0.1875  0.7500000  1.3333333\n",
      "[134] {Bier,M,Windeln}              => {Kaffee}  0.2500  0.8000000  1.2800000\n",
      "[135] {Bier,Kaffee,M}               => {Windeln} 0.2500  0.8000000  1.4222222\n",
      "[136] {Kaffee,M,Windeln}            => {Bier}    0.2500  1.0000000  1.7777778\n",
      "[137] {Bier,Kaffee,Windeln}         => {M}       0.2500  1.0000000  1.7777778\n",
      "[138] {Bier,Chips,Windeln}          => {Kaffee}  0.1875  0.7500000  1.2000000\n",
      "[139] {Bier,Chips,Kaffee}           => {Windeln} 0.1875  0.7500000  1.3333333\n",
      "[140] {Chips,Kaffee,Windeln}        => {Bier}    0.1875  0.7500000  1.3333333\n",
      "[141] {Bier,Kaffee,Windeln}         => {Chips}   0.1875  0.7500000  1.3333333\n",
      "[142] {Kuchen,Milch,W,Windeln}      => {Kaffee}  0.0625  1.0000000  1.6000000\n",
      "[143] {Kaffee,Kuchen,Milch,W}       => {Windeln} 0.0625  0.5000000  0.8888889\n",
      "[144] {Kaffee,Kuchen,Milch,Windeln} => {W}       0.0625  1.0000000  2.2857143\n",
      "[145] {Kaffee,Kuchen,W,Windeln}     => {Milch}   0.0625  1.0000000  2.6666667\n",
      "[146] {Kaffee,Milch,W,Windeln}      => {Kuchen}  0.0625  0.5000000  2.6666667\n",
      "[147] {Bier,Chips,M,Windeln}        => {Kaffee}  0.1875  0.7500000  1.2000000\n",
      "[148] {Bier,Chips,Kaffee,M}         => {Windeln} 0.1875  0.7500000  1.3333333\n",
      "[149] {Chips,Kaffee,M,Windeln}      => {Bier}    0.1875  1.0000000  1.7777778\n",
      "[150] {Bier,Kaffee,M,Windeln}       => {Chips}   0.1875  0.7500000  1.3333333\n",
      "[151] {Bier,Chips,Kaffee,Windeln}   => {M}       0.1875  1.0000000  1.7777778\n"
     ]
    }
   ],
   "source": [
    "inspect(rules);"
   ]
  },
  {
   "cell_type": "code",
   "execution_count": 12,
   "metadata": {},
   "outputs": [
    {
     "name": "stdout",
     "output_type": "stream",
     "text": [
      "     lhs          rhs       support confidence lift    \n",
      "[1]  {}        => {Kaffee}  0.6250  0.6250000  1.000000\n",
      "[2]  {}        => {M}       0.5625  0.5625000  1.000000\n",
      "[3]  {}        => {Chips}   0.5625  0.5625000  1.000000\n",
      "[4]  {}        => {Bier}    0.5625  0.5625000  1.000000\n",
      "[5]  {}        => {Windeln} 0.5625  0.5625000  1.000000\n",
      "[6]  {M}       => {Bier}    0.5000  0.8888889  1.580247\n",
      "[7]  {Bier}    => {M}       0.5000  0.8888889  1.580247\n",
      "[8]  {M}       => {Chips}   0.4375  0.7777778  1.382716\n",
      "[9]  {Chips}   => {M}       0.4375  0.7777778  1.382716\n",
      "[10] {Windeln} => {Kaffee}  0.4375  0.7777778  1.244444\n"
     ]
    }
   ],
   "source": [
    " inspect(head(sort(rules, by =\"support\"),10));"
   ]
  },
  {
   "cell_type": "code",
   "execution_count": 13,
   "metadata": {},
   "outputs": [
    {
     "name": "stdout",
     "output_type": "stream",
     "text": [
      "     lhs                 rhs      support confidence lift    \n",
      "[1]  {Milch}          => {W}      0.3750  1          2.285714\n",
      "[2]  {Kuchen,Milch}   => {W}      0.1250  1          2.285714\n",
      "[3]  {Kuchen,W}       => {Milch}  0.1250  1          2.666667\n",
      "[4]  {Kuchen,Windeln} => {Milch}  0.0625  1          2.666667\n",
      "[5]  {Kuchen,Milch}   => {Kaffee} 0.1250  1          1.600000\n",
      "[6]  {Kaffee,Kuchen}  => {Milch}  0.1250  1          2.666667\n",
      "[7]  {Kuchen,Windeln} => {W}      0.0625  1          2.285714\n",
      "[8]  {Kuchen,W}       => {Kaffee} 0.1250  1          1.600000\n",
      "[9]  {Kaffee,Kuchen}  => {W}      0.1250  1          2.285714\n",
      "[10] {Kuchen,M}       => {Chips}  0.0625  1          1.777778\n"
     ]
    }
   ],
   "source": [
    " inspect(head(sort(rules, by =\"confidence\"),10));"
   ]
  },
  {
   "cell_type": "code",
   "execution_count": 14,
   "metadata": {},
   "outputs": [
    {
     "name": "stdout",
     "output_type": "stream",
     "text": [
      "     lhs                        rhs      support confidence lift    \n",
      "[1]  {Kuchen,W}              => {Milch}  0.1250  1.0        2.666667\n",
      "[2]  {Kuchen,Windeln}        => {Milch}  0.0625  1.0        2.666667\n",
      "[3]  {Kaffee,Kuchen}         => {Milch}  0.1250  1.0        2.666667\n",
      "[4]  {Kaffee,Milch}          => {Kuchen} 0.1250  0.5        2.666667\n",
      "[5]  {Bier,W}                => {Milch}  0.0625  1.0        2.666667\n",
      "[6]  {Kuchen,W,Windeln}      => {Milch}  0.0625  1.0        2.666667\n",
      "[7]  {Kaffee,Kuchen,W}       => {Milch}  0.1250  1.0        2.666667\n",
      "[8]  {Kaffee,Milch,W}        => {Kuchen} 0.1250  0.5        2.666667\n",
      "[9]  {Kaffee,Kuchen,Windeln} => {Milch}  0.0625  1.0        2.666667\n",
      "[10] {Kaffee,Milch,Windeln}  => {Kuchen} 0.0625  0.5        2.666667\n"
     ]
    }
   ],
   "source": [
    " inspect(head(sort(rules, by =\"lift\"),10));"
   ]
  },
  {
   "cell_type": "markdown",
   "metadata": {},
   "source": [
    "Die Darstellung kann mit einem Scatter plot erfolgen, wobei dreiachsig der Support, die Konfidenz und der Lift dargeboten werden."
   ]
  },
  {
   "cell_type": "code",
   "execution_count": 15,
   "metadata": {},
   "outputs": [
    {
     "data": {
      "image/png": "[encoded data removed]",
      "text/plain": [
       "plot without title"
      ]
     },
     "metadata": {},
     "output_type": "display_data"
    }
   ],
   "source": [
    "plot(rules, method = NULL, measure = \"support\", shading = \"lift\", interactive = FALSE, data = NULL, control = NULL);\n"
   ]
  },
  {
   "cell_type": "code",
   "execution_count": 16,
   "metadata": {},
   "outputs": [
    {
     "data": {
      "image/png": "[encoded data removed]",
      "text/plain": [
       "plot without title"
      ]
     },
     "metadata": {},
     "output_type": "display_data"
    }
   ],
   "source": [
    "plot(rules, method = NULL, measure = \"lift\", shading = \"support\", interactive = FALSE, data = NULL, control = NULL);"
   ]
  },
  {
   "cell_type": "markdown",
   "metadata": {},
   "source": [
    "[Kel16][WEN12]"
   ]
  },
  {
   "cell_type": "markdown",
   "metadata": {},
   "source": [
    "#### Quellen\n",
    "\n",
    "\n",
    "[CAR12]    https://card2brain.ch/box/kdd_kap_12_einfuehrung_und_grundlagen\n",
    "\n",
    "[SAA03]    Helge Saathoff: \"Assoziationsanalyse und Konzeptbeschreibung\" (7.März 2003)\n",
    "\n",
    "[SCH12]    Friedhelm Schwenker (Universität Ulm): \"Data Mining\" (16.Oktober 2012)\n",
    "\n",
    "[PET05]    H.Petersohn: \"Data Mining\"(2005); Oldenbourg Verlag; Seite 101-130 \n",
    "\n",
    "[RIE08]    Olga Riener: \"Seminar 01912 Data Mining\" Häufige Muster und Assoziationsregeln“(2008); http://www.tzi.de/~edelkamp/lectures/ml/slides/1-1-1_Apriori-Algorithmus.pdf \n",
    "\n",
    "[KEL16]         Daniela Keller: \"Warenkorbanalyse in R\" (2016); https://data-science-blog.com/blog/2016/10/08/warenkorbanalyse-in-r/\n",
    "\n",
    "[WEN12]         Phil Wenker: \"Warenkorbanalysen für Online Shops\" (2012); http://www.seo-heads.de/analytics/warenkorbanalysen-fuer-online-shops-mit-r"
   ]
  }
 ],
 "metadata": {
  "kernelspec": {
   "display_name": "R",
   "language": "R",
   "name": "ir"
  },
  "language_info": {
   "codemirror_mode": "r",
   "file_extension": ".r",
   "mimetype": "text/x-r-source",
   "name": "R",
   "pygments_lexer": "r",
   "version": "3.3.2"
  }
 },
 "nbformat": 4,
 "nbformat_minor": 2
}
