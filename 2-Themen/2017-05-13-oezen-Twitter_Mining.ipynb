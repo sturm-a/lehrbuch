{
 "cells": [
  {
   "cell_type": "markdown",
   "metadata": {
    "collapsed": true
   },
   "source": [
    "<h1><center>Twitter Mining</center></h1>"
   ]
  },
  {
   "cell_type": "markdown",
   "metadata": {},
   "source": [
    "## Theoretischer Hintergrund"
   ]
  },
  {
   "cell_type": "markdown",
   "metadata": {},
   "source": [
    "Social Media Mining beschreibt den Prozess Rohdaten aus Social Media Plattformen zu extrahieren, sie bezüglich Muster zu analysieren und die daraus gewonnenen Erkenntnisse zu präsentieren. Im Social Media Mining werden Konzepte und Methoden aus der Informatik, dem Data Mining, Machine Learning und der Statistik angewendet. Social Media Mining bringt aber auch neue Konzepte und Algorithmen mit sich mit denen es möglich ist massive Rohdaten aus den Social Media Anwendungen zu untersuchen. Dadurch kann herausgefunden werden, wie Individuen (social atoms) interagieren und wie sich Communities (social molecules) bilden. Social Media Mining basiert daher auf Konzepten und Methodologien aus Soziale Netzwerkanalyse (social network analysis), Network Science, Soziologie, Ethnography, Optimierung und Mathematik. Die Wichtigsten unter ihnen sind die Netzwerk- und Graphentheorie. In diesen Theorien kann jedes Individuum durch einen Knoten (node) repräsentiert werden und die Beziehungen der Individuen untereinander durch eine Kante (edge). Im Social Media Mining wird das Interessengraph (interest graph) genannt. Mit Hilfe von Interessengraphen können Korrelationen zwischen Objekten gemessen werden, um beispielsweise Empfehlungen zu machen. Empfehlungen darüber, wem man auf Twitter folgen sollte, was man online kaufen sollte oder wen man kennenlernen sollte."
   ]
  },
  {
   "cell_type": "markdown",
   "metadata": {},
   "source": [
    "## Praktischer Hintergrund"
   ]
  },
  {
   "cell_type": "markdown",
   "metadata": {},
   "source": [
    "### Twitter Terminologie\n",
    "\n",
    "<b>Tweets</b> sind Status-Aktualisierungen, die maximal 140 Zeichen umfassen. Jedoch werden zusätzlich zum Textinhalt weitere wichtige Informationen mitgesendet.<br> \n",
    "<b>Entities</b> sind Teil eines jeden Tweets und stellen wichtige Metadaten zur Verfügung. Entities beinhalten Informationen über URL's, Medien, Hashtags und Nutzererwähnungen.<br> \n",
    "<b>Places</b> ist ein weiteres Objekt, das Metadaten liefert. Places sind Orte mit dem Ortsnamen und den dazugehörigen Koordinaten. Places kann der Ort sein an dem das Tweet gesendet wurde oder nur der Ort, der im Tweet genannt wird.<br> "
   ]
  },
  {
   "cell_type": "markdown",
   "metadata": {},
   "source": [
    "### Twitter API\n",
    "\n",
    "Twitter hat eine sehr elegante und einfach zu nutzende API. Jedoch werden wir ein Python-Package namens <b>twitter</b> benutzen, das für uns die Arbeit als Analysten stark vereinfacht. Zur Installation des Paketes können wir einfach <b>pip install twitter</b> im Terminal eingeben. Bevor wir jedoch Anfragen an die Twitter API stellen können müssen wir eine Twitter Applikation erstellen."
   ]
  },
  {
   "cell_type": "markdown",
   "metadata": {},
   "source": [
    "### Twitter App erstellen\n",
    "\n",
    "Auf der Entwicklerseite im Bereich [My Apps](https://dev.twitter.com/apps) können wir eine Twitter Applikation erstellen. Dazu benötigen wir selbstverständlich ein Twitter Account. Die Applikation ist der einzige Weg für Entwickler um Zugang zur Twitter API zu erhalten. Twitter hat somit die Möglichkeit andere Plattformentwickler zu überwachen und gegebenenfalls mit ihnen interagieren.\n",
    "\n",
    "Diese Vorgehensweise der Autorisierung ist durch das Protokoll <b>OAuth</b> (Open Authorization) standardisiert und wird von den meisten Social Media Plattformen benutzt. Dadurch können die Benutzer den Anwendungen von Drittanbietern Zugang zu ihren Accountdaten erlauben, ohne ihre Zugangsdaten preiszugeben."
   ]
  },
  {
   "cell_type": "markdown",
   "metadata": {},
   "source": [
    "<img src=\"create_twitter_app.png\" height=\"640\" width=\"640\">"
   ]
  },
  {
   "cell_type": "markdown",
   "metadata": {},
   "source": [
    "Nach der Erstellung der App sind die einzigen Informationen, die wir benötigen, um unsere App zu autorisieren Anfragen an die Twitter API zu stellen: \n",
    "* <b>consumer key</b>, \n",
    "* <b>consumer secret</b>, \n",
    "* <b>access token</b> und \n",
    "* <b>access token secret.</b><br>\n",
    "\n",
    "> <b>Wichtiger Hinweis:</b> Diese Keys und Secrets sind sehr wichtige Informationen. Behandle sie also mit der gleichen Empfindlichkeit, wie du deine regulären Zugangsdaten behandelst.\n",
    "\n",
    "An diese sensiblen Informationen gelangen wir über das Register <b>Keys and Access Tokens</b>.  \n",
    "\n",
    ">Die Einstellung der Zugangsstufe (Access level) kann auch später nach der Erstellung angepasst werden. Voreingestellt ist read and write, für uns würde auch die Stufe read-only ausreichen (hier entsprechend eigener Interessen einstellen)."
   ]
  },
  {
   "cell_type": "markdown",
   "metadata": {},
   "source": [
    "<img src=\"ds_app_details.png\" width=\"640\" height=\"640\">"
   ]
  },
  {
   "cell_type": "markdown",
   "metadata": {
    "collapsed": true
   },
   "source": [
    "### Analysieren der Trends\n",
    "\n",
    "Nach dem wir unsere Keys und Secrets erzeugt haben können wir nun eine autorisierte Verbindung zur Twitter API aufbauen."
   ]
  },
  {
   "cell_type": "code",
   "execution_count": 1,
   "metadata": {
    "collapsed": true
   },
   "outputs": [],
   "source": [
    "# Importiere das Twitter-Package\n",
    "import twitter"
   ]
  },
  {
   "cell_type": "code",
   "execution_count": null,
   "metadata": {
    "collapsed": true
   },
   "outputs": [],
   "source": [
    "# Inline Hilfe für das Twitter-Package\n",
    "twitter?\n",
    "# Inline Hilfe für die Twitter-Klasse\n",
    "twitter.Twitter?"
   ]
  },
  {
   "cell_type": "code",
   "execution_count": 2,
   "metadata": {},
   "outputs": [
    {
     "name": "stdout",
     "output_type": "stream",
     "text": [
      "<twitter.api.Twitter object at 0x0000018C6FF37D30>\n"
     ]
    }
   ],
   "source": [
    "# Nach dem du die Twitter-App erzeugt hast, setze die Keys und Secrets in die entsprechenden Variablen ein\n",
    "CONSUMER_KEY = ''\n",
    "CONSUMER_SECRET = ''\n",
    "OAUTH_TOKEN = ''\n",
    "OAUTH_TOKEN_SECRET = ''\n",
    "\n",
    "# Erzeuge ein Authentifizierungsobjekt mit deinen Zugangsdaten\n",
    "auth = twitter.oauth.OAuth(OAUTH_TOKEN, OAUTH_TOKEN_SECRET,\n",
    "                           CONSUMER_KEY, CONSUMER_SECRET)\n",
    "\n",
    "# Erzeuge ein API-Objekt mit Hilfe des Authentifizierungsobjektes\n",
    "twitter_api = twitter.Twitter(auth=auth)\n",
    "\n",
    "# Zeigt lediglich Informationen über das API-Objekt an\n",
    "print (twitter_api)"
   ]
  },
  {
   "cell_type": "markdown",
   "metadata": {},
   "source": [
    "Nun können wir die 50 wichtigsten Themen in verschiedenen Ländern oder weltweit herausfinden. Wir benötigen jedoch eine WOEID, den wir als Parameter an unsere Methode übergeben. Das Where On Earth (WOE) ID System ist eine API von Yahoo und ordnet allen Orten auf der Welt, die benannt sind eine einzigartige ID zu. Mit dieser ID können wir die Lokalisation in den Anfragen eingrenzen. Die ID für die wichtigsten globalen Themen ist 1. Für detailliertere Informationen zur WOEID besuche den Bereich [Geoplanet](http://developer.yahoo.com/geo/geoplanet/) auf der Entwicklerseite von Yahoo und für die Anfragemethode die [Twitter API Dokumentation](https://dev.twitter.com/docs/api/1.1/get/trends/place)."
   ]
  },
  {
   "cell_type": "code",
   "execution_count": 3,
   "metadata": {},
   "outputs": [
    {
     "name": "stdout",
     "output_type": "stream",
     "text": [
      "{'name': '#GERCHI', 'url': 'http://twitter.com/search?q=%23GERCHI', 'promoted_content': None, 'query': '%23GERCHI', 'tweet_volume': 31204}\n",
      "{'name': '#HealthcareBill', 'url': 'http://twitter.com/search?q=%23HealthcareBill', 'promoted_content': None, 'query': '%23HealthcareBill', 'tweet_volume': 106544}\n"
     ]
    }
   ],
   "source": [
    "# Die globale WOEID\n",
    "WORLD_WOE_ID = 1\n",
    "# Die US WOEID \n",
    "US_WOE_ID = 23424977\n",
    "\n",
    "# Gibt die 50 globalen Trending Topics zurück \n",
    "world_trends = twitter_api.trends.place(_id=WORLD_WOE_ID)\n",
    "# Gibt die 50 US Trending Topics zurück\n",
    "us_trends = twitter_api.trends.place(_id=US_WOE_ID)\n",
    "\n",
    "# Zeige jeweils ein Topic an\n",
    "print (world_trends[0]['trends'][0])\n",
    "print (us_trends[0]['trends'][0])"
   ]
  },
  {
   "cell_type": "markdown",
   "metadata": {},
   "source": [
    "Die Methode <code>twitter_api.trends.place(_id=WORLD_WOE_ID)</code> führt eine HTTP-Anfrage mit der GET-Methode an die URL https://api.twitter.com/1.1/trends/place.json?id=1 durch. Das Twitter Paket ermöglicht andere Anfragen an die API. Dazu musst du nur deine Anfragen in dem gleichen Schema aufbauen.\n",
    "<br>\n",
    "<br>\n",
    "<br>\n",
    "Für eine strukturierte Ausgabe, um damit uns das Lesen zu erleichtern benutzen wir das built-in Package <b>json</b>. "
   ]
  },
  {
   "cell_type": "code",
   "execution_count": 4,
   "metadata": {
    "collapsed": true
   },
   "outputs": [],
   "source": [
    "import json"
   ]
  },
  {
   "cell_type": "code",
   "execution_count": 5,
   "metadata": {},
   "outputs": [
    {
     "name": "stdout",
     "output_type": "stream",
     "text": [
      "{\n",
      " \"name\": \"#GERCHI\",\n",
      " \"url\": \"http://twitter.com/search?q=%23GERCHI\",\n",
      " \"promoted_content\": null,\n",
      " \"query\": \"%23GERCHI\",\n",
      " \"tweet_volume\": 31204\n",
      "}\n",
      "{\n",
      " \"name\": \"#HealthcareBill\",\n",
      " \"url\": \"http://twitter.com/search?q=%23HealthcareBill\",\n",
      " \"promoted_content\": null,\n",
      " \"query\": \"%23HealthcareBill\",\n",
      " \"tweet_volume\": 106544\n",
      "}\n"
     ]
    }
   ],
   "source": [
    "print(json.dumps(world_trends[0]['trends'][0], indent=1))\n",
    "print(json.dumps(us_trends[0]['trends'][0], indent=1))"
   ]
  },
  {
   "cell_type": "code",
   "execution_count": 6,
   "metadata": {},
   "outputs": [
    {
     "name": "stdout",
     "output_type": "stream",
     "text": [
      "{'Ron Howard', 'Andy Reid', '#ShowKindnessBy', '#GERCHI', '#HealthcareBill', '#MyPetsTwitter', '#PutYourPhoneDownAnd', 'Steam', '#RIPRobin'}\n"
     ]
    }
   ],
   "source": [
    "# Extrahiere die Trend-Namen aus den globalen Trending-Topics\n",
    "world_trends_set = set(trend['name']\n",
    "                       for trend in world_trends[0]['trends'])\n",
    "\n",
    "# Extrahiere die Trend-Namen aus den Trending-Topics aus den USA\n",
    "us_trends_set = set(trend['name']\n",
    "                       for trend in us_trends[0]['trends'])\n",
    "\n",
    "# Gibt die Elemente (als ein Set) zurück, die in beiden Sets enthalten sind\n",
    "common_trends = world_trends_set.intersection(us_trends_set)\n",
    "\n",
    "print(common_trends)"
   ]
  },
  {
   "cell_type": "markdown",
   "metadata": {},
   "source": [
    "List comprehension stellen eine andere, kürzere Form der Listenerzeugung bereit. Falls du damit Schwierigkeiten hast schaue dir die Kapitel 'List Compehensions' und 'Nested List Comprehensions' in der [Python Dokumentation](https://docs.python.org/2/tutorial/datastructures.html#list-comprehensions) dazu an, denn wir werden das im Folgenden oft benötigen. "
   ]
  },
  {
   "cell_type": "code",
   "execution_count": 7,
   "metadata": {},
   "outputs": [
    {
     "name": "stdout",
     "output_type": "stream",
     "text": [
      "Length of statuses 100\n",
      "Length of statuses 200\n",
      "Length of statuses 200\n"
     ]
    }
   ],
   "source": [
    "query = 'Ron Howard'\n",
    "count = 100# Anzahl der Tweets, die pro Anfrage zurückgegeben werden soll\n",
    "\n",
    "# Gibt alle relevanten Tweets zu dem jeweiligen Suchwort zurück\n",
    "search_results = twitter_api.search.tweets(q=query, count=count)\n",
    "# Speichert die Tweets (search_metadata werden weggelassen) \n",
    "statuses = search_results['statuses']\n",
    "\n",
    "# Stellt weitere 5 Anfragen\n",
    "for _ in range(5):\n",
    "    print (\"Length of statuses\", len(statuses))\n",
    "    try:\n",
    "        # Speichert das Feld next_results, das Informationen zu nachfolgenden Resultaten enthält\n",
    "        next_results = search_results['search_metadata']['next_results']\n",
    "    except KeyError as e:\n",
    "        break\n",
    "    \n",
    "    # Splittet die Parameter und die jeweiligen Werte und erzeugt ein Dictionary    \n",
    "    kwargs = dict([ kv.split('=') for kv in next_results[1:].split(\"&\") ])\n",
    "    # Übergibt das erzeugte Dictionary als Parameter\n",
    "    search_results = twitter_api.search.tweets(**kwargs)\n",
    "    statuses += search_results['statuses']"
   ]
  },
  {
   "cell_type": "markdown",
   "metadata": {},
   "source": [
    "Mit der Python Magic Variable kwargs ist es möglich, Schlüssel-Wert-Paare als Parameter an eine Funktion zu übergeben. Für eine ausführliche Erklärung mit Codebeispielen besuche die Webseite [Python Tips](http://book.pythontips.com/en/latest/args_and_kwargs.html). "
   ]
  },
  {
   "cell_type": "code",
   "execution_count": 8,
   "metadata": {},
   "outputs": [
    {
     "name": "stdout",
     "output_type": "stream",
     "text": [
      "{\n",
      " \"created_at\": \"Thu Jun 22 20:40:23 +0000 2017\",\n",
      " \"id\": 877989666787557376,\n",
      " \"id_str\": \"877989666787557376\",\n",
      " \"text\": \"Thank you Ron Howard, been a HUGE fan since Back draft (&amp; happy days !) https://t.co/zlFuK63gFO\",\n",
      " \"truncated\": false,\n",
      " \"entities\": {\n",
      "  \"hashtags\": [],\n",
      "  \"symbols\": [],\n",
      "  \"user_mentions\": [],\n",
      "  \"urls\": [\n",
      "   {\n",
      "    \"url\": \"https://t.co/zlFuK63gFO\",\n",
      "    \"expanded_url\": \"https://twitter.com/TwitterMoments/status/877904160867442688\",\n",
      "    \"display_url\": \"twitter.com/TwitterMoments\\u2026\",\n",
      "    \"indices\": [\n",
      "     76,\n",
      "     99\n",
      "    ]\n",
      "   }\n",
      "  ]\n",
      " },\n",
      " \"metadata\": {\n",
      "  \"iso_language_code\": \"en\",\n",
      "  \"result_type\": \"recent\"\n",
      " },\n",
      " \"source\": \"<a href=\\\"http://twitter.com/download/android\\\" rel=\\\"nofollow\\\">Twitter for Android</a>\",\n",
      " \"in_reply_to_status_id\": null,\n",
      " \"in_reply_to_status_id_str\": null,\n",
      " \"in_reply_to_user_id\": null,\n",
      " \"in_reply_to_user_id_str\": null,\n",
      " \"in_reply_to_screen_name\": null,\n",
      " \"user\": {\n",
      "  \"id\": 24754791,\n",
      "  \"id_str\": \"24754791\",\n",
      "  \"name\": \"#DemExit #NoDAPL\",\n",
      "  \"screen_name\": \"crazysmooth\",\n",
      "  \"location\": \"East Coast USA\",\n",
      "  \"description\": \"hobbies/interests: photography, sports, Bichon Frise, comic fan,\\non2, Sketch Art, way of life, truth be told\",\n",
      "  \"url\": \"https://t.co/gNbrYQdART\",\n",
      "  \"entities\": {\n",
      "   \"url\": {\n",
      "    \"urls\": [\n",
      "     {\n",
      "      \"url\": \"https://t.co/gNbrYQdART\",\n",
      "      \"expanded_url\": \"https://twitter.com/crazysmooth\",\n",
      "      \"display_url\": \"twitter.com/crazysmooth\",\n",
      "      \"indices\": [\n",
      "       0,\n",
      "       23\n",
      "      ]\n",
      "     }\n",
      "    ]\n",
      "   },\n",
      "   \"description\": {\n",
      "    \"urls\": []\n",
      "   }\n",
      "  },\n",
      "  \"protected\": false,\n",
      "  \"followers_count\": 297,\n",
      "  \"friends_count\": 523,\n",
      "  \"listed_count\": 78,\n",
      "  \"created_at\": \"Mon Mar 16 19:47:08 +0000 2009\",\n",
      "  \"favourites_count\": 5710,\n",
      "  \"utc_offset\": -14400,\n",
      "  \"time_zone\": \"Eastern Time (US & Canada)\",\n",
      "  \"geo_enabled\": false,\n",
      "  \"verified\": false,\n",
      "  \"statuses_count\": 4600,\n",
      "  \"lang\": \"en\",\n",
      "  \"contributors_enabled\": false,\n",
      "  \"is_translator\": false,\n",
      "  \"is_translation_enabled\": false,\n",
      "  \"profile_background_color\": \"000000\",\n",
      "  \"profile_background_image_url\": \"http://pbs.twimg.com/profile_background_images/222468762/2011_02_25_IMG_0386.jpg\",\n",
      "  \"profile_background_image_url_https\": \"https://pbs.twimg.com/profile_background_images/222468762/2011_02_25_IMG_0386.jpg\",\n",
      "  \"profile_background_tile\": false,\n",
      "  \"profile_image_url\": \"http://pbs.twimg.com/profile_images/98416747/kid3_normal.jpg\",\n",
      "  \"profile_image_url_https\": \"https://pbs.twimg.com/profile_images/98416747/kid3_normal.jpg\",\n",
      "  \"profile_banner_url\": \"https://pbs.twimg.com/profile_banners/24754791/1497461251\",\n",
      "  \"profile_link_color\": \"3B94D9\",\n",
      "  \"profile_sidebar_border_color\": \"EBEBEB\",\n",
      "  \"profile_sidebar_fill_color\": \"F7DA93\",\n",
      "  \"profile_text_color\": \"000000\",\n",
      "  \"profile_use_background_image\": true,\n",
      "  \"has_extended_profile\": false,\n",
      "  \"default_profile\": false,\n",
      "  \"default_profile_image\": false,\n",
      "  \"following\": false,\n",
      "  \"follow_request_sent\": false,\n",
      "  \"notifications\": false,\n",
      "  \"translator_type\": \"none\"\n",
      " },\n",
      " \"geo\": null,\n",
      " \"coordinates\": null,\n",
      " \"place\": null,\n",
      " \"contributors\": null,\n",
      " \"is_quote_status\": true,\n",
      " \"quoted_status_id\": 877904160867442688,\n",
      " \"quoted_status_id_str\": \"877904160867442688\",\n",
      " \"quoted_status\": {\n",
      "  \"created_at\": \"Thu Jun 22 15:00:37 +0000 2017\",\n",
      "  \"id\": 877904160867442688,\n",
      "  \"id_str\": \"877904160867442688\",\n",
      "  \"text\": \"Oscar winner @RealRonHoward will take over directing duties for the Han Solo spinoff film. #StarWars https://t.co/9GRQN9nSNo\",\n",
      "  \"truncated\": false,\n",
      "  \"entities\": {\n",
      "   \"hashtags\": [\n",
      "    {\n",
      "     \"text\": \"StarWars\",\n",
      "     \"indices\": [\n",
      "      91,\n",
      "      100\n",
      "     ]\n",
      "    }\n",
      "   ],\n",
      "   \"symbols\": [],\n",
      "   \"user_mentions\": [\n",
      "    {\n",
      "     \"screen_name\": \"RealRonHoward\",\n",
      "     \"name\": \"Ron Howard\",\n",
      "     \"id\": 125481462,\n",
      "     \"id_str\": \"125481462\",\n",
      "     \"indices\": [\n",
      "      13,\n",
      "      27\n",
      "     ]\n",
      "    }\n",
      "   ],\n",
      "   \"urls\": [\n",
      "    {\n",
      "     \"url\": \"https://t.co/9GRQN9nSNo\",\n",
      "     \"expanded_url\": \"https://twitter.com/i/moments/877896345121640451\",\n",
      "     \"display_url\": \"twitter.com/i/moments/8778\\u2026\",\n",
      "     \"indices\": [\n",
      "      101,\n",
      "      124\n",
      "     ]\n",
      "    }\n",
      "   ]\n",
      "  },\n",
      "  \"metadata\": {\n",
      "   \"iso_language_code\": \"en\",\n",
      "   \"result_type\": \"recent\"\n",
      "  },\n",
      "  \"source\": \"<a href=\\\"https://about.twitter.com/products/tweetdeck\\\" rel=\\\"nofollow\\\">TweetDeck</a>\",\n",
      "  \"in_reply_to_status_id\": null,\n",
      "  \"in_reply_to_status_id_str\": null,\n",
      "  \"in_reply_to_user_id\": null,\n",
      "  \"in_reply_to_user_id_str\": null,\n",
      "  \"in_reply_to_screen_name\": null,\n",
      "  \"user\": {\n",
      "   \"id\": 3260518932,\n",
      "   \"id_str\": \"3260518932\",\n",
      "   \"name\": \"Twitter Moments\",\n",
      "   \"screen_name\": \"TwitterMoments\",\n",
      "   \"location\": \"New York, USA\",\n",
      "   \"description\": \"The best of what\\u2019s happening on Twitter in an instant.\",\n",
      "   \"url\": \"https://t.co/nYOx6qThjk\",\n",
      "   \"entities\": {\n",
      "    \"url\": {\n",
      "     \"urls\": [\n",
      "      {\n",
      "       \"url\": \"https://t.co/nYOx6qThjk\",\n",
      "       \"expanded_url\": \"https://about.twitter.com/company/moments-guidelines\",\n",
      "       \"display_url\": \"about.twitter.com/company/moment\\u2026\",\n",
      "       \"indices\": [\n",
      "        0,\n",
      "        23\n",
      "       ]\n",
      "      }\n",
      "     ]\n",
      "    },\n",
      "    \"description\": {\n",
      "     \"urls\": []\n",
      "    }\n",
      "   },\n",
      "   \"protected\": false,\n",
      "   \"followers_count\": 426499,\n",
      "   \"friends_count\": 10,\n",
      "   \"listed_count\": 1981,\n",
      "   \"created_at\": \"Tue Jun 30 01:06:59 +0000 2015\",\n",
      "   \"favourites_count\": 128,\n",
      "   \"utc_offset\": -14400,\n",
      "   \"time_zone\": \"Eastern Time (US & Canada)\",\n",
      "   \"geo_enabled\": true,\n",
      "   \"verified\": true,\n",
      "   \"statuses_count\": 20874,\n",
      "   \"lang\": \"en\",\n",
      "   \"contributors_enabled\": false,\n",
      "   \"is_translator\": false,\n",
      "   \"is_translation_enabled\": false,\n",
      "   \"profile_background_color\": \"C0DEED\",\n",
      "   \"profile_background_image_url\": \"http://abs.twimg.com/images/themes/theme1/bg.png\",\n",
      "   \"profile_background_image_url_https\": \"https://abs.twimg.com/images/themes/theme1/bg.png\",\n",
      "   \"profile_background_tile\": false,\n",
      "   \"profile_image_url\": \"http://pbs.twimg.com/profile_images/651463624330907648/OzaAcuSR_normal.png\",\n",
      "   \"profile_image_url_https\": \"https://pbs.twimg.com/profile_images/651463624330907648/OzaAcuSR_normal.png\",\n",
      "   \"profile_banner_url\": \"https://pbs.twimg.com/profile_banners/3260518932/1444135144\",\n",
      "   \"profile_link_color\": \"1DA1F2\",\n",
      "   \"profile_sidebar_border_color\": \"C0DEED\",\n",
      "   \"profile_sidebar_fill_color\": \"DDEEF6\",\n",
      "   \"profile_text_color\": \"333333\",\n",
      "   \"profile_use_background_image\": true,\n",
      "   \"has_extended_profile\": true,\n",
      "   \"default_profile\": true,\n",
      "   \"default_profile_image\": false,\n",
      "   \"following\": false,\n",
      "   \"follow_request_sent\": false,\n",
      "   \"notifications\": false,\n",
      "   \"translator_type\": \"regular\"\n",
      "  },\n",
      "  \"geo\": null,\n",
      "  \"coordinates\": null,\n",
      "  \"place\": null,\n",
      "  \"contributors\": null,\n",
      "  \"is_quote_status\": false,\n",
      "  \"retweet_count\": 452,\n",
      "  \"favorite_count\": 808,\n",
      "  \"favorited\": false,\n",
      "  \"retweeted\": false,\n",
      "  \"possibly_sensitive\": false,\n",
      "  \"lang\": \"en\"\n",
      " },\n",
      " \"retweet_count\": 0,\n",
      " \"favorite_count\": 0,\n",
      " \"favorited\": false,\n",
      " \"retweeted\": false,\n",
      " \"possibly_sensitive\": false,\n",
      " \"lang\": \"en\"\n",
      "}\n"
     ]
    }
   ],
   "source": [
    "# Zeige ein Tweet an\n",
    "print(json.dumps(statuses[0], indent=1))"
   ]
  },
  {
   "cell_type": "code",
   "execution_count": 9,
   "metadata": {
    "collapsed": true
   },
   "outputs": [],
   "source": [
    "# Einen einzelnen Tweet extrahieren\n",
    "t = statuses[0]"
   ]
  },
  {
   "cell_type": "code",
   "execution_count": 10,
   "metadata": {},
   "outputs": [
    {
     "data": {
      "text/plain": [
       "dict_keys(['created_at', 'id', 'id_str', 'text', 'truncated', 'entities', 'metadata', 'source', 'in_reply_to_status_id', 'in_reply_to_status_id_str', 'in_reply_to_user_id', 'in_reply_to_user_id_str', 'in_reply_to_screen_name', 'user', 'geo', 'coordinates', 'place', 'contributors', 'is_quote_status', 'quoted_status_id', 'quoted_status_id_str', 'quoted_status', 'retweet_count', 'favorite_count', 'favorited', 'retweeted', 'possibly_sensitive', 'lang'])"
      ]
     },
     "execution_count": 10,
     "metadata": {},
     "output_type": "execute_result"
    }
   ],
   "source": [
    "# Gibt die Schlüssel aus, d.h. die höchsten Felder\n",
    "t.keys()"
   ]
  },
  {
   "cell_type": "code",
   "execution_count": 11,
   "metadata": {},
   "outputs": [
    {
     "data": {
      "text/plain": [
       "877989666787557376"
      ]
     },
     "execution_count": 11,
     "metadata": {},
     "output_type": "execute_result"
    }
   ],
   "source": [
    "# Gibt die ID aus\n",
    "t['id']"
   ]
  },
  {
   "cell_type": "code",
   "execution_count": 12,
   "metadata": {},
   "outputs": [
    {
     "data": {
      "text/plain": [
       "'Thank you Ron Howard, been a HUGE fan since Back draft (&amp; happy days !) https://t.co/zlFuK63gFO'"
      ]
     },
     "execution_count": 12,
     "metadata": {},
     "output_type": "execute_result"
    }
   ],
   "source": [
    "# Gibt den Textinhalt aus\n",
    "t['text']"
   ]
  },
  {
   "cell_type": "code",
   "execution_count": 13,
   "metadata": {},
   "outputs": [
    {
     "data": {
      "text/plain": [
       "{'hashtags': [],\n",
       " 'symbols': [],\n",
       " 'urls': [{'display_url': 'twitter.com/TwitterMoments…',\n",
       "   'expanded_url': 'https://twitter.com/TwitterMoments/status/877904160867442688',\n",
       "   'indices': [76, 99],\n",
       "   'url': 'https://t.co/zlFuK63gFO'}],\n",
       " 'user_mentions': []}"
      ]
     },
     "execution_count": 13,
     "metadata": {},
     "output_type": "execute_result"
    }
   ],
   "source": [
    "# Gibt die Entities aus\n",
    "t['entities']"
   ]
  },
  {
   "cell_type": "code",
   "execution_count": 14,
   "metadata": {},
   "outputs": [
    {
     "data": {
      "text/plain": [
       "0"
      ]
     },
     "execution_count": 14,
     "metadata": {},
     "output_type": "execute_result"
    }
   ],
   "source": [
    "# Gibt die Anzahl der Likes aus\n",
    "t['favorite_count']"
   ]
  },
  {
   "cell_type": "code",
   "execution_count": 15,
   "metadata": {},
   "outputs": [
    {
     "data": {
      "text/plain": [
       "0"
      ]
     },
     "execution_count": 15,
     "metadata": {},
     "output_type": "execute_result"
    }
   ],
   "source": [
    "# Gibt die Anzahl der Retweets aus\n",
    "t['retweet_count']"
   ]
  },
  {
   "cell_type": "code",
   "execution_count": 16,
   "metadata": {
    "scrolled": true
   },
   "outputs": [
    {
     "ename": "KeyError",
     "evalue": "'retweeted_status'",
     "output_type": "error",
     "traceback": [
      "\u001b[0;31m---------------------------------------------------------------------------\u001b[0m",
      "\u001b[0;31mKeyError\u001b[0m                                  Traceback (most recent call last)",
      "\u001b[0;32m<ipython-input-16-e7a505cd72b9>\u001b[0m in \u001b[0;36m<module>\u001b[0;34m()\u001b[0m\n\u001b[1;32m      1\u001b[0m \u001b[1;31m# Ist dieses Feld vorhanden, ist das ein Retweet\u001b[0m\u001b[1;33m\u001b[0m\u001b[1;33m\u001b[0m\u001b[0m\n\u001b[1;32m      2\u001b[0m \u001b[1;31m# Es beinhaltet detaillierte Informationen über das Original Tweet und über dessen Autor\u001b[0m\u001b[1;33m\u001b[0m\u001b[1;33m\u001b[0m\u001b[0m\n\u001b[0;32m----> 3\u001b[0;31m \u001b[0mt\u001b[0m\u001b[1;33m[\u001b[0m\u001b[1;34m'retweeted_status'\u001b[0m\u001b[1;33m]\u001b[0m\u001b[1;33m\u001b[0m\u001b[0m\n\u001b[0m",
      "\u001b[0;31mKeyError\u001b[0m: 'retweeted_status'"
     ]
    }
   ],
   "source": [
    "# Ist dieses Feld vorhanden, ist das ein Retweet\n",
    "# Es beinhaltet detaillierte Informationen über das Original Tweet und über dessen Autor\n",
    "t['retweeted_status']"
   ]
  },
  {
   "cell_type": "code",
   "execution_count": 17,
   "metadata": {},
   "outputs": [
    {
     "data": {
      "text/plain": [
       "False"
      ]
     },
     "execution_count": 17,
     "metadata": {},
     "output_type": "execute_result"
    }
   ],
   "source": [
    "# Gibt an, ob dieser Tweet von dir retweetet wurde\n",
    "t['retweeted']"
   ]
  },
  {
   "cell_type": "markdown",
   "metadata": {},
   "source": [
    "### Analysieren der Tweet Entities"
   ]
  },
  {
   "cell_type": "code",
   "execution_count": 18,
   "metadata": {
    "scrolled": true
   },
   "outputs": [
    {
     "name": "stdout",
     "output_type": "stream",
     "text": [
      "[\n",
      " \"Thank you Ron Howard, been a HUGE fan since Back draft (&amp; happy days !) https://t.co/zlFuK63gFO\",\n",
      " \"RT @JoshKurp: Disney, to Ron Howard: \\\"Here's some money. Go direct a Star War.\\\" https://t.co/gDHYFdm5GR\",\n",
      " \"RT @Densho: Fans de SW en 2012: No mamen, c\\u00f3mo Disney, ya vali\\u00f3 verga todo!\\n\\nFans de SW en 2017: No mamen, c\\u00f3mo Ron Howard, ya vali\\u00f3 verga\\u2026\",\n",
      " \"@willandrades ron howard fez rush uma mente brilhante a luta pela esperan\\u00e7a. maus filmes?\",\n",
      " \"RT @mrtoldo: \\u00bfY no sirve si Lord &amp; Miller acaban la pel\\u00edcula PERO le ponen una voz en off con Ron Howard explicando lo que quer\\u00eda Lucasfilm?\"\n",
      "]\n",
      "[\n",
      " \"JoshKurp\",\n",
      " \"Densho\",\n",
      " \"willandrades\",\n",
      " \"mrtoldo\",\n",
      " \"TIME\"\n",
      "]\n",
      "[\n",
      " \"entertainment\",\n",
      " \"News\",\n",
      " \"ChicagoFire\",\n",
      " \"tendenze\",\n",
      " \"StarWars\"\n",
      "]\n",
      "[\n",
      " \"Thank\",\n",
      " \"you\",\n",
      " \"Ron\",\n",
      " \"Howard,\",\n",
      " \"been\"\n",
      "]\n"
     ]
    }
   ],
   "source": [
    "# Extrahiere die Textinhalte aus den Tweets\n",
    "status_texts = [ status['text'] \n",
    "                 for status in statuses ]\n",
    "\n",
    "# Extrahiere die Anzeigenamen\n",
    "screen_names = [ user_mention['screen_name'] \n",
    "                 for status in statuses\n",
    "                     for user_mention in status['entities']['user_mentions'] ]\n",
    "\n",
    "# Extrahiere die Hashtags\n",
    "hashtags = [ hashtag['text'] \n",
    "             for status in statuses\n",
    "                 for hashtag in status['entities']['hashtags'] ]\n",
    "\n",
    "# Erstelle eine Kollektion mit allen Wörtern, die in den Tweets vorkommen\n",
    "words = [ w \n",
    "          for t in status_texts \n",
    "              for w in t.split() ]\n",
    "\n",
    "# Die ersten 5 Ausgaben für alle\n",
    "print (json.dumps(status_texts[0:5], indent=1))\n",
    "print (json.dumps(screen_names[0:5], indent=1)) \n",
    "print (json.dumps(hashtags[0:5], indent=1))\n",
    "print (json.dumps(words[0:5], indent=1))"
   ]
  },
  {
   "cell_type": "markdown",
   "metadata": {},
   "source": [
    "Mit dem Counter aus dem Collections Package wird das Zählen von Wörtern, die in den Entitäten vorkommen stark vereinfacht. Der Counter erzeugt dabei eine Liste mit Schlüssel-Wert-Paaren."
   ]
  },
  {
   "cell_type": "code",
   "execution_count": 19,
   "metadata": {},
   "outputs": [
    {
     "name": "stdout",
     "output_type": "stream",
     "text": [
      "[('Ron', 182), ('Howard', 158), ('RT', 132), ('the', 124), ('Han', 119), ('Solo', 95), ('to', 51), ('will', 41), ('on', 41), ('a', 33)]\n",
      "[('starwars', 29), ('ifiwere2tweet', 5), ('THR', 5), ('Breznican', 4), ('BuzzFeed', 4), ('BadFatherHan', 3), ('SamuelAAdams', 3), ('TimGrierson', 3), ('PopVoxCulture', 3), ('JoshKurp', 2)]\n",
      "[('StarWars', 10), ('RonHoward', 8), ('HanSoloMovie', 5), ('HanSolo', 5), ('starwars', 4), ('HealthcareBill', 2), ('PutYourPhoneDownAnd', 2), ('Hansolo', 2), ('Entertainment', 2), ('Buzz', 2)]\n"
     ]
    }
   ],
   "source": [
    "from collections import Counter\n",
    "\n",
    "# Zähle alle Wörter (Tokens) die in den Listen words, screen_names und hashtags drinvorkommen \n",
    "for item in [words, screen_names, hashtags]:\n",
    "    c = Counter(item)# Erzeuge ein Counter für die entsprechende Liste\n",
    "    print (c.most_common()[:10])# Zeige die Top Ten aus den drei Listen an"
   ]
  },
  {
   "cell_type": "markdown",
   "metadata": {},
   "source": [
    "Mittels Pretty Table können wir uns das Ergebnis geordnet ausgeben lassen. Falls Pretty Table noch nicht installiert ist kannst du das mit der Eingabe von <b>pip install prettytable</b> in der Konsole nachholen."
   ]
  },
  {
   "cell_type": "code",
   "execution_count": 20,
   "metadata": {
    "scrolled": true
   },
   "outputs": [
    {
     "name": "stdout",
     "output_type": "stream",
     "text": [
      "+--------+-------+\n",
      "| Word   | Count |\n",
      "+--------+-------+\n",
      "| Ron    |   182 |\n",
      "| Howard |   158 |\n",
      "| RT     |   132 |\n",
      "| the    |   124 |\n",
      "| Han    |   119 |\n",
      "| Solo   |    95 |\n",
      "| to     |    51 |\n",
      "| will   |    41 |\n",
      "| on     |    41 |\n",
      "| a      |    33 |\n",
      "+--------+-------+\n",
      "+---------------+-------+\n",
      "| Screen Name   | Count |\n",
      "+---------------+-------+\n",
      "| starwars      |    29 |\n",
      "| ifiwere2tweet |     5 |\n",
      "| THR           |     5 |\n",
      "| Breznican     |     4 |\n",
      "| BuzzFeed      |     4 |\n",
      "| BadFatherHan  |     3 |\n",
      "| SamuelAAdams  |     3 |\n",
      "| TimGrierson   |     3 |\n",
      "| PopVoxCulture |     3 |\n",
      "| JoshKurp      |     2 |\n",
      "+---------------+-------+\n",
      "+---------------------+-------+\n",
      "| Hashtag             | Count |\n",
      "+---------------------+-------+\n",
      "| StarWars            |    10 |\n",
      "| RonHoward           |     8 |\n",
      "| HanSoloMovie        |     5 |\n",
      "| HanSolo             |     5 |\n",
      "| starwars            |     4 |\n",
      "| HealthcareBill      |     2 |\n",
      "| PutYourPhoneDownAnd |     2 |\n",
      "| Hansolo             |     2 |\n",
      "| Entertainment       |     2 |\n",
      "| Buzz                |     2 |\n",
      "+---------------------+-------+\n"
     ]
    }
   ],
   "source": [
    "from prettytable import PrettyTable\n",
    "\n",
    "# Erzeuge für alle drei Listen eine Tabelle mit PrettyTable\n",
    "for label, data in (('Word', words), \n",
    "                    ('Screen Name', screen_names), \n",
    "                    ('Hashtag', hashtags)):\n",
    "    pt = PrettyTable(field_names=[label, 'Count'])# Erzeuge die Tabelle mit den jeweiligen Spalten\n",
    "    c = Counter(data)\n",
    "    [ pt.add_row(kv) for kv in c.most_common()[:10] ]# Fügt das Schlüssel-Wert-Paar in die Zeile ein\n",
    "    pt.align[label], pt.align['Count'] = 'l', 'r'# Legt die Ausrichtung der Werte in der Tabelle fest\n",
    "    print (pt)"
   ]
  },
  {
   "cell_type": "code",
   "execution_count": 21,
   "metadata": {},
   "outputs": [
    {
     "name": "stdout",
     "output_type": "stream",
     "text": [
      "0.3279164248403947\n",
      "0.5771812080536913\n",
      "0.5769230769230769\n",
      "17.23\n"
     ]
    }
   ],
   "source": [
    "# Berechne die Vielfalt\n",
    "def lexical_diversity(tokens):\n",
    "    return 1.0*len(set(tokens))/len(tokens) \n",
    "\n",
    "# Berechne die Durchschnittliche Anzahl der Wörter in einem Tweet\n",
    "def average_words(statuses):\n",
    "    total_words = sum([ len(s.split()) for s in statuses ])# Die Summe der Anzahl aller Wörter \n",
    "    return 1.0*total_words/len(statuses)\n",
    "\n",
    "print (lexical_diversity(words)) # Wortvielfalt\n",
    "print (lexical_diversity(screen_names)) # Namensvielfalt\n",
    "print (lexical_diversity(hashtags)) # Hashtagvielfalt\n",
    "print (average_words(status_texts)) # durchschnittliche Häufigkeit der Wörter"
   ]
  },
  {
   "cell_type": "markdown",
   "metadata": {},
   "source": [
    "Die Ergebnisse können wie folgt interpretiert werden:\n",
    "* In der Liste der Wörter sind 1 von 3 Wörtern einzigartig\n",
    "* In der Liste der Anzeigenamen sind 6 von 10 Namen, die in den Tweets erwähnt werden, einzigartig\n",
    "* In der Liste der Hashtags sind nur 4 von 10 Hashtags 'Ron Howard'\n",
    "* Die durchschnittliche Häufigkeit der Wörter in einem Tweet beträgt 17"
   ]
  },
  {
   "cell_type": "code",
   "execution_count": 22,
   "metadata": {},
   "outputs": [
    {
     "name": "stdout",
     "output_type": "stream",
     "text": [
      "+-------+-------------+----------------------------------------------------+\n",
      "| Count | Screen Name | Text                                               |\n",
      "+-------+-------------+----------------------------------------------------+\n",
      "| 4646  | starwars    | RT @starwars: Academy Award-winning filmmaker Ron  |\n",
      "|       |             | Howard will assume directorial duties on the       |\n",
      "|       |             | untitled Han Solo film. https://t.co/Ki04TAo…      |\n",
      "| 4646  | starwars    | RT @starwars: Academy Award-winning filmmaker Ron  |\n",
      "|       |             | Howard will assume directorial duties on the       |\n",
      "|       |             | untitled Han Solo film. https://t.co/Ki04TAo…      |\n",
      "| 4646  | starwars    | RT @starwars: Academy Award-winning filmmaker Ron  |\n",
      "|       |             | Howard will assume directorial duties on the       |\n",
      "|       |             | untitled Han Solo film. https://t.co/Ki04TAo…      |\n",
      "| 4646  | starwars    | RT @starwars: Academy Award-winning filmmaker Ron  |\n",
      "|       |             | Howard will assume directorial duties on the       |\n",
      "|       |             | untitled Han Solo film. https://t.co/Ki04TAo…      |\n",
      "| 4646  | starwars    | RT @starwars: Academy Award-winning filmmaker Ron  |\n",
      "|       |             | Howard will assume directorial duties on the       |\n",
      "|       |             | untitled Han Solo film. https://t.co/Ki04TAo…      |\n",
      "+-------+-------------+----------------------------------------------------+\n"
     ]
    }
   ],
   "source": [
    "# Erzeuge eine Liste mit dreier Tupeln aus den Tweets die Retweetet wurden\n",
    "retweets = [\n",
    "    \n",
    "            (status['retweet_count'], # Anzahl der Retweets\n",
    "             status['retweeted_status']['user']['screen_name'], #Anzeigename\n",
    "             status['text']) # Textinhalt\n",
    "            \n",
    "            for status in statuses \n",
    "            \n",
    "                if 'retweeted_status' in status\n",
    "           ]\n",
    "\n",
    "# Erstelle eine Tabelle aus der Liste\n",
    "pt = PrettyTable(field_names=['Count', 'Screen Name', 'Text'])\n",
    "[ pt.add_row(row) for row in sorted(retweets, reverse=True)[:5] ]\n",
    "pt.max_width['Text'] = 50\n",
    "pt.align= 'l'\n",
    "print (pt)"
   ]
  },
  {
   "cell_type": "code",
   "execution_count": 23,
   "metadata": {},
   "outputs": [
    {
     "name": "stdout",
     "output_type": "stream",
     "text": [
      "['BU_NeonHat', 'ArtziDavid', 'kingrussell56', '_BootyKing', 'KJ_DOOM', 'PantherU', 'yungloudancolin', 'unrealbenlenet', 'godjthatsmydj2', 'CforDanger', 'ZachEClark', 'AzLocoCat', 'JustinESports', 'Gturn15', 'TweetinTom09', 'UselessSGrant', 'edwardjsilva', 'KyleWoTB', 'DJmcLD']\n"
     ]
    }
   ],
   "source": [
    "# Gibt eine Liste der 100 aktuellsten Retweets zurück\n",
    "_retweets = twitter_api.statuses.retweets(id=875379042492456960)\n",
    "print ([retweet['user']['screen_name'] for retweet in _retweets])# Die Anzeigenamen der Retweeter werden ausgegeben"
   ]
  },
  {
   "cell_type": "code",
   "execution_count": 24,
   "metadata": {
    "collapsed": true
   },
   "outputs": [],
   "source": [
    "import matplotlib\n",
    "import numpy as np\n",
    "import matplotlib.pyplot as plt\n",
    "%matplotlib inline"
   ]
  },
  {
   "cell_type": "code",
   "execution_count": 25,
   "metadata": {},
   "outputs": [
    {
     "data": {
      "text/plain": [
       "<matplotlib.text.Text at 0x18c7213b438>"
      ]
     },
     "execution_count": 25,
     "metadata": {},
     "output_type": "execute_result"
    },
    {
     "data": {
      "image/png": "[encoded data removed]",
      "text/plain": [
       "<matplotlib.figure.Figure at 0x18c721069e8>"
      ]
     },
     "metadata": {},
     "output_type": "display_data"
    }
   ],
   "source": [
    "# Sortiert die Häufigkeit der Wörter nach absteigender Reihenfolge\n",
    "word_counts = sorted(Counter(words).values(), reverse=True)\n",
    "\n",
    "# Zeichnet das Schaubild mit einer logarithmischen Skalierung\n",
    "plt.loglog(word_counts)\n",
    "plt.ylabel(\"Freq\")\n",
    "plt.xlabel(\"Word Rank\")"
   ]
  },
  {
   "cell_type": "markdown",
   "metadata": {},
   "source": [
    "In diesem Schaubild werden die Schlüssel-Wert-Paare für die Wörter, die wir weiter oben berechnet haben dargestellt. Die Y-Achse stellt dabei die Häufigkeit der Wörter dar und die X-Achse den Index der Wörter. Jedoch ist die X-Achse in absteigender Reihenfolge sortiert. Für eine bessere Darstellung der kleineren Werte wurde eine logarithmische Skalierung benutzt.  "
   ]
  },
  {
   "cell_type": "code",
   "execution_count": 26,
   "metadata": {},
   "outputs": [
    {
     "data": {
      "image/png": "[encoded data removed]",
      "text/plain": [
       "<matplotlib.figure.Figure at 0x18c6ff37dd8>"
      ]
     },
     "metadata": {},
     "output_type": "display_data"
    },
    {
     "data": {
      "image/png": "[encoded data removed]",
      "text/plain": [
       "<matplotlib.figure.Figure at 0x18c72a4fa90>"
      ]
     },
     "metadata": {},
     "output_type": "display_data"
    },
    {
     "data": {
      "image/png": "[encoded data removed]",
      "text/plain": [
       "<matplotlib.figure.Figure at 0x18c72ad37b8>"
      ]
     },
     "metadata": {},
     "output_type": "display_data"
    },
    {
     "data": {
      "text/plain": [
       "<matplotlib.figure.Figure at 0x18c72b65ef0>"
      ]
     },
     "metadata": {},
     "output_type": "display_data"
    }
   ],
   "source": [
    "# Erzeuge für jede Liste  ein Histrogramm mit den entsprechenden Häufigkeiten\n",
    "for label, data in (('Words', words), \n",
    "                    ('Screen Names', screen_names), \n",
    "                    ('Hashtags', hashtags)):\n",
    "\n",
    "    c = Counter(data)\n",
    "    plt.hist(list(c.values()))\n",
    "    plt.title(label)\n",
    "    plt.ylabel(\"Number of items in bin\")\n",
    "    plt.xlabel(\"Bins (number of times an item appeared)\")\n",
    "    plt.figure()"
   ]
  },
  {
   "cell_type": "code",
   "execution_count": 27,
   "metadata": {},
   "outputs": [
    {
     "name": "stdout",
     "output_type": "stream",
     "text": [
      "[596, 6, 8, 61, 126, 4646, 421, 2, 24, 1, 171, 606, 95, 22, 510, 596, 606, 1, 421, 5, 151, 31, 8, 42, 295, 46, 45, 72, 1, 1, 15, 1, 34, 45, 4646, 4646, 4646, 684, 2, 4646, 5, 4646, 1, 1, 1, 309, 2, 2, 2, 2, 4, 4646, 4646, 46, 211, 140, 4646, 20, 171, 4646, 421, 684, 4646, 21, 50, 4646, 62, 171, 249, 4646, 19, 4646, 4646, 9, 3, 4646, 231, 3, 42, 4, 28, 4646, 4646, 309, 15, 4646, 3, 295, 510, 104, 4646, 510, 3, 6, 606, 25, 171, 2, 71, 309, 61, 3, 280, 2, 72, 510, 4646, 510, 48, 4646, 4646, 31, 31, 1, 140, 9, 9, 2, 29, 9, 4646, 22, 24, 9, 1, 126, 192, 31, 288, 217, 4646, 1]\n"
     ]
    },
    {
     "data": {
      "image/png": "[encoded data removed]",
      "text/plain": [
       "<matplotlib.figure.Figure at 0x18c72bb2ba8>"
      ]
     },
     "metadata": {},
     "output_type": "display_data"
    }
   ],
   "source": [
    "# Erzeuge ein Histogramm mit den Häufigkeiten der Tweets\n",
    "counts = [count for count, _, _ in retweets] \n",
    "# Die Unterstriche bedeuten, dass die zweiten und dritten Elemente im Tupel vernachlässigt werden\n",
    "\n",
    "plt.hist(counts)\n",
    "plt.title(\"Retweets\")\n",
    "plt.xlabel('Bins (number of times retweeted)')\n",
    "plt.ylabel('Number of tweets in bin')\n",
    "\n",
    "print (counts)"
   ]
  },
  {
   "cell_type": "markdown",
   "metadata": {},
   "source": [
    "<b>Quellen: </b>\n",
    "<br>\n",
    "* Russell, M. A. (2013). Mining the Social Web: Data Mining Facebook, Twitter, LinkedIn, Google+, GitHub, and More. \"   O'Reilly Media, Inc.\".: http://chimera.labs.oreilly.com/books/1234000001583/ch01.html#social-websites-rage<br>\n",
    "* Python Dokumentation: https://docs.python.org/2.7/<br>\n",
    "* Python Tips: http://book.pythontips.com/en/latest/index.html#<br>\n",
    "* Twitter Developer Dokumentation: https://dev.twitter.com/docs<br>\n",
    "* Wikipedia: https://www.wikipedia.de/<br>\n",
    "* Zafarani, R., Abbasi, M. A., & Liu, H. (2014). Social media mining: an introduction. Cambridge University Press. :http://dmml.asu.edu/smm/SMM.pdf<br>"
   ]
  },
  {
   "cell_type": "code",
   "execution_count": null,
   "metadata": {
    "collapsed": true
   },
   "outputs": [],
   "source": []
  }
 ],
 "metadata": {
  "kernelspec": {
   "display_name": "Python 3",
   "language": "python",
   "name": "python3"
  },
  "language_info": {
   "codemirror_mode": {
    "name": "ipython",
    "version": 3
   },
   "file_extension": ".py",
   "mimetype": "text/x-python",
   "name": "python",
   "nbconvert_exporter": "python",
   "pygments_lexer": "ipython3",
   "version": "3.6.0"
  }
 },
 "nbformat": 4,
 "nbformat_minor": 2
}
