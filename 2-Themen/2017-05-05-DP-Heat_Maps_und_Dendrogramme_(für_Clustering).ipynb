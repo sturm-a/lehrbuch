{
 "cells": [
  {
   "cell_type": "markdown",
   "metadata": {},
   "source": [
    "# Theoretischer Hintergrund\n",
    "Datensätze, welche in Cluster eingeteilt wurden, können mit Hilfe von Diagrammen übersichtlich und strukturiert dargestellt werden. In diesem Kapitel werden wir speziell auf die Visualisierung vom gruppierten Daten mithilfe von Dendrogrammen und die Darstellung von Daten durch Heatmaps eingehen.\n",
    "Zu Beginn werden der Nutzen und die Anwendungsgebiete von Dendrogrammen sowie Heatmaps erläutert. Dann wird die Umsetzung der Diagramme in Python dargestellt. Als Grundlage dieser Visualisierungsarten dient das Notebook zum Thema \"Clustering\". Die Thematik der hierarchischen Clusteranalyse wird, als Grundvoraussetzung für diese Visualisierungsmethoden, nochmals kurz aufgegriffen."
   ]
  },
  {
   "cell_type": "markdown",
   "metadata": {},
   "source": [
    "# Das Dendrogramm"
   ]
  },
  {
   "cell_type": "markdown",
   "metadata": {},
   "source": [
    "## Nutzen und Anwendungsgebiete von Dendrogrammen"
   ]
  },
  {
   "cell_type": "markdown",
   "metadata": {},
   "source": [
    "Ein Dendrogramm ist eine grafische Darstellung von Daten in einer baumähnlichen Struktur, welche Beziehungen zwischen Clustern darstellt. Eine wichtige Rolle spielt hierbei die Distanz der einzelnen Objekte und Cluster zueinander, weil diese Abstände als Grundlage für die Clusterbildung gelten."
   ]
  },
  {
   "cell_type": "markdown",
   "metadata": {},
   "source": [
    "![alt text](dendrogram.png \"Beispiel für ein Dendrogramm\")"
   ]
  },
  {
   "cell_type": "markdown",
   "metadata": {},
   "source": [
    "Als Grundlage für ein Dendrogramm dient die vorausgegangene **hierarchische Clusteranalyse**. Cluster bestehen hierbei aus Objekten, die zueinander eine geringere oder größere Distanz aufweisen als zu den Objekten anderer Cluster. Man kann die Verfahren in dieser Familie nach den verwendeten Distanzmaßen und ihrer Berechnungsvorschrift unterscheiden.\n",
    "\n",
    "Untergliedert man nach der Berechnungsvorschrift, so unterscheidet man zwei wichtige Typen von Verfahren:\n",
    "- die **divisiven Clusterverfahren**, in denen zunächst alle Objekte zu einem Cluster gehören und dieses große Cluster schrittweise in immer kleine Cluster aufgeteilt wird bis jedes Cluster nur noch aus einem Objekt besteht (auch bezeichnet als „Top-down-Verfahren“)\n",
    "- die **agglomerativen Clusterverfahren**, in denen zunächst jedes Objekt als ein Cluster angesehen wird und dann schrittweise mit anderen Clustern verschmolzen werden, um am Ende ein großes Cluster zu ergeben (auch bezeichnet als „Bottom-up-Verfahren“)\n",
    "\n",
    "Für beide Verfahren gilt, dass einmal gebildete Cluster nicht mehr verändert werden können. Die Struktur wird entweder stets nur verfeinert („divisiv“) oder nur vergröbert („agglomerativ“), so dass eine strikte Cluster-Hierarchie entsteht. An der entstandenen Hierarchie kann man nicht mehr erkennen, wie sie berechnet wurde.\n"
   ]
  },
  {
   "cell_type": "markdown",
   "metadata": {},
   "source": [
    "# Die Heatmap"
   ]
  },
  {
   "cell_type": "markdown",
   "metadata": {},
   "source": [
    "## Nutzen und Anwendungsgebiete von Heatmaps"
   ]
  },
  {
   "cell_type": "markdown",
   "metadata": {},
   "source": [
    "Mit Hilfe einer Heatmap können dreidimensionale Daten zweidimensional graphisch dargestellt werden. Große Datenmengen können dadurf farblich intuitiv begreiflich gemacht werden."
   ]
  },
  {
   "cell_type": "markdown",
   "metadata": {},
   "source": [
    "Heatmaps finden sich in verschiedenen Anwendungsgebieten wieder. Das bekannteste und wahrscheinlich auch älteste Anwendungsgebiet sind Hitzekarten: Hierbei werden die Temperaturverteilungen innerhalb einer Landkarte dargestellt. Weitere Anwendungsmöglichkeiten können [auf dieser Seite](https://de.wikipedia.org/wiki/Heatmap#Varianten) begutachtet werden."
   ]
  },
  {
   "cell_type": "markdown",
   "metadata": {},
   "source": [
    "![alt text](HeatMap.jpg \"Beispiel für eine Heatmap: Hitzekarte\")"
   ]
  },
  {
   "cell_type": "markdown",
   "metadata": {},
   "source": [
    "Jedoch wird der Begriff **Heatmaps** heutzutage ebenfalls stark im Online-Marketing verwendet, um das Nutzerverhalten sowie den Aufbau von Websiten zu analysieren. Hierbei können u.a. die Augen- oder Mausbewegungen eines Nutzers auf einer Webseite erfasst und somit sein Wahrnehmungsvermögen analysiert werden. Die daraus resultierenden Informationen können z.B. dabei helfen Navigierungsabläufe zu optimieren.\n",
    ">Genaueres hierzu kann auf der Seite [Was sind Heatmaps und was bringen sie?](http://www.selbstaendig-im-netz.de/2013/01/10/usability/was-sind-heatmaps-und-was-bringen-sie-teil-1-der-heatmap-serie/) von Peer Wandiger nachgelesen werden."
   ]
  },
  {
   "cell_type": "markdown",
   "metadata": {},
   "source": [
    "# Praktischer Hintergrund"
   ]
  },
  {
   "cell_type": "markdown",
   "metadata": {},
   "source": [
    "## Dendrogramme (für Clustering)"
   ]
  },
  {
   "cell_type": "markdown",
   "metadata": {},
   "source": [
    "### Dendrogramm mit SciPy\n",
    "Für die hierarchische Gruppierung und zur Darstellung unseres Dendrogramms wollen wir die Python-Bibliothek [SciPy](https://www.scipy.org/scipylib/index.html) verwenden, welche u.a. die benötigten Bibliotheken Matplotlip, Numpy und Dendrogram enthält. Zusätzlich enhält SciPy numerische Algorithmen und mathematische Werkzeuge, die einen Kernbestandteil der `scipy` -Umgebung bilden."
   ]
  },
  {
   "cell_type": "markdown",
   "metadata": {},
   "source": [
    "Um die Erstellung von Dendrogrammen mit Python zu ermöglichen, müssen die unten aufgeführten Pakete importiert werden. "
   ]
  },
  {
   "cell_type": "code",
   "execution_count": 2,
   "metadata": {},
   "outputs": [],
   "source": [
    "from scipy.cluster import hierarchy\n",
    "from matplotlib import pyplot as plt\n",
    "from scipy.cluster.hierarchy import dendrogram, linkage\n",
    "import numpy as np"
   ]
  },
  {
   "cell_type": "markdown",
   "metadata": {},
   "source": [
    ">- **Numpy** ist eine Python-Bibliothek, die den Umgang mit Datenpunkten enorm vereinfacht:\n",
    "    - Grunddatentyp: das Array\n",
    "    - kann man sich als effizientere Liste vorstellen\n",
    "    - Idee: Man kann ein Array ähnlich wie eine Zahl verwenden. Operationen werden dann auf allen Elementen ausgeführt\n",
    ">\n",
    ">\n",
    ">- **SciPy** baut auf Numpy auf:\n",
    " - kann numerisch integrieren, DGLs lösen, optimieren, minimieren, …\n",
    " - enthält auch physikalische Konstanten und wichtige mathematische Funktionen\n",
    ">\n",
    ">\n",
    ">- **Matplotlib** ist eine Programmbibliothek (für Python) die es erlaubt mathematische Darstellungen aller Art anzufertigen"
   ]
  },
  {
   "cell_type": "markdown",
   "metadata": {},
   "source": [
    "### Generierung der Beispieldaten"
   ]
  },
  {
   "cell_type": "markdown",
   "metadata": {},
   "source": [
    "Hier werden die Daten eingelesen, aus denen wir ein Dendrogramm erstellen wollen. Die Werte selbst sind zufällig gewählt und dienen keinem speziellem Zweck. Sie werden als 2 Arrays (X und Y-Daten) mit je 7 Werten erfasst. \n",
    "In der Zeile:\n",
    "```Python\n",
    "Z = plt.plot(data_x, data_y, 'bo')\n",
    "```\n",
    "werden diese Arrays zusammen geplottet (``'bo'`` steht für 'blaue Kreise') um gleich darauf in einem Punkte-Diagramm ausgegeben zu werden:"
   ]
  },
  {
   "cell_type": "code",
   "execution_count": 3,
   "metadata": {},
   "outputs": [
    {
     "data": {
      "image/png": "[encoded data removed]",
      "text/plain": [
       "<matplotlib.figure.Figure at 0x1f1e32bc7b8>"
      ]
     },
     "metadata": {},
     "output_type": "display_data"
    }
   ],
   "source": [
    "# Einen x-y-Plot erstellen:\n",
    "data_x = [10,12,1,4,18,7,9]\n",
    "data_y = [13,2,3,15,19,5,17]\n",
    "Z = plt.plot(data_x, data_y, 'bo')\n",
    "\n",
    "# Achsen-Bereiche manuell festlegen\n",
    "# Syntax: plt.axis([xmin, xmax, ymin, ymax])\n",
    "plt.axis([0, 20, 0, 20])\n",
    "\n",
    "# Ein gepunktetes Diagramm-Gitter einblenden:\n",
    "plt.grid(True)\n",
    "\n",
    "# Diagramm anzeigen:\n",
    "plt.show()"
   ]
  },
  {
   "cell_type": "markdown",
   "metadata": {},
   "source": [
    "Um unser Beispiel nachvollziehbar zu halten bestehen unsere Daten aus 7 einfachen und verständlichen X- und Y-Koordinaten. Diese werden im oben abgebildeten Punkte-Diagramm dargestellt (Skala der X- und Y-Achse 0 bis 20)."
   ]
  },
  {
   "cell_type": "markdown",
   "metadata": {},
   "source": [
    "### Hierarchische Anordnung der Cluster"
   ]
  },
  {
   "cell_type": "markdown",
   "metadata": {},
   "source": [
    "Der entscheidende Schritt für den hierarchischen agglomerierenden Algorithmus ist die Auswahl der zu verschmelzenden Cluster. \n",
    "\n",
    "Zu unterscheidende Abstandsbegriffe:\n",
    "- kürzester Abstand zwischen den Punkten aus zwei Clustern (**Single Link**)\n",
    "- größter Abstand zwischen den Punkten aus zwei Clustern (**Complete Link**)\n",
    "- durchschnittlicher Abstand zwischen den Punkten aus zwei Clustern (**Average Link**)\n",
    "\n",
    "> Weitere `linkage`-Methoden und deren Verwendung können auf der [SciPy linkage docs ](https://docs.scipy.org/doc/scipy/reference/generated/scipy.cluster.hierarchy.linkage.html) - Seite nachgelesen werden.\n",
    "\n",
    "Nun erstellen wir die hierarchische Gruppierung aufgrund unserer eben generierten Beispieldaten:"
   ]
  },
  {
   "cell_type": "code",
   "execution_count": 4,
   "metadata": {},
   "outputs": [],
   "source": [
    " # Workaround um aus unseren beiden eindimensionalen Arrays ein 2D-Array zu erhalten\n",
    "array_2d = np.array([list(points) for points in zip(data_x, data_y)])\n",
    "\n",
    "# Verwendung der single-Methode zur hierarchischen Ordnung der Datenpunkte des Arrays array_2d\n",
    "Z = hierarchy.linkage(array_2d, 'single')\n",
    "plt.figure()\n",
    "dn = hierarchy.dendrogram(Z)"
   ]
  },
  {
   "cell_type": "markdown",
   "metadata": {},
   "source": [
    ">Für die `single` Methode wird der Abstand von allen Punkten des einen Clusters zu allen Punkten des anderen Clusters berechnet. Der kleinste Abstand zwischen zwei Punkten aus den verschiedenen Clustern wird dann als Abstand der Cluster gewählt. Der Abstand zwischen den Clustern A und B bestimmt sich damit durch die Formel:\n",
    "$$\n",
    "\\mathcal{D}_{single-linkage}{(A,B)} := \\min_{a\\in A, b\\in B}\\{d(a,b)\\}\n",
    "$$\n",
    "Diese Methode erstellt eine neue Liste `Z`, in der die hierarchisch geordneten Cluster aufgelistet werden."
   ]
  },
  {
   "cell_type": "markdown",
   "metadata": {},
   "source": [
    "Egal welche `method` oder `metric` wir hierbei benutzen,  die `linkage()`-Funktion verwendet sie dazu, um die Abstände eines jeden Clusters zu berechnen (wobei jeder einzelne Datenpunkt ein Cluster darstellt). Im weiteren Verlauf werden immer jene zwei Cluster zusammengeführt die, nach der gewählten Methode, immer den kleinsten Abstand zueinander haben. \n",
    "Werfen wir z.B. einen Blick auf die beiden Punkte, die zu allerst zusammengeführt wurden:"
   ]
  },
  {
   "cell_type": "code",
   "execution_count": 5,
   "metadata": {},
   "outputs": [
    {
     "data": {
      "text/plain": [
       "array([ 0.        ,  6.        ,  4.12310563,  2.        ])"
      ]
     },
     "execution_count": 5,
     "metadata": {},
     "output_type": "execute_result"
    }
   ],
   "source": [
    "Z[0]"
   ]
  },
  {
   "cell_type": "markdown",
   "metadata": {},
   "source": [
    "Wir können sehen, dass jede Zeile des resultierenden Arrays das Format `[idx1, idx2, dist, sample_count]` hat. Im ersten Durchlauf verschmolz der `linkage()`-Algorithmus, die beiden Cluster mit den Indexen **0** und **6** zu einem neuen Cluster, da sie den geringsten Abstand von 4,12 hatten. Dieses neue Cluster (Index 7) enthält nun die beiden Kind-Cluster mit den Indexe 0 und 6.\n",
    "\n",
    "Zu Beginn des Sortiervorganges bestanden unsere Beispieldaten aus 7 Clustern (7 Datenpunkten). Da jeder einzelne Datenpunkt als Cluster angesehen wurde, besetzten diese bereits zu Beginn des Ordnungsverfahrens die Indexe 0 bis 6 der zu erstellenden Liste `Z`. Weiter folgend, da der Algorithmus beginnt einzelne Cluster zu neuen Clustern zu verbinden wird jede neue Verbindung in unser Array `Z` neu eingetragen und hochgezählt:\n",
    "- `Z[0]` entspricht dabei dem Index 7\n",
    "- `Z[1]` entpricht dem Index 8\n",
    "- `Z[2]` entpricht dem Index 9\n",
    "- u.s.w.\n",
    "\n",
    "Wenn wir uns nun alle Durchläufe des Algorithmus anschauen, können wir z.B. sehen, dass der Abstandswert der gruppierten Cluster kontinuierlich steigt und das im 2. Durchgang bereits ein Cluster aus 3 Werten geschlossen wurde:"
   ]
  },
  {
   "cell_type": "code",
   "execution_count": 6,
   "metadata": {},
   "outputs": [
    {
     "data": {
      "text/plain": [
       "array([[  0.        ,   6.        ,   4.12310563,   2.        ],\n",
       "       [  3.        ,   7.        ,   5.38516481,   3.        ],\n",
       "       [  1.        ,   5.        ,   5.83095189,   2.        ],\n",
       "       [  2.        ,   9.        ,   6.32455532,   3.        ],\n",
       "       [  8.        ,  10.        ,   8.54400375,   6.        ],\n",
       "       [  4.        ,  11.        ,   9.21954446,   7.        ]])"
      ]
     },
     "execution_count": 6,
     "metadata": {},
     "output_type": "execute_result"
    }
   ],
   "source": [
    "Z[:] # Alle Schritte des hierarchischen Clusterverfahrens ausgeben"
   ]
  },
  {
   "cell_type": "markdown",
   "metadata": {},
   "source": [
    "In diesem 2. Durchlauf werden die Cluster mit den Indexen 3 und 7 zusammengefüht. Aus den vorangegangen Beispiel wissen wir noch, dass der Index 7 erst im 1. Durchlauf des Algorithmus aus den Indexen 0 und 6 gebildet wurde. Hier erhalten wir also das erste Cluster welches aus 3 Indexen besteht `array_2d[0, 6, 3]`. Wenn wir uns diese Datenpunkte anzeigen lassen, sehen wir wie nah sie beieinander liegen (rot dargestellt):"
   ]
  },
  {
   "cell_type": "code",
   "execution_count": 7,
   "metadata": {},
   "outputs": [
    {
     "data": {
      "image/png": "[encoded data removed]",
      "text/plain": [
       "<matplotlib.figure.Figure at 0x1f1e32bc470>"
      ]
     },
     "metadata": {},
     "output_type": "display_data"
    },
    {
     "data": {
      "image/png": "[encoded data removed]",
      "text/plain": [
       "<matplotlib.figure.Figure at 0x1f1e37c2940>"
      ]
     },
     "metadata": {},
     "output_type": "display_data"
    }
   ],
   "source": [
    "# Dies sind die ersten 3 Punkte, die im 1. und 2. Schritt verschmolzen wurden\n",
    "idxs = [0, 6, 3] \n",
    "plt.figure(figsize=(10, 8))\n",
    "plt.scatter(array_2d[:,0], array_2d[:,1])  # Alle Punkte anzeigen\n",
    "plt.scatter(array_2d[idxs,0], array_2d[idxs,1], c='r')  # Interessante Punkte nochmals in rot anzeigen\n",
    "plt.show()"
   ]
  },
  {
   "cell_type": "markdown",
   "metadata": {},
   "source": [
    "Bis hierhin haben wir gelernt wie Cluster hierarchisch strukturiert werden. Im nachfolgenden Abschnitt werden wir daraus ein Dendrogramm erstellen."
   ]
  },
  {
   "cell_type": "markdown",
   "metadata": {},
   "source": [
    "### Visualisierung in einem Dendrogramm"
   ]
  },
  {
   "cell_type": "markdown",
   "metadata": {},
   "source": [
    "Folgende Parameter sind für die Erstellung eines Dendrogramms gegeben:\n",
    "\n",
    "```python\n",
    "scipy.cluster.hierarchy.dendrogram(Z, p=30, truncate_mode=None, color_threshold=None, get_leaves=True, orientation='top', labels=None, count_sort=False, distance_sort=False, show_leaf_counts=True, no_plot=False, no_labels=False, leaf_font_size=None, leaf_rotation=None, leaf_label_func=None, show_contracted=False, link_color_func=None, ax=None, above_threshold_color='b')\n",
    "```"
   ]
  },
  {
   "cell_type": "markdown",
   "metadata": {},
   "source": [
    ">Eine übersichtlichen Erklärung der Einstellungs- und Darstellungsfunktionen kann auf der [SciPy dendrogram docs](https://docs.scipy.org/doc/scipy-0.18.1/reference/generated/scipy.cluster.hierarchy.dendrogram.html) - Seite nachgeschlagen werden. Parameter, welche nicht deklariert werden, werden automatisch mit einer `default`-Einstellung besetzt. So ist es möglich ein Dendrogramm sowohl sehr simpel als auch sehr komplex darzustellen.\n"
   ]
  },
  {
   "cell_type": "markdown",
   "metadata": {},
   "source": [
    "Nun ist es an der Zeit ein Dendrogramm anhand unserer, bereits geclusterten Daten, zu erstellen. Aus Lernzwecken verwenden wir eine relativ einfache und schlichte Darstellungsweise:"
   ]
  },
  {
   "cell_type": "code",
   "execution_count": 8,
   "metadata": {},
   "outputs": [
    {
     "data": {
      "image/png": "[encoded data removed]",
      "text/plain": [
       "<matplotlib.figure.Figure at 0x1f1e37c2668>"
      ]
     },
     "metadata": {},
     "output_type": "display_data"
    }
   ],
   "source": [
    "# Hier wird das gesamte Dendrogramm unserer Beispieldaten geplottet\n",
    "plt.figure(figsize=(25, 10))\n",
    "\n",
    "# Titel der Dendrogramms\n",
    "plt.title('Dendrogramm (eines hirarchischen Clusters)') \n",
    "\n",
    "# Beschriftung der X-Achse\n",
    "plt.xlabel('Index der Liste array_2d')\n",
    "\n",
    "# Beschriftung der Y-Achse\n",
    "plt.ylabel('Distanz')\n",
    "\n",
    "# Plotten des Dendrogramms\n",
    "dendrogram(\n",
    "    Z,\n",
    "    leaf_font_size=8.,  # Schriftgröße der X-Achsen-Beschriftung\n",
    ")\n",
    "\n",
    "# Anzeigen\n",
    "plt.show()"
   ]
  },
  {
   "cell_type": "markdown",
   "metadata": {},
   "source": [
    "Auf den ersten Blick kann ein solchen Dendrogramm sehr komplex wirken. Jedoch ist es bei näherer Betrachtung gut nachvollziebar:\n",
    "- auf der x-Achse werden die einzelnen Aushangspunkte (die Liste `array_2d` mit den Datenpunkten 1 bis 7 anhand der Indexe 0 bis 6)\n",
    "- auf der y-Achse werden die Distanzen (in unserem Fall die Ergebnisse der `'single'`-Methode) dargestellt\n",
    "\n",
    "Bei einem solchen Dendrogramm besteht nun die Möglichkeit, ausgehend von einem Datenpunkt auf der X-Achse, den zugehörigen nächsten Partnerwert ausfindig zu machen indem wir dem umgekehrten \"U\" folgen. Die jeweiligen horizontalen Linien geben die Distanz zwischen den verschmolzenen Partner an und werden anhand der Y-Achse abgelesen.\n",
    "\n",
    "Das nachfolgende Dendrogramm zeigt unsere Daten aus einer horizontalen Perspektive und einer anderen Farbgebung:"
   ]
  },
  {
   "cell_type": "code",
   "execution_count": 9,
   "metadata": {},
   "outputs": [
    {
     "data": {
      "image/png": "[encoded data removed]",
      "text/plain": [
       "<matplotlib.figure.Figure at 0x1f1e3a41f98>"
      ]
     },
     "metadata": {},
     "output_type": "display_data"
    }
   ],
   "source": [
    "# Benutzerdefinierte Farbpaletten können im Vorfeld bestimmt werden\n",
    "hierarchy.set_link_color_palette(['y', 'c', 'm', 'k'])\n",
    "\n",
    "plt.figure(figsize=(10, 7))\n",
    "dn = hierarchy.dendrogram(Z, above_threshold_color='m',\n",
    "                           orientation='right')\n",
    "\n",
    "# Setzt nach Verwendung der Farben alles wieder auf Standard zurück (blau)\n",
    "hierarchy.set_link_color_palette(None)\n",
    "plt.show()"
   ]
  },
  {
   "cell_type": "markdown",
   "metadata": {},
   "source": [
    ">Parametererklärung:\n",
    "- `above_threshold_color` (String wird erwartet z.B. 'r' (red); freiwilliger Parameter):\n",
    "Diese `Matplotlib`-Farbzeichenfolge setzt die Farbe der Links über dem color_threshold. Die Standartfarbe bei nicht-Vergabe des Parameters ist 'b' (blue). \n",
    "    - In diesem Beispiel wurde die Farbe Magenta als Startfarbe gegeben (angegebene Farbennutzung, der vordefinierten Farbpalette, von rechts nach links)\n",
    "- `orientation` (String wird erwartet z.B. '`top`' (oben); freiwilliger Parameter): Gibt die Richtung an, in die das Dendrogramm gezeichnet werden soll. Weiter Möglichkeiten: `bottom`, `left`, `right`."
   ]
  },
  {
   "cell_type": "markdown",
   "metadata": {},
   "source": [
    "## Heat Maps\n",
    "Heatmaps können eine sehr aufschlussreiche Darstellungsart von Daten sein, vorausgesetzt die Art der erhoben Daten (z.B. Temperaturen, DNA-Sequenzen) eignen sich zum erstellen einer Heatmap. In den folgenden Abschnitten werden wir grundlegende Schritte der Heatpmap-Erstellung kennen lernen. "
   ]
  },
  {
   "cell_type": "markdown",
   "metadata": {},
   "source": [
    "### Heatmaps mit Plotly"
   ]
  },
  {
   "cell_type": "markdown",
   "metadata": {},
   "source": [
    "Um an die, zur Ausführung notwenige Library zu kommen müssen wir in der Windows Kommandozeile den Befehl **`pip install plotly`** ausführen. Dieser Befehl sorgt dafür, dass die `plotly`-Library lokal installiert und verwendet werden kann. Es besteht die Möglichkeit, sich einen Account auf der Plotly-Seite anzulegen oder, so wie in diesem Notebook, die Library offline zu nutzen.\n",
    "Weitere Infomationen können auf der [Plotly](https://plot.ly/python/offline/)-Seite nachgelesen werden (vorallem in Bezug auf die offline-Nutzung).\n",
    "\n",
    "Die Diagramme, die Ploty zur Verfügung stellt, sind deklarativ durch Objekte in `plotly.graph_objs` beschrieben.\n",
    "Jeder Aspekt eines Plotly-Diagramms (die Farbe, Gitter, Daten, usw.) besitzt im jeweiligen Objekt ein entsprechendes Schlüsselattribut.\n",
    "In `plotly.figure_factory` sind zusätzliche Funktionen enthalten wie z.B. zur Beschriftung der einzelnen Felder.\n",
    "\n",
    "Plotly bietet die Möglichkeit einzelne Grafiken zu exportieren und online zu bearbeiten (die zusätzliche Bearbeitung auf der `plot.ly` - Seite ist sehr einfach und sprechend aufgebaut)."
   ]
  },
  {
   "cell_type": "markdown",
   "metadata": {},
   "source": [
    "> Eine Übersicht über alle möglichen Attribute einer Heatmap bietet die [Plotly Python chart attribut reference](https://plot.ly/python/reference/#heatmap)."
   ]
  },
  {
   "cell_type": "markdown",
   "metadata": {},
   "source": [
    "Um die Erstellung von Heatmaps mit Python zu ermöglichen, müssen die unten aufgeführten Pakete importiert werden."
   ]
  },
  {
   "cell_type": "code",
   "execution_count": 10,
   "metadata": {},
   "outputs": [
    {
     "data": {
      "text/html": [
       "<script>requirejs.config({paths: { 'plotly': ['https://cdn.plot.ly/plotly-latest.min']},});if(!window.Plotly) {{require(['plotly'],function(plotly) {window.Plotly=plotly;});}}</script>"
      ],
      "text/vnd.plotly.v1+html": [
       "<script>requirejs.config({paths: { 'plotly': ['https://cdn.plot.ly/plotly-latest.min']},});if(!window.Plotly) {{require(['plotly'],function(plotly) {window.Plotly=plotly;});}}</script>"
      ]
     },
     "metadata": {},
     "output_type": "display_data"
    }
   ],
   "source": [
    "import plotly as py\n",
    "import plotly.graph_objs as go\n",
    "import plotly.figure_factory as ff # Ermöglicht die Beschriftung der Heatmaps\n",
    "\n",
    "# Offline Nutzung der Plotly-Library, kein Account notwendig\n",
    "py.offline.init_notebook_mode(connected=True) "
   ]
  },
  {
   "cell_type": "markdown",
   "metadata": {},
   "source": [
    "### Eine einfache Heatmap"
   ]
  },
  {
   "cell_type": "markdown",
   "metadata": {},
   "source": [
    "Nachfolgend sehen wir eine ganz einfache Heatmap:"
   ]
  },
  {
   "cell_type": "code",
   "execution_count": 11,
   "metadata": {},
   "outputs": [
    {
     "data": {
      "application/vnd.plotly.v1+json": {
       "data": [
        {
         "type": "heatmap",
         "z": [
          [
           1,
           20,
           30
          ],
          [
           33,
           1,
           60
          ],
          [
           40,
           60,
           1
          ]
         ]
        }
       ],
       "layout": {}
      },
      "text/html": [
       "<div id=\"792d6f96-98f6-4f2c-b3e3-246b17af2f74\" style=\"height: 525px; width: 100%;\" class=\"plotly-graph-div\"></div><script type=\"text/javascript\">require([\"plotly\"], function(Plotly) { window.PLOTLYENV=window.PLOTLYENV || {};window.PLOTLYENV.BASE_URL=\"https://plot.ly\";Plotly.newPlot(\"792d6f96-98f6-4f2c-b3e3-246b17af2f74\", [{\"type\": \"heatmap\", \"z\": [[1, 20, 30], [33, 1, 60], [40, 60, 1]]}], {}, {\"showLink\": true, \"linkText\": \"Export to plot.ly\"})});</script>"
      ],
      "text/vnd.plotly.v1+html": [
       "<div id=\"792d6f96-98f6-4f2c-b3e3-246b17af2f74\" style=\"height: 525px; width: 100%;\" class=\"plotly-graph-div\"></div><script type=\"text/javascript\">require([\"plotly\"], function(Plotly) { window.PLOTLYENV=window.PLOTLYENV || {};window.PLOTLYENV.BASE_URL=\"https://plot.ly\";Plotly.newPlot(\"792d6f96-98f6-4f2c-b3e3-246b17af2f74\", [{\"type\": \"heatmap\", \"z\": [[1, 20, 30], [33, 1, 60], [40, 60, 1]]}], {}, {\"showLink\": true, \"linkText\": \"Export to plot.ly\"})});</script>"
      ]
     },
     "metadata": {},
     "output_type": "display_data"
    }
   ],
   "source": [
    "# Einlesen der Beispieldaten (Array)\n",
    "simpleHeatmap = go.Heatmap(z=[[1, 20, 30],\n",
    "                              [33, 1, 60],\n",
    "                              [40, 60, 1]]) \n",
    "data=[simpleHeatmap]\n",
    "\n",
    "# Notwenig um die Heatmap offline darzustellen\n",
    "py.offline.iplot(data, filename='Einfache Heatmap')"
   ]
  },
  {
   "cell_type": "markdown",
   "metadata": {},
   "source": [
    "In unserem ersten Beispiel sehen wir, dass jeder eingelesene Wert als ein Farbfeld dargestellt wird. Da bei dieser einfachen Heatmap keine Argumente oder Attribute deklariert wurden, wird das Grafikobjekt nach Standardeinstellung erstellt (so ist z.B. die Farbgebung rot zu blau als Standard definert, falls keine anderen Angaben gemacht wurden). Rechts sehen wir die vorgegebene Farbskala. Hier kann abgelesen werden welche Farbe welcher Wert erhält. Das Diagramm wird zu den Daten horizontal gespiegelt dargestellt so ist der Wert 30 im Diagramm rechts unten abgebildet (graues Feld). Indem wir mit dem Cursor über die einzelnen Felder der Heatmap fahren, werden uns die einzelen Daten nochmals angezeigt."
   ]
  },
  {
   "cell_type": "markdown",
   "metadata": {},
   "source": [
    "### Heatmaps mit Beschriftungen"
   ]
  },
  {
   "cell_type": "markdown",
   "metadata": {},
   "source": [
    "#### Anzeige der einzelnen Werte\n",
    "Durch Farbgebungen und deren Anordnung ist eine Heatmap sehr Aussagekräftig. Es besteht jedoch oft die Notwenigkeit auch die eingelesenen Werte darzustellen. Im nachfolgenden Beispiel werden mit Hilfe des Befehls `create_annotated_heatmap` die zugehörigen Werte im jeweiligen Farbfeld dargestellt:"
   ]
  },
  {
   "cell_type": "code",
   "execution_count": 12,
   "metadata": {},
   "outputs": [
    {
     "data": {
      "application/vnd.plotly.v1+json": {
       "data": [
        {
         "colorscale": "Rainbow",
         "showscale": false,
         "type": "heatmap",
         "z": [
          [
           0.1,
           0.3,
           0.5,
           0.7,
           0.9
          ],
          [
           1,
           0.8,
           0.6,
           0.4,
           0.2
          ],
          [
           0.2,
           0,
           0.5,
           0.7,
           0.9
          ],
          [
           0.9,
           0.8,
           0.4,
           0.2,
           0
          ],
          [
           0.3,
           0.4,
           0.5,
           0.7,
           1
          ]
         ]
        }
       ],
       "layout": {
        "annotations": [
         {
          "font": {
           "color": "#000000"
          },
          "showarrow": false,
          "text": "0.1",
          "x": 0,
          "xref": "x1",
          "y": 0,
          "yref": "y1"
         },
         {
          "font": {
           "color": "#000000"
          },
          "showarrow": false,
          "text": "0.3",
          "x": 1,
          "xref": "x1",
          "y": 0,
          "yref": "y1"
         },
         {
          "font": {
           "color": "#000000"
          },
          "showarrow": false,
          "text": "0.5",
          "x": 2,
          "xref": "x1",
          "y": 0,
          "yref": "y1"
         },
         {
          "font": {
           "color": "#000000"
          },
          "showarrow": false,
          "text": "0.7",
          "x": 3,
          "xref": "x1",
          "y": 0,
          "yref": "y1"
         },
         {
          "font": {
           "color": "#000000"
          },
          "showarrow": false,
          "text": "0.9",
          "x": 4,
          "xref": "x1",
          "y": 0,
          "yref": "y1"
         },
         {
          "font": {
           "color": "#000000"
          },
          "showarrow": false,
          "text": "1",
          "x": 0,
          "xref": "x1",
          "y": 1,
          "yref": "y1"
         },
         {
          "font": {
           "color": "#000000"
          },
          "showarrow": false,
          "text": "0.8",
          "x": 1,
          "xref": "x1",
          "y": 1,
          "yref": "y1"
         },
         {
          "font": {
           "color": "#000000"
          },
          "showarrow": false,
          "text": "0.6",
          "x": 2,
          "xref": "x1",
          "y": 1,
          "yref": "y1"
         },
         {
          "font": {
           "color": "#000000"
          },
          "showarrow": false,
          "text": "0.4",
          "x": 3,
          "xref": "x1",
          "y": 1,
          "yref": "y1"
         },
         {
          "font": {
           "color": "#000000"
          },
          "showarrow": false,
          "text": "0.2",
          "x": 4,
          "xref": "x1",
          "y": 1,
          "yref": "y1"
         },
         {
          "font": {
           "color": "#000000"
          },
          "showarrow": false,
          "text": "0.2",
          "x": 0,
          "xref": "x1",
          "y": 2,
          "yref": "y1"
         },
         {
          "font": {
           "color": "#000000"
          },
          "showarrow": false,
          "text": "0",
          "x": 1,
          "xref": "x1",
          "y": 2,
          "yref": "y1"
         },
         {
          "font": {
           "color": "#000000"
          },
          "showarrow": false,
          "text": "0.5",
          "x": 2,
          "xref": "x1",
          "y": 2,
          "yref": "y1"
         },
         {
          "font": {
           "color": "#000000"
          },
          "showarrow": false,
          "text": "0.7",
          "x": 3,
          "xref": "x1",
          "y": 2,
          "yref": "y1"
         },
         {
          "font": {
           "color": "#000000"
          },
          "showarrow": false,
          "text": "0.9",
          "x": 4,
          "xref": "x1",
          "y": 2,
          "yref": "y1"
         },
         {
          "font": {
           "color": "#000000"
          },
          "showarrow": false,
          "text": "0.9",
          "x": 0,
          "xref": "x1",
          "y": 3,
          "yref": "y1"
         },
         {
          "font": {
           "color": "#000000"
          },
          "showarrow": false,
          "text": "0.8",
          "x": 1,
          "xref": "x1",
          "y": 3,
          "yref": "y1"
         },
         {
          "font": {
           "color": "#000000"
          },
          "showarrow": false,
          "text": "0.4",
          "x": 2,
          "xref": "x1",
          "y": 3,
          "yref": "y1"
         },
         {
          "font": {
           "color": "#000000"
          },
          "showarrow": false,
          "text": "0.2",
          "x": 3,
          "xref": "x1",
          "y": 3,
          "yref": "y1"
         },
         {
          "font": {
           "color": "#000000"
          },
          "showarrow": false,
          "text": "0",
          "x": 4,
          "xref": "x1",
          "y": 3,
          "yref": "y1"
         },
         {
          "font": {
           "color": "#000000"
          },
          "showarrow": false,
          "text": "0.3",
          "x": 0,
          "xref": "x1",
          "y": 4,
          "yref": "y1"
         },
         {
          "font": {
           "color": "#000000"
          },
          "showarrow": false,
          "text": "0.4",
          "x": 1,
          "xref": "x1",
          "y": 4,
          "yref": "y1"
         },
         {
          "font": {
           "color": "#000000"
          },
          "showarrow": false,
          "text": "0.5",
          "x": 2,
          "xref": "x1",
          "y": 4,
          "yref": "y1"
         },
         {
          "font": {
           "color": "#000000"
          },
          "showarrow": false,
          "text": "0.7",
          "x": 3,
          "xref": "x1",
          "y": 4,
          "yref": "y1"
         },
         {
          "font": {
           "color": "#000000"
          },
          "showarrow": false,
          "text": "1",
          "x": 4,
          "xref": "x1",
          "y": 4,
          "yref": "y1"
         }
        ],
        "xaxis": {
         "gridcolor": "rgb(0, 0, 0)",
         "showticklabels": false,
         "side": "top",
         "ticks": ""
        },
        "yaxis": {
         "showticklabels": false,
         "ticks": "",
         "ticksuffix": "  "
        }
       }
      },
      "text/html": [
       "<div id=\"ff5c1245-6b05-4ffd-b29f-7bb296fe6b04\" style=\"height: 525px; width: 100%;\" class=\"plotly-graph-div\"></div><script type=\"text/javascript\">require([\"plotly\"], function(Plotly) { window.PLOTLYENV=window.PLOTLYENV || {};window.PLOTLYENV.BASE_URL=\"https://plot.ly\";Plotly.newPlot(\"ff5c1245-6b05-4ffd-b29f-7bb296fe6b04\", [{\"type\": \"heatmap\", \"z\": [[0.1, 0.3, 0.5, 0.7, 0.9], [1, 0.8, 0.6, 0.4, 0.2], [0.2, 0, 0.5, 0.7, 0.9], [0.9, 0.8, 0.4, 0.2, 0], [0.3, 0.4, 0.5, 0.7, 1]], \"colorscale\": \"Rainbow\", \"showscale\": false}], {\"annotations\": [{\"text\": \"0.1\", \"x\": 0, \"y\": 0, \"xref\": \"x1\", \"yref\": \"y1\", \"font\": {\"color\": \"#000000\"}, \"showarrow\": false}, {\"text\": \"0.3\", \"x\": 1, \"y\": 0, \"xref\": \"x1\", \"yref\": \"y1\", \"font\": {\"color\": \"#000000\"}, \"showarrow\": false}, {\"text\": \"0.5\", \"x\": 2, \"y\": 0, \"xref\": \"x1\", \"yref\": \"y1\", \"font\": {\"color\": \"#000000\"}, \"showarrow\": false}, {\"text\": \"0.7\", \"x\": 3, \"y\": 0, \"xref\": \"x1\", \"yref\": \"y1\", \"font\": {\"color\": \"#000000\"}, \"showarrow\": false}, {\"text\": \"0.9\", \"x\": 4, \"y\": 0, \"xref\": \"x1\", \"yref\": \"y1\", \"font\": {\"color\": \"#000000\"}, \"showarrow\": false}, {\"text\": \"1\", \"x\": 0, \"y\": 1, \"xref\": \"x1\", \"yref\": \"y1\", \"font\": {\"color\": \"#000000\"}, \"showarrow\": false}, {\"text\": \"0.8\", \"x\": 1, \"y\": 1, \"xref\": \"x1\", \"yref\": \"y1\", \"font\": {\"color\": \"#000000\"}, \"showarrow\": false}, {\"text\": \"0.6\", \"x\": 2, \"y\": 1, \"xref\": \"x1\", \"yref\": \"y1\", \"font\": {\"color\": \"#000000\"}, \"showarrow\": false}, {\"text\": \"0.4\", \"x\": 3, \"y\": 1, \"xref\": \"x1\", \"yref\": \"y1\", \"font\": {\"color\": \"#000000\"}, \"showarrow\": false}, {\"text\": \"0.2\", \"x\": 4, \"y\": 1, \"xref\": \"x1\", \"yref\": \"y1\", \"font\": {\"color\": \"#000000\"}, \"showarrow\": false}, {\"text\": \"0.2\", \"x\": 0, \"y\": 2, \"xref\": \"x1\", \"yref\": \"y1\", \"font\": {\"color\": \"#000000\"}, \"showarrow\": false}, {\"text\": \"0\", \"x\": 1, \"y\": 2, \"xref\": \"x1\", \"yref\": \"y1\", \"font\": {\"color\": \"#000000\"}, \"showarrow\": false}, {\"text\": \"0.5\", \"x\": 2, \"y\": 2, \"xref\": \"x1\", \"yref\": \"y1\", \"font\": {\"color\": \"#000000\"}, \"showarrow\": false}, {\"text\": \"0.7\", \"x\": 3, \"y\": 2, \"xref\": \"x1\", \"yref\": \"y1\", \"font\": {\"color\": \"#000000\"}, \"showarrow\": false}, {\"text\": \"0.9\", \"x\": 4, \"y\": 2, \"xref\": \"x1\", \"yref\": \"y1\", \"font\": {\"color\": \"#000000\"}, \"showarrow\": false}, {\"text\": \"0.9\", \"x\": 0, \"y\": 3, \"xref\": \"x1\", \"yref\": \"y1\", \"font\": {\"color\": \"#000000\"}, \"showarrow\": false}, {\"text\": \"0.8\", \"x\": 1, \"y\": 3, \"xref\": \"x1\", \"yref\": \"y1\", \"font\": {\"color\": \"#000000\"}, \"showarrow\": false}, {\"text\": \"0.4\", \"x\": 2, \"y\": 3, \"xref\": \"x1\", \"yref\": \"y1\", \"font\": {\"color\": \"#000000\"}, \"showarrow\": false}, {\"text\": \"0.2\", \"x\": 3, \"y\": 3, \"xref\": \"x1\", \"yref\": \"y1\", \"font\": {\"color\": \"#000000\"}, \"showarrow\": false}, {\"text\": \"0\", \"x\": 4, \"y\": 3, \"xref\": \"x1\", \"yref\": \"y1\", \"font\": {\"color\": \"#000000\"}, \"showarrow\": false}, {\"text\": \"0.3\", \"x\": 0, \"y\": 4, \"xref\": \"x1\", \"yref\": \"y1\", \"font\": {\"color\": \"#000000\"}, \"showarrow\": false}, {\"text\": \"0.4\", \"x\": 1, \"y\": 4, \"xref\": \"x1\", \"yref\": \"y1\", \"font\": {\"color\": \"#000000\"}, \"showarrow\": false}, {\"text\": \"0.5\", \"x\": 2, \"y\": 4, \"xref\": \"x1\", \"yref\": \"y1\", \"font\": {\"color\": \"#000000\"}, \"showarrow\": false}, {\"text\": \"0.7\", \"x\": 3, \"y\": 4, \"xref\": \"x1\", \"yref\": \"y1\", \"font\": {\"color\": \"#000000\"}, \"showarrow\": false}, {\"text\": \"1\", \"x\": 4, \"y\": 4, \"xref\": \"x1\", \"yref\": \"y1\", \"font\": {\"color\": \"#000000\"}, \"showarrow\": false}], \"xaxis\": {\"ticks\": \"\", \"side\": \"top\", \"gridcolor\": \"rgb(0, 0, 0)\", \"showticklabels\": false}, \"yaxis\": {\"ticks\": \"\", \"ticksuffix\": \"  \", \"showticklabels\": false}}, {\"showLink\": true, \"linkText\": \"Export to plot.ly\"})});</script>"
      ],
      "text/vnd.plotly.v1+html": [
       "<div id=\"ff5c1245-6b05-4ffd-b29f-7bb296fe6b04\" style=\"height: 525px; width: 100%;\" class=\"plotly-graph-div\"></div><script type=\"text/javascript\">require([\"plotly\"], function(Plotly) { window.PLOTLYENV=window.PLOTLYENV || {};window.PLOTLYENV.BASE_URL=\"https://plot.ly\";Plotly.newPlot(\"ff5c1245-6b05-4ffd-b29f-7bb296fe6b04\", [{\"type\": \"heatmap\", \"z\": [[0.1, 0.3, 0.5, 0.7, 0.9], [1, 0.8, 0.6, 0.4, 0.2], [0.2, 0, 0.5, 0.7, 0.9], [0.9, 0.8, 0.4, 0.2, 0], [0.3, 0.4, 0.5, 0.7, 1]], \"colorscale\": \"Rainbow\", \"showscale\": false}], {\"annotations\": [{\"text\": \"0.1\", \"x\": 0, \"y\": 0, \"xref\": \"x1\", \"yref\": \"y1\", \"font\": {\"color\": \"#000000\"}, \"showarrow\": false}, {\"text\": \"0.3\", \"x\": 1, \"y\": 0, \"xref\": \"x1\", \"yref\": \"y1\", \"font\": {\"color\": \"#000000\"}, \"showarrow\": false}, {\"text\": \"0.5\", \"x\": 2, \"y\": 0, \"xref\": \"x1\", \"yref\": \"y1\", \"font\": {\"color\": \"#000000\"}, \"showarrow\": false}, {\"text\": \"0.7\", \"x\": 3, \"y\": 0, \"xref\": \"x1\", \"yref\": \"y1\", \"font\": {\"color\": \"#000000\"}, \"showarrow\": false}, {\"text\": \"0.9\", \"x\": 4, \"y\": 0, \"xref\": \"x1\", \"yref\": \"y1\", \"font\": {\"color\": \"#000000\"}, \"showarrow\": false}, {\"text\": \"1\", \"x\": 0, \"y\": 1, \"xref\": \"x1\", \"yref\": \"y1\", \"font\": {\"color\": \"#000000\"}, \"showarrow\": false}, {\"text\": \"0.8\", \"x\": 1, \"y\": 1, \"xref\": \"x1\", \"yref\": \"y1\", \"font\": {\"color\": \"#000000\"}, \"showarrow\": false}, {\"text\": \"0.6\", \"x\": 2, \"y\": 1, \"xref\": \"x1\", \"yref\": \"y1\", \"font\": {\"color\": \"#000000\"}, \"showarrow\": false}, {\"text\": \"0.4\", \"x\": 3, \"y\": 1, \"xref\": \"x1\", \"yref\": \"y1\", \"font\": {\"color\": \"#000000\"}, \"showarrow\": false}, {\"text\": \"0.2\", \"x\": 4, \"y\": 1, \"xref\": \"x1\", \"yref\": \"y1\", \"font\": {\"color\": \"#000000\"}, \"showarrow\": false}, {\"text\": \"0.2\", \"x\": 0, \"y\": 2, \"xref\": \"x1\", \"yref\": \"y1\", \"font\": {\"color\": \"#000000\"}, \"showarrow\": false}, {\"text\": \"0\", \"x\": 1, \"y\": 2, \"xref\": \"x1\", \"yref\": \"y1\", \"font\": {\"color\": \"#000000\"}, \"showarrow\": false}, {\"text\": \"0.5\", \"x\": 2, \"y\": 2, \"xref\": \"x1\", \"yref\": \"y1\", \"font\": {\"color\": \"#000000\"}, \"showarrow\": false}, {\"text\": \"0.7\", \"x\": 3, \"y\": 2, \"xref\": \"x1\", \"yref\": \"y1\", \"font\": {\"color\": \"#000000\"}, \"showarrow\": false}, {\"text\": \"0.9\", \"x\": 4, \"y\": 2, \"xref\": \"x1\", \"yref\": \"y1\", \"font\": {\"color\": \"#000000\"}, \"showarrow\": false}, {\"text\": \"0.9\", \"x\": 0, \"y\": 3, \"xref\": \"x1\", \"yref\": \"y1\", \"font\": {\"color\": \"#000000\"}, \"showarrow\": false}, {\"text\": \"0.8\", \"x\": 1, \"y\": 3, \"xref\": \"x1\", \"yref\": \"y1\", \"font\": {\"color\": \"#000000\"}, \"showarrow\": false}, {\"text\": \"0.4\", \"x\": 2, \"y\": 3, \"xref\": \"x1\", \"yref\": \"y1\", \"font\": {\"color\": \"#000000\"}, \"showarrow\": false}, {\"text\": \"0.2\", \"x\": 3, \"y\": 3, \"xref\": \"x1\", \"yref\": \"y1\", \"font\": {\"color\": \"#000000\"}, \"showarrow\": false}, {\"text\": \"0\", \"x\": 4, \"y\": 3, \"xref\": \"x1\", \"yref\": \"y1\", \"font\": {\"color\": \"#000000\"}, \"showarrow\": false}, {\"text\": \"0.3\", \"x\": 0, \"y\": 4, \"xref\": \"x1\", \"yref\": \"y1\", \"font\": {\"color\": \"#000000\"}, \"showarrow\": false}, {\"text\": \"0.4\", \"x\": 1, \"y\": 4, \"xref\": \"x1\", \"yref\": \"y1\", \"font\": {\"color\": \"#000000\"}, \"showarrow\": false}, {\"text\": \"0.5\", \"x\": 2, \"y\": 4, \"xref\": \"x1\", \"yref\": \"y1\", \"font\": {\"color\": \"#000000\"}, \"showarrow\": false}, {\"text\": \"0.7\", \"x\": 3, \"y\": 4, \"xref\": \"x1\", \"yref\": \"y1\", \"font\": {\"color\": \"#000000\"}, \"showarrow\": false}, {\"text\": \"1\", \"x\": 4, \"y\": 4, \"xref\": \"x1\", \"yref\": \"y1\", \"font\": {\"color\": \"#000000\"}, \"showarrow\": false}], \"xaxis\": {\"ticks\": \"\", \"side\": \"top\", \"gridcolor\": \"rgb(0, 0, 0)\", \"showticklabels\": false}, \"yaxis\": {\"ticks\": \"\", \"ticksuffix\": \"  \", \"showticklabels\": false}}, {\"showLink\": true, \"linkText\": \"Export to plot.ly\"})});</script>"
      ]
     },
     "metadata": {},
     "output_type": "display_data"
    }
   ],
   "source": [
    "# Einlesen der Beispieldaten eines 5-dimensionalen Arrays\n",
    "z = [[.1, .3, .5, .7, .9],  \n",
    "     [1, .8, .6, .4, .2],\n",
    "     [.2, 0, .5, .7, .9],  \n",
    "     [.9, .8, .4, .2, 0],\n",
    "     [.3, .4, .5, .7, 1]] \n",
    "\n",
    "# Mit diesem Befehl werden die farblich dargestellten Werte zusätzlich im Feld angezeigt\n",
    "fig = ff.create_annotated_heatmap(z, colorscale='Rainbow')\n",
    "\n",
    "py.offline.iplot(fig, filename='Heatmap mit Wert-Anzeige')"
   ]
  },
  {
   "cell_type": "markdown",
   "metadata": {},
   "source": [
    "In diesem Beispiel hat jedes Feld seinen Wert als Beschriftung erhalten. \n",
    "\n",
    ">Parametererklärung:\n",
    "- `colorscale`: Legt die Farbfläche fest. Die `colorscale` muss ein Array sein, dafür ist es erforderlich einen niedrigsten (0) und einen höchsten (1) Wert zu vergeben. Als Alternative existieren vordefinierte Farbpaletten, die hier ebenfalls benutzt werden können wie z.B. 'Rainbow' (s.o.)"
   ]
  },
  {
   "cell_type": "markdown",
   "metadata": {},
   "source": [
    "#### Beschriftung der Achsen"
   ]
  },
  {
   "cell_type": "markdown",
   "metadata": {},
   "source": [
    "Die Achsenbeschriftung erleichtert die Interpretation einer Heatmap. Im folgenden Beispiel geht es um die Spielstände von 3 Teams (Team A, B und C) und deren Ergebnis nach 3 geleisteten Spielen:"
   ]
  },
  {
   "cell_type": "code",
   "execution_count": 13,
   "metadata": {
    "scrolled": false
   },
   "outputs": [
    {
     "data": {
      "application/vnd.plotly.v1+json": {
       "data": [
        {
         "colorscale": [
          [
           0,
           "#7CFC00"
          ],
          [
           1,
           "#878787"
          ]
         ],
         "showscale": false,
         "type": "heatmap",
         "x": [
          "Team A",
          "Team B",
          "Team C"
         ],
         "y": [
          "Game Three",
          "Game Two",
          "Game One"
         ],
         "z": [
          [
           0.1,
           0.5,
           1
          ],
          [
           1,
           0.1,
           0.1
          ],
          [
           0.1,
           0.5,
           0.5
          ]
         ]
        }
       ],
       "layout": {
        "annotations": [
         {
          "font": {
           "color": "#FFFFFF"
          },
          "showarrow": false,
          "text": "Win",
          "x": "Team A",
          "xref": "x1",
          "y": "Game Three",
          "yref": "y1"
         },
         {
          "font": {
           "color": "#FFFFFF"
          },
          "showarrow": false,
          "text": "Ud.",
          "x": "Team B",
          "xref": "x1",
          "y": "Game Three",
          "yref": "y1"
         },
         {
          "font": {
           "color": "#FFFFFF"
          },
          "showarrow": false,
          "text": "Lose",
          "x": "Team C",
          "xref": "x1",
          "y": "Game Three",
          "yref": "y1"
         },
         {
          "font": {
           "color": "#FFFFFF"
          },
          "showarrow": false,
          "text": "Lose",
          "x": "Team A",
          "xref": "x1",
          "y": "Game Two",
          "yref": "y1"
         },
         {
          "font": {
           "color": "#FFFFFF"
          },
          "showarrow": false,
          "text": "Win",
          "x": "Team B",
          "xref": "x1",
          "y": "Game Two",
          "yref": "y1"
         },
         {
          "font": {
           "color": "#FFFFFF"
          },
          "showarrow": false,
          "text": "Win",
          "x": "Team C",
          "xref": "x1",
          "y": "Game Two",
          "yref": "y1"
         },
         {
          "font": {
           "color": "#FFFFFF"
          },
          "showarrow": false,
          "text": "Win",
          "x": "Team A",
          "xref": "x1",
          "y": "Game One",
          "yref": "y1"
         },
         {
          "font": {
           "color": "#FFFFFF"
          },
          "showarrow": false,
          "text": "Ud.",
          "x": "Team B",
          "xref": "x1",
          "y": "Game One",
          "yref": "y1"
         },
         {
          "font": {
           "color": "#FFFFFF"
          },
          "showarrow": false,
          "text": "Ud.",
          "x": "Team C",
          "xref": "x1",
          "y": "Game One",
          "yref": "y1"
         }
        ],
        "xaxis": {
         "dtick": 1,
         "gridcolor": "rgb(0, 0, 0)",
         "side": "top",
         "ticks": ""
        },
        "yaxis": {
         "dtick": 1,
         "ticks": "",
         "ticksuffix": "  "
        }
       }
      },
      "text/html": [
       "<div id=\"9d77208d-3966-4172-a228-92b5665edb67\" style=\"height: 525px; width: 100%;\" class=\"plotly-graph-div\"></div><script type=\"text/javascript\">require([\"plotly\"], function(Plotly) { window.PLOTLYENV=window.PLOTLYENV || {};window.PLOTLYENV.BASE_URL=\"https://plot.ly\";Plotly.newPlot(\"9d77208d-3966-4172-a228-92b5665edb67\", [{\"type\": \"heatmap\", \"z\": [[0.1, 0.5, 1.0], [1.0, 0.1, 0.1], [0.1, 0.5, 0.5]], \"x\": [\"Team A\", \"Team B\", \"Team C\"], \"y\": [\"Game Three\", \"Game Two\", \"Game One\"], \"colorscale\": [[0, \"#7CFC00\"], [1, \"#878787\"]], \"showscale\": false}], {\"annotations\": [{\"text\": \"Win\", \"x\": \"Team A\", \"y\": \"Game Three\", \"xref\": \"x1\", \"yref\": \"y1\", \"font\": {\"color\": \"#FFFFFF\"}, \"showarrow\": false}, {\"text\": \"Ud.\", \"x\": \"Team B\", \"y\": \"Game Three\", \"xref\": \"x1\", \"yref\": \"y1\", \"font\": {\"color\": \"#FFFFFF\"}, \"showarrow\": false}, {\"text\": \"Lose\", \"x\": \"Team C\", \"y\": \"Game Three\", \"xref\": \"x1\", \"yref\": \"y1\", \"font\": {\"color\": \"#FFFFFF\"}, \"showarrow\": false}, {\"text\": \"Lose\", \"x\": \"Team A\", \"y\": \"Game Two\", \"xref\": \"x1\", \"yref\": \"y1\", \"font\": {\"color\": \"#FFFFFF\"}, \"showarrow\": false}, {\"text\": \"Win\", \"x\": \"Team B\", \"y\": \"Game Two\", \"xref\": \"x1\", \"yref\": \"y1\", \"font\": {\"color\": \"#FFFFFF\"}, \"showarrow\": false}, {\"text\": \"Win\", \"x\": \"Team C\", \"y\": \"Game Two\", \"xref\": \"x1\", \"yref\": \"y1\", \"font\": {\"color\": \"#FFFFFF\"}, \"showarrow\": false}, {\"text\": \"Win\", \"x\": \"Team A\", \"y\": \"Game One\", \"xref\": \"x1\", \"yref\": \"y1\", \"font\": {\"color\": \"#FFFFFF\"}, \"showarrow\": false}, {\"text\": \"Ud.\", \"x\": \"Team B\", \"y\": \"Game One\", \"xref\": \"x1\", \"yref\": \"y1\", \"font\": {\"color\": \"#FFFFFF\"}, \"showarrow\": false}, {\"text\": \"Ud.\", \"x\": \"Team C\", \"y\": \"Game One\", \"xref\": \"x1\", \"yref\": \"y1\", \"font\": {\"color\": \"#FFFFFF\"}, \"showarrow\": false}], \"xaxis\": {\"ticks\": \"\", \"dtick\": 1, \"side\": \"top\", \"gridcolor\": \"rgb(0, 0, 0)\"}, \"yaxis\": {\"ticks\": \"\", \"dtick\": 1, \"ticksuffix\": \"  \"}}, {\"showLink\": true, \"linkText\": \"Export to plot.ly\"})});</script>"
      ],
      "text/vnd.plotly.v1+html": [
       "<div id=\"9d77208d-3966-4172-a228-92b5665edb67\" style=\"height: 525px; width: 100%;\" class=\"plotly-graph-div\"></div><script type=\"text/javascript\">require([\"plotly\"], function(Plotly) { window.PLOTLYENV=window.PLOTLYENV || {};window.PLOTLYENV.BASE_URL=\"https://plot.ly\";Plotly.newPlot(\"9d77208d-3966-4172-a228-92b5665edb67\", [{\"type\": \"heatmap\", \"z\": [[0.1, 0.5, 1.0], [1.0, 0.1, 0.1], [0.1, 0.5, 0.5]], \"x\": [\"Team A\", \"Team B\", \"Team C\"], \"y\": [\"Game Three\", \"Game Two\", \"Game One\"], \"colorscale\": [[0, \"#7CFC00\"], [1, \"#878787\"]], \"showscale\": false}], {\"annotations\": [{\"text\": \"Win\", \"x\": \"Team A\", \"y\": \"Game Three\", \"xref\": \"x1\", \"yref\": \"y1\", \"font\": {\"color\": \"#FFFFFF\"}, \"showarrow\": false}, {\"text\": \"Ud.\", \"x\": \"Team B\", \"y\": \"Game Three\", \"xref\": \"x1\", \"yref\": \"y1\", \"font\": {\"color\": \"#FFFFFF\"}, \"showarrow\": false}, {\"text\": \"Lose\", \"x\": \"Team C\", \"y\": \"Game Three\", \"xref\": \"x1\", \"yref\": \"y1\", \"font\": {\"color\": \"#FFFFFF\"}, \"showarrow\": false}, {\"text\": \"Lose\", \"x\": \"Team A\", \"y\": \"Game Two\", \"xref\": \"x1\", \"yref\": \"y1\", \"font\": {\"color\": \"#FFFFFF\"}, \"showarrow\": false}, {\"text\": \"Win\", \"x\": \"Team B\", \"y\": \"Game Two\", \"xref\": \"x1\", \"yref\": \"y1\", \"font\": {\"color\": \"#FFFFFF\"}, \"showarrow\": false}, {\"text\": \"Win\", \"x\": \"Team C\", \"y\": \"Game Two\", \"xref\": \"x1\", \"yref\": \"y1\", \"font\": {\"color\": \"#FFFFFF\"}, \"showarrow\": false}, {\"text\": \"Win\", \"x\": \"Team A\", \"y\": \"Game One\", \"xref\": \"x1\", \"yref\": \"y1\", \"font\": {\"color\": \"#FFFFFF\"}, \"showarrow\": false}, {\"text\": \"Ud.\", \"x\": \"Team B\", \"y\": \"Game One\", \"xref\": \"x1\", \"yref\": \"y1\", \"font\": {\"color\": \"#FFFFFF\"}, \"showarrow\": false}, {\"text\": \"Ud.\", \"x\": \"Team C\", \"y\": \"Game One\", \"xref\": \"x1\", \"yref\": \"y1\", \"font\": {\"color\": \"#FFFFFF\"}, \"showarrow\": false}], \"xaxis\": {\"ticks\": \"\", \"dtick\": 1, \"side\": \"top\", \"gridcolor\": \"rgb(0, 0, 0)\"}, \"yaxis\": {\"ticks\": \"\", \"dtick\": 1, \"ticksuffix\": \"  \"}}, {\"showLink\": true, \"linkText\": \"Export to plot.ly\"})});</script>"
      ]
     },
     "metadata": {},
     "output_type": "display_data"
    }
   ],
   "source": [
    "# Einlesen der Werte\n",
    "z = [[.1, .5, 1.0],  \n",
    "     [1.0, .1, .1],\n",
    "     [.1, .5, .5]]\n",
    "\n",
    "# kategorische Beschriftung der X-Achse\n",
    "x = ['Team A', 'Team B', 'Team C'] \n",
    "\n",
    "# kategorische Beschriftung der Y-Achse\n",
    "y = ['Game Three', 'Game Two', 'Game One'] \n",
    "\n",
    "# Beschriftung der einzelnen Farbfelder\n",
    "z_text = [['Win', 'Ud.', 'Lose'],  \n",
    "          ['Lose', 'Win', 'Win'],\n",
    "          ['Win', 'Ud.', 'Ud.']]\n",
    "\n",
    "# Hier wird die Farbscala durch den Farb-Hexa-Code festgelegt:\n",
    "# ->Beginn bei 0 = grün und endet bei 1 = grau\n",
    "colorscale = [[0, '#7CFC00'], [1, '#878787']] \n",
    "                                       \n",
    "# Heatmap wird aus den Daten und unter Berücksichtigung der deklarierten Parameter geplottet\n",
    "fig = ff.create_annotated_heatmap(z, x=x, y=y, annotation_text=z_text,colorscale=colorscale)\n",
    "py.offline.iplot(fig, filename='annotated_heatmap_text')"
   ]
  },
  {
   "cell_type": "markdown",
   "metadata": {},
   "source": [
    "In dieser zweiten Heatmap haben wir den Achsen eine Beschriftung mitgegeben. Dadurch ist es möglich diese wie eine Art Tabelle zu lesen."
   ]
  },
  {
   "cell_type": "markdown",
   "metadata": {},
   "source": [
    "Die Erstellung komplexer Diagramme ist mit Python also kein Problem. Durch die große Anzahl an zur Verfügung stehenden Libraries vereinfachen sie es dem Nutzer in einfacher Syntax komplexe Diagramme zu plotten. Durch die vielen Einstellungsmöglichkeiten sind sie außerdem sehr vielfältig einsetzbar.\n"
   ]
  },
  {
   "cell_type": "markdown",
   "metadata": {},
   "source": [
    "### Quellen:\n",
    "**Quellen in Bezug auf die Thematik Dendrogramme:**\n",
    "- __https://www-m9.ma.tum.de/material/felix-klein/clustering/Methoden/Hierarchisches_Clustern.php__\n",
    "- __https://joernhees.de/blog/2015/08/26/scipy-hierarchical-clustering-and-dendrogram-tutorial/__\n",
    "- __https://de.wikipedia.org/wiki/Hierarchische_Clusteranalyse__\n",
    "\n",
    "**Quellen in Bezug auf die Thematik Heatmaps:**\n",
    "- __https://plot.ly/python/heatmaps/__\n",
    "- __http://nbviewer.jupyter.org/github/rasbt/pattern_classification/blob/master/clustering/hierarchical/clust_complete_linkage.ipynb__\n",
    "- __https://stackoverflow.com/questions/2369492/generate-a-heatmap-in-matplotlib-using-a-scatter-data-set__"
   ]
  }
 ],
 "metadata": {
  "kernelspec": {
   "display_name": "Python 3",
   "language": "python",
   "name": "python3"
  },
  "language_info": {
   "codemirror_mode": {
    "name": "ipython",
    "version": 3
   },
   "file_extension": ".py",
   "mimetype": "text/x-python",
   "name": "python",
   "nbconvert_exporter": "python",
   "pygments_lexer": "ipython3",
   "version": "3.6.0"
  }
 },
 "nbformat": 4,
 "nbformat_minor": 2
}
